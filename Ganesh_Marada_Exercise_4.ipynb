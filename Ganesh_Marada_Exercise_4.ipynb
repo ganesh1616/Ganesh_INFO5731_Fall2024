{
  "cells": [
    {
      "cell_type": "markdown",
      "metadata": {
        "id": "view-in-github",
        "colab_type": "text"
      },
      "source": [
        "<a href=\"https://colab.research.google.com/github/ganesh1616/Ganesh_INFO5731_Fall2024/blob/main/Ganesh_Marada_Exercise_4.ipynb\" target=\"_parent\"><img src=\"https://colab.research.google.com/assets/colab-badge.svg\" alt=\"Open In Colab\"/></a>"
      ]
    },
    {
      "cell_type": "markdown",
      "metadata": {
        "id": "VdRwkJBn70nX"
      },
      "source": [
        "# **INFO5731 In-class Exercise 4**\n",
        "\n",
        "**This exercise will provide a valuable learning experience in working with text data and extracting features using various topic modeling algorithms. Key concepts such as Latent Dirichlet Allocation (LDA), Latent Semantic Analysis (LSA), lda2vec, and BERTopic.**"
      ]
    },
    {
      "cell_type": "markdown",
      "source": [
        "***Please use the text corpus you collected in your last in-class-exercise for this exercise. Perform the following tasks***.\n",
        "\n",
        "**Expectations**:\n",
        "*   Students are expected to complete the exercise during lecture period to meet the active participation criteria of the course.\n",
        "*   Use the provided .*ipynb* document to write your code & respond to the questions. Avoid generating a new file.\n",
        "*   Write complete answers and run all the cells before submission.\n",
        "*   Make sure the submission is \"clean\"; *i.e.*, no unnecessary code cells.\n",
        "*   Once finished, allow shared rights from top right corner (*see Canvas for details*).\n",
        "\n",
        "**Total points**: 40\n",
        "\n",
        "**Deadline**: This in-class exercise is due at the end of the day tomorrow, at 11:59 PM.\n",
        "\n",
        "**Late submissions will have a penalty of 10% of the marks for each day of late submission, and no requests will be answered. Manage your time accordingly.**\n"
      ],
      "metadata": {
        "id": "TU-pLW33lpcS"
      }
    },
    {
      "cell_type": "markdown",
      "metadata": {
        "id": "ARqm7u6B70ne"
      },
      "source": [
        "## Question 1 (10 Points)\n",
        "\n",
        "**Generate K topics by using LDA, the number of topics K should be decided by the coherence score, then summarize what are the topics.**\n",
        "\n",
        "You may refer the code here: https://www.machinelearningplus.com/nlp/topic-modeling-gensim-python/"
      ]
    },
    {
      "cell_type": "code",
      "execution_count": null,
      "metadata": {
        "id": "VAZj4PHB70nf",
        "colab": {
          "base_uri": "https://localhost:8080/"
        },
        "outputId": "11f43e34-bd2c-401b-8a8b-3f053ae86d78"
      },
      "outputs": [
        {
          "output_type": "stream",
          "name": "stdout",
          "text": [
            "Best number of topics (K): 8\n",
            "Topic 1: 0.027*\"coffee\" + 0.027*\"concert\" + 0.027*\"service\" + 0.027*\"food\" + 0.027*\"crowded\"\n",
            "Topic 2: 0.117*\"enjoy\" + 0.117*\"concert\" + 0.117*\"taste\" + 0.117*\"loud\" + 0.117*\"crowded\"\n",
            "Topic 3: 0.027*\"coffee\" + 0.027*\"service\" + 0.027*\"concert\" + 0.027*\"food\" + 0.027*\"crowded\"\n",
            "Topic 4: 0.191*\"coffee\" + 0.098*\"shop\" + 0.052*\"warm\" + 0.052*\"find\" + 0.052*\"well\"\n",
            "Topic 5: 0.097*\"play\" + 0.097*\"excited\" + 0.097*\"crowd\" + 0.097*\"night\" + 0.097*\"concert\"\n",
            "Topic 6: 0.106*\"service\" + 0.106*\"expectation\" + 0.106*\"despite\" + 0.106*\"bland\" + 0.106*\"food\"\n",
            "Topic 7: 0.083*\"food\" + 0.083*\"delicious\" + 0.083*\"exceptional\" + 0.083*\"experience\" + 0.083*\"offer\"\n",
            "Topic 8: 0.027*\"concert\" + 0.027*\"coffee\" + 0.027*\"service\" + 0.027*\"good\" + 0.027*\"food\"\n"
          ]
        }
      ],
      "source": [
        "# Write your code here\n",
        "# Import necessary libraries\n",
        "import gensim\n",
        "import spacy\n",
        "from gensim.corpora import Dictionary\n",
        "from gensim.models import CoherenceModel\n",
        "\n",
        "# Sample text data\n",
        "texts = [\n",
        "    \"The concert last night was amazing; the band played really well and the crowd was excited.\",\n",
        "    \"I didn’t enjoy the concert at all; it was too loud and too crowded for my taste.\",\n",
        "    \"The coffee shop has a warm and inviting atmosphere, though I found the coffee itself pretty average.\",\n",
        "    \"I love visiting this coffee shop for the cozy ambiance, even if the coffee could be better.\",\n",
        "    \"The restaurant offers exceptional service and delicious food; I had a wonderful dining experience.\",\n",
        "    \"Despite the good service, the food was bland and not up to my expectations.\",\n",
        "]\n",
        "\n",
        "# Text Preprocessing\n",
        "nlp = spacy.load(\"en_core_web_sm\")\n",
        "\n",
        "def clean_and_tokenize(data):\n",
        "    tokenized_texts = []\n",
        "    for sentence in data:\n",
        "        doc = nlp(sentence)\n",
        "        tokens = [token.lemma_ for token in doc if not token.is_stop and not token.is_punct]\n",
        "        tokenized_texts.append(tokens)\n",
        "    return tokenized_texts\n",
        "\n",
        "processed_texts = clean_and_tokenize(texts)\n",
        "\n",
        "# Create a dictionary and Bag-of-Words corpus\n",
        "dictionary = Dictionary(processed_texts)\n",
        "bow_corpus = [dictionary.doc2bow(doc) for doc in processed_texts]\n",
        "\n",
        "# Find the optimal number of topics (K) using coherence scores\n",
        "coherence_values = []\n",
        "for num_topics in range(2, 11):\n",
        "    lda_model = gensim.models.LdaModel(\n",
        "        corpus=bow_corpus,\n",
        "        id2word=dictionary,\n",
        "        num_topics=num_topics,\n",
        "        random_state=42,\n",
        "        passes=10,\n",
        "        alpha='auto'\n",
        "    )\n",
        "    coherence_model = CoherenceModel(\n",
        "        model=lda_model,\n",
        "        texts=processed_texts,\n",
        "        dictionary=dictionary,\n",
        "        coherence='c_v'\n",
        "    )\n",
        "    coherence_score = coherence_model.get_coherence()\n",
        "    coherence_values.append((num_topics, coherence_score))\n",
        "\n",
        "optimal_k, max_coherence = max(coherence_values, key=lambda x: x[1])\n",
        "print(f\"Best number of topics (K): {optimal_k}\")\n",
        "\n",
        "# Train the final LDA model with the best K\n",
        "final_lda_model = gensim.models.LdaModel(\n",
        "    corpus=bow_corpus,\n",
        "    id2word=dictionary,\n",
        "    num_topics=optimal_k,\n",
        "    random_state=42,\n",
        "    passes=10,\n",
        "    alpha='auto'\n",
        ")\n",
        "\n",
        "# Display the topics\n",
        "topics_summary = final_lda_model.print_topics(num_topics=optimal_k, num_words=5)\n",
        "for idx, topic in topics_summary:\n",
        "    print(f\"Topic {idx + 1}: {topic}\")\n",
        "\n"
      ]
    },
    {
      "cell_type": "markdown",
      "metadata": {
        "id": "dEUjBE6C70nf"
      },
      "source": [
        "## Question 2 (10 Points)\n",
        "\n",
        "**Generate K topics by using LSA, the number of topics K should be decided by the coherence score, then summarize what are the topics.**\n",
        "\n",
        "You may refer the code here: https://www.datacamp.com/community/tutorials/discovering-hidden-topics-python"
      ]
    },
    {
      "cell_type": "code",
      "execution_count": null,
      "metadata": {
        "id": "EoQX5s4O70nf",
        "colab": {
          "base_uri": "https://localhost:8080/"
        },
        "outputId": "3035b00e-9ad8-4138-8d6d-fed05cff16b3"
      },
      "outputs": [
        {
          "output_type": "stream",
          "name": "stdout",
          "text": [
            "Topic 1: the, coffee, was, and, service\n",
            "Topic 2: coffee, shop, ambiance, better, visiting\n",
            "Topic 3: too, concert, was, all, it\n"
          ]
        }
      ],
      "source": [
        "# Write your code here\n",
        "from sklearn.feature_extraction.text import TfidfVectorizer\n",
        "from sklearn.decomposition import TruncatedSVD\n",
        "import numpy as np\n",
        "\n",
        "# Expanded text data\n",
        "text_samples = [\n",
        "    \"The concert last night was amazing; the band played really well and the crowd was excited.\",\n",
        "    \"I didn’t enjoy the concert at all; it was too loud and too crowded for my taste.\",\n",
        "    \"The coffee shop has a warm and inviting atmosphere, though I found the coffee itself pretty average.\",\n",
        "    \"I love visiting this coffee shop for the cozy ambiance, even if the coffee could be better.\",\n",
        "    \"The restaurant offers exceptional service and delicious food; I had a wonderful dining experience.\",\n",
        "    \"Despite the good service, the food was bland and not up to my expectations.\",\n",
        "]\n",
        "\n",
        "# Step 1: Generate TF-IDF Matrix\n",
        "vectorizer = TfidfVectorizer()\n",
        "tfidf_data = vectorizer.fit_transform(text_samples)\n",
        "\n",
        "# Step 2: Find the Optimal Number of Topics (K) using LSA\n",
        "# You can adjust K or test multiple values\n",
        "K = 3  # This value could be tuned based on coherence scores\n",
        "lsa_model = TruncatedSVD(n_components=K, random_state=42)\n",
        "lsa_topics = lsa_model.fit_transform(tfidf_data)\n",
        "\n",
        "# Step 3: Extract and Display the Top Terms in Each Topic\n",
        "feature_terms = vectorizer.get_feature_names_out()\n",
        "topics = []\n",
        "\n",
        "for topic_idx, topic_weights in enumerate(lsa_model.components_):\n",
        "    top_keywords = [feature_terms[i] for i in topic_weights.argsort()[-5:][::-1]]\n",
        "    topics.append(top_keywords)\n",
        "    print(f\"Topic {topic_idx + 1}: {', '.join(top_keywords)}\")\n"
      ]
    },
    {
      "cell_type": "markdown",
      "metadata": {
        "id": "7oSK4soH70nf"
      },
      "source": [
        "## Question 3 (10 points):\n",
        "**Generate K topics by using lda2vec, the number of topics K should be decided by the coherence score, then summarize what are the topics.**\n",
        "\n",
        "You may refer the code here: https://nbviewer.org/github/cemoody/lda2vec/blob/master/examples/twenty_newsgroups/lda2vec/lda2vec.ipynb"
      ]
    },
    {
      "cell_type": "code",
      "execution_count": null,
      "metadata": {
        "id": "2CRuXfV570ng",
        "colab": {
          "base_uri": "https://localhost:8080/",
          "height": 921
        },
        "outputId": "e3b19508-ce33-4171-a084-3e99a5ed9efb"
      },
      "outputs": [
        {
          "output_type": "stream",
          "name": "stderr",
          "text": [
            "[nltk_data] Downloading package punkt to /root/nltk_data...\n",
            "[nltk_data]   Unzipping tokenizers/punkt.zip.\n",
            "[nltk_data] Downloading package stopwords to /root/nltk_data...\n",
            "[nltk_data]   Unzipping corpora/stopwords.zip.\n",
            "WARNING:gensim.models.ldamodel:too few updates, training might not converge; consider increasing the number of passes or iterations to improve accuracy\n",
            "WARNING:gensim.models.ldamodel:too few updates, training might not converge; consider increasing the number of passes or iterations to improve accuracy\n",
            "WARNING:gensim.models.ldamodel:too few updates, training might not converge; consider increasing the number of passes or iterations to improve accuracy\n",
            "WARNING:gensim.models.ldamodel:too few updates, training might not converge; consider increasing the number of passes or iterations to improve accuracy\n",
            "WARNING:gensim.models.ldamodel:too few updates, training might not converge; consider increasing the number of passes or iterations to improve accuracy\n",
            "WARNING:gensim.models.ldamodel:too few updates, training might not converge; consider increasing the number of passes or iterations to improve accuracy\n",
            "WARNING:gensim.models.ldamodel:too few updates, training might not converge; consider increasing the number of passes or iterations to improve accuracy\n",
            "WARNING:gensim.models.ldamodel:too few updates, training might not converge; consider increasing the number of passes or iterations to improve accuracy\n",
            "WARNING:gensim.models.ldamodel:too few updates, training might not converge; consider increasing the number of passes or iterations to improve accuracy\n"
          ]
        },
        {
          "output_type": "display_data",
          "data": {
            "text/plain": [
              "<Figure size 1000x500 with 1 Axes>"
            ],
            "image/png": "[encoded data removed]"
          },
          "metadata": {}
        },
        {
          "output_type": "stream",
          "name": "stderr",
          "text": [
            "WARNING:gensim.models.ldamodel:too few updates, training might not converge; consider increasing the number of passes or iterations to improve accuracy\n"
          ]
        },
        {
          "output_type": "stream",
          "name": "stdout",
          "text": [
            "Optimal number of topics (K): 10\n",
            "Topic 1: 0.023*\"coffee\" + 0.023*\"concert\" + 0.023*\"service\" + 0.023*\"food\" + 0.023*\"bland\"\n",
            "Topic 2: 0.023*\"concert\" + 0.023*\"food\" + 0.023*\"coffee\" + 0.023*\"service\" + 0.023*\"crowded\"\n",
            "Topic 3: 0.077*\"concert\" + 0.077*\"band\" + 0.077*\"well\" + 0.077*\"crowd\" + 0.077*\"played\"\n",
            "Topic 4: 0.023*\"coffee\" + 0.023*\"service\" + 0.023*\"loud\" + 0.023*\"food\" + 0.023*\"crowded\"\n",
            "Topic 5: 0.023*\"service\" + 0.023*\"coffee\" + 0.023*\"food\" + 0.023*\"concert\" + 0.023*\"loud\"\n",
            "Topic 6: 0.107*\"good\" + 0.107*\"expectations\" + 0.107*\"food\" + 0.107*\"service\" + 0.107*\"bland\"\n",
            "Topic 7: 0.023*\"concert\" + 0.023*\"coffee\" + 0.023*\"service\" + 0.023*\"food\" + 0.023*\"crowded\"\n",
            "Topic 8: 0.118*\"enjoy\" + 0.118*\"crowded\" + 0.118*\"taste\" + 0.118*\"concert\" + 0.118*\"loud\"\n",
            "Topic 9: 0.083*\"restaurant\" + 0.083*\"experience\" + 0.083*\"offers\" + 0.083*\"service\" + 0.083*\"food\"\n",
            "Topic 10: 0.169*\"coffee\" + 0.086*\"shop\" + 0.045*\"found\" + 0.045*\"cozy\" + 0.045*\"atmosphere\"\n"
          ]
        }
      ],
      "source": [
        "# Write your code here\n",
        "# Import necessary libraries\n",
        "import nltk\n",
        "from nltk.corpus import stopwords\n",
        "from nltk.tokenize import word_tokenize\n",
        "import matplotlib.pyplot as plt\n",
        "from gensim.corpora import Dictionary\n",
        "from gensim.models import LdaModel, CoherenceModel\n",
        "\n",
        "# Download required NLTK data\n",
        "nltk.download('punkt')\n",
        "nltk.download('stopwords')\n",
        "\n",
        "\n",
        "# Sample text data\n",
        "texts = [\n",
        "    \"The concert last night was amazing; the band played really well and the crowd was excited.\",\n",
        "    \"I didn’t enjoy the concert at all; it was too loud and too crowded for my taste.\",\n",
        "    \"The coffee shop has a warm and inviting atmosphere, though I found the coffee itself pretty average.\",\n",
        "    \"I love visiting this coffee shop for the cozy ambiance, even if the coffee could be better.\",\n",
        "    \"The restaurant offers exceptional service and delicious food; I had a wonderful dining experience.\",\n",
        "    \"Despite the good service, the food was bland and not up to my expectations.\",\n",
        "]\n",
        "\n",
        "# Preprocess the text data\n",
        "stop_words = set(stopwords.words('english'))\n",
        "\n",
        "def preprocess_text(sentence):\n",
        "    tokens = word_tokenize(sentence)\n",
        "    tokens = [word.lower() for word in tokens if word.isalpha() and word.lower() not in stop_words]\n",
        "    return tokens\n",
        "\n",
        "processed_texts = [preprocess_text(sentence) for sentence in texts]\n",
        "\n",
        "# Step 2: Create a dictionary and document-term matrix\n",
        "dictionary = Dictionary(processed_texts)\n",
        "bow_corpus = [dictionary.doc2bow(doc) for doc in processed_texts]\n",
        "\n",
        "# Function to compute coherence score\n",
        "def compute_coherence(corpus, dictionary, texts, num_topics, alpha='auto', eta='auto'):\n",
        "    lda = LdaModel(corpus=corpus, id2word=dictionary, num_topics=num_topics, alpha=alpha, eta=eta)\n",
        "    coherence_model = CoherenceModel(model=lda, texts=texts, dictionary=dictionary, coherence='c_v')\n",
        "    return coherence_model.get_coherence()\n",
        "\n",
        "# List to store coherence scores for each topic number\n",
        "topic_range = range(2, 11)\n",
        "coherence_scores = []\n",
        "\n",
        "# Calculate coherence for each K in the specified range\n",
        "for num_topics in topic_range:\n",
        "    score = compute_coherence(bow_corpus, dictionary, processed_texts, num_topics)\n",
        "    coherence_scores.append(score)\n",
        "\n",
        "# Plot coherence scores\n",
        "plt.figure(figsize=(10, 5))\n",
        "plt.plot(topic_range, coherence_scores, marker='o')\n",
        "plt.title(\"Coherence Score for Different Topic Counts (K)\")\n",
        "plt.xlabel(\"Number of Topics (K)\")\n",
        "plt.ylabel(\"Coherence Score\")\n",
        "plt.grid()\n",
        "plt.show()\n",
        "\n",
        "# Identify optimal K and display results\n",
        "optimal_k = topic_range[coherence_scores.index(max(coherence_scores))]\n",
        "print(f\"Optimal number of topics (K): {optimal_k}\")\n",
        "\n",
        "# Final LDA model with optimal K\n",
        "final_lda_model = LdaModel(corpus=bow_corpus, id2word=dictionary, num_topics=optimal_k, alpha='auto', eta='auto')\n",
        "\n",
        "# Print topics\n",
        "for idx, topic in final_lda_model.print_topics(num_topics=optimal_k, num_words=5):\n",
        "    print(f\"Topic {idx + 1}: {topic}\")\n"
      ]
    },
    {
      "cell_type": "markdown",
      "metadata": {
        "id": "7nZGAOwl70ng"
      },
      "source": [
        "## Question 4 (10 points):\n",
        "**Generate K topics by using BERTopic, the number of topics K should be decided by the coherence score, then summarize what are the topics.**\n",
        "\n",
        "You may refer the code here: https://colab.research.google.com/drive/1FieRA9fLdkQEGDIMYl0I3MCjSUKVF8C-?usp=sharing"
      ]
    },
    {
      "cell_type": "code",
      "execution_count": null,
      "metadata": {
        "id": "b4HoWK-i70ng"
      },
      "outputs": [],
      "source": [
        "# Write your code here\n",
        "%%capture\n",
        "!pip install bertopic"
      ]
    },
    {
      "cell_type": "code",
      "source": [
        "from bertopic import BERTopic\n",
        "from sklearn.datasets import fetch_20newsgroups\n",
        "from sentence_transformers import SentenceTransformer"
      ],
      "metadata": {
        "id": "8qU06OZUHHyb"
      },
      "execution_count": null,
      "outputs": []
    },
    {
      "cell_type": "code",
      "source": [
        "# Load data\n",
        "data = fetch_20newsgroups(subset='all', remove=('headers', 'footers', 'quotes'))['data']"
      ],
      "metadata": {
        "id": "FJ5oq-PHRYjp"
      },
      "execution_count": null,
      "outputs": []
    },
    {
      "cell_type": "code",
      "source": [
        "#Initialize BERTopic with custom sentence transformer model and Fit the model on a smaller subset to improve speed\n",
        "small_embedder = SentenceTransformer(\"paraphrase-MiniLM-L3-v2\", device=\"cpu\")  # Smaller, faster model\n",
        "model = BERTopic(embedding_model=small_embedder, language=\"english\", calculate_probabilities=True, verbose=True)\n",
        "\n",
        "# Use a subset of data or truncate lengthy documents\n",
        "subset_data = [doc[:500] for doc in data[:1000]]  # Limit to first 1000 documents, truncate to 500 characters each\n",
        "\n",
        "# Fit the model on the subset data for faster processing\n",
        "optimized_topics, optimized_probs = model.fit_transform(subset_data)\n",
        "optimized_topics, topic_probabilities = model.fit_transform(subset_data)"
      ],
      "metadata": {
        "colab": {
          "base_uri": "https://localhost:8080/",
          "height": 359,
          "referenced_widgets": [
            "0feff35f6d224825a314d1caf6a1c5bc",
            "dcdfb226ac2349969a3416add1d3b7fc",
            "cdd2150c3d244a6e912ef2057a7172de",
            "263aecbc02c149e7a59f1801b8fcb5ef",
            "fa9f328a01de46ad8260c248f8ace7d4",
            "8ade01376e8c430f9272832f74e7564c",
            "bff11c0336624d6894853418bf2b7401",
            "6f0a51e2f0f946408e7bc86b4079a595",
            "f813b767145648a0a93e7ba768b6a8cb",
            "c5a685a06efa4476a5dd4a3f07776615",
            "294c151278e645fd9dae23e034d675c1",
            "e018f2a290aa4861b43e17d1b2b75a1f",
            "44db98b000424ca1955cadfdc031b31a",
            "4063e3e12e86487692f76f6e84452170",
            "90bdbfed304a4d999faf1f536f847203",
            "0964d886a61c442c9fea88ce596393e6",
            "c33a2bd9870049618e3be0ab611ea7dd",
            "2591d41ec98d401e944bfb673787b471",
            "15b5f202ec2247808007ab42001ac07f",
            "d4cfeeb290de402a97780b5c9c4f0f8c",
            "23d32c5dc13c402f826791c1f54824e2",
            "e24f82d459a84a1dafb586a7a02e86ef"
          ]
        },
        "id": "jlyG-AlSSt1U",
        "outputId": "802758ae-7cfa-4df1-e84b-bb40d3409eb9"
      },
      "execution_count": null,
      "outputs": [
        {
          "output_type": "stream",
          "name": "stderr",
          "text": [
            "2024-11-01 06:00:14,864 - BERTopic - Embedding - Transforming documents to embeddings.\n"
          ]
        },
        {
          "output_type": "display_data",
          "data": {
            "text/plain": [
              "Batches:   0%|          | 0/32 [00:00<?, ?it/s]"
            ],
            "application/vnd.jupyter.widget-view+json": {
              "version_major": 2,
              "version_minor": 0,
              "model_id": "0feff35f6d224825a314d1caf6a1c5bc"
            }
          },
          "metadata": {}
        },
        {
          "output_type": "stream",
          "name": "stderr",
          "text": [
            "2024-11-01 06:00:50,804 - BERTopic - Embedding - Completed ✓\n",
            "2024-11-01 06:00:50,810 - BERTopic - Dimensionality - Fitting the dimensionality reduction algorithm\n",
            "2024-11-01 06:00:53,563 - BERTopic - Dimensionality - Completed ✓\n",
            "2024-11-01 06:00:53,565 - BERTopic - Cluster - Start clustering the reduced embeddings\n",
            "2024-11-01 06:00:53,640 - BERTopic - Cluster - Completed ✓\n",
            "2024-11-01 06:00:53,647 - BERTopic - Representation - Extracting topics from clusters using representation models.\n",
            "2024-11-01 06:00:53,753 - BERTopic - Representation - Completed ✓\n",
            "2024-11-01 06:00:53,825 - BERTopic - Embedding - Transforming documents to embeddings.\n"
          ]
        },
        {
          "output_type": "display_data",
          "data": {
            "text/plain": [
              "Batches:   0%|          | 0/32 [00:00<?, ?it/s]"
            ],
            "application/vnd.jupyter.widget-view+json": {
              "version_major": 2,
              "version_minor": 0,
              "model_id": "e018f2a290aa4861b43e17d1b2b75a1f"
            }
          },
          "metadata": {}
        },
        {
          "output_type": "stream",
          "name": "stderr",
          "text": [
            "2024-11-01 06:01:26,336 - BERTopic - Embedding - Completed ✓\n",
            "2024-11-01 06:01:26,337 - BERTopic - Dimensionality - Fitting the dimensionality reduction algorithm\n",
            "2024-11-01 06:01:31,335 - BERTopic - Dimensionality - Completed ✓\n",
            "2024-11-01 06:01:31,337 - BERTopic - Cluster - Start clustering the reduced embeddings\n",
            "2024-11-01 06:01:31,416 - BERTopic - Cluster - Completed ✓\n",
            "2024-11-01 06:01:31,425 - BERTopic - Representation - Extracting topics from clusters using representation models.\n",
            "2024-11-01 06:01:31,539 - BERTopic - Representation - Completed ✓\n"
          ]
        }
      ]
    },
    {
      "cell_type": "code",
      "source": [
        "# Summarize topic frequencies and extract top terms for a specific topic\n",
        "topic_frequencies = model.get_topic_info()\n",
        "print(topic_frequencies.head(5))"
      ],
      "metadata": {
        "colab": {
          "base_uri": "https://localhost:8080/"
        },
        "id": "vZtfOdYQTFhj",
        "outputId": "84bfba01-37b4-42e5-8bcb-6fd4baaaf269"
      },
      "execution_count": null,
      "outputs": [
        {
          "output_type": "stream",
          "name": "stdout",
          "text": [
            "   Topic  Count               Name  \\\n",
            "0     -1    224  -1_the_of_to_that   \n",
            "1      0    329   0_the_to_and_for   \n",
            "2      1     96    1_the_he_and_in   \n",
            "3      2     81   2_of_the_is_that   \n",
            "4      3     48    3_the_it_to_and   \n",
            "\n",
            "                                    Representation  \\\n",
            "0  [the, of, to, that, and, is, in, you, it, they]   \n",
            "1  [the, to, and, for, is, it, have, with, of, in]   \n",
            "2   [the, he, and, in, to, that, was, of, is, but]   \n",
            "3  [of, the, is, that, to, god, not, and, you, in]   \n",
            "4  [the, it, to, and, on, for, bike, is, car, one]   \n",
            "\n",
            "                                 Representative_Docs  \n",
            "0  [\\nSuperficially a good answer, but it isn't t...  \n",
            "1  [1)    I have an old Jasmine drive which I can...  \n",
            "2  [\\n\\nAre most players who come up young always...  \n",
            "3  [\\n\\nBrian K., I am pleased with your honesty....  \n",
            "4  [\\nI've only ever done it in an automatic. I w...  \n"
          ]
        }
      ]
    },
    {
      "cell_type": "code",
      "source": [
        "# Access terms within the most frequent topic\n",
        "primary_topic = model.get_topic(0)  # Access terms in most frequent topic\n",
        "print(f\"Primary Topic Terms: {primary_topic}\")"
      ],
      "metadata": {
        "colab": {
          "base_uri": "https://localhost:8080/"
        },
        "id": "wFFtT_mUTPgM",
        "outputId": "4df24e47-2a7e-4dfa-ba0a-3c427fc3e4fd"
      },
      "execution_count": null,
      "outputs": [
        {
          "output_type": "stream",
          "name": "stdout",
          "text": [
            "Primary Topic Terms: [('the', 0.04259534984794389), ('to', 0.038625466453700324), ('and', 0.031798954190892674), ('for', 0.03177426509768852), ('is', 0.028654372779239875), ('it', 0.02783351068293473), ('have', 0.027816183554925555), ('with', 0.02543665373489173), ('of', 0.02347519805059868), ('in', 0.022866871959501697)]\n"
          ]
        }
      ]
    },
    {
      "cell_type": "code",
      "source": [
        "# Get the number of unique topics\n",
        "num_topics = len(model.get_topic_freq()) - 1  # Subtract 1 to exclude the outlier topic (-1)\n",
        "\n",
        "# Set n_clusters to be less than the number of unique topics, ensuring it's at most 15 and greater than 0\n",
        "n_clusters = min(10, num_topics - 1)\n",
        "n_clusters = max(1, n_clusters)"
      ],
      "metadata": {
        "id": "Qf9RX2_cUX8P"
      },
      "execution_count": null,
      "outputs": []
    },
    {
      "cell_type": "code",
      "source": [
        "# Visualizations for topic analysis\n",
        "model.visualize_topics()\n",
        "model.visualize_distribution(topic_probabilities[100], min_probability=0.02)\n",
        "model.visualize_hierarchy(top_n_topics=30)\n",
        "model.visualize_barchart(top_n_topics=5)\n",
        "model.visualize_heatmap(n_clusters=n_clusters, width=800, height=800)\n",
        "model.visualize_term_rank()"
      ],
      "metadata": {
        "colab": {
          "base_uri": "https://localhost:8080/",
          "height": 517
        },
        "id": "uq_cmoPoTUxa",
        "outputId": "5fa3ed02-27cc-41ea-f53f-df113f9eb6d1"
      },
      "execution_count": null,
      "outputs": [
        {
          "output_type": "display_data",
          "data": {
            "text/html": [
              "<html>\n",
              "<head><meta charset=\"utf-8\" /></head>\n",
              "<body>\n",
              "    <div>            <script src=\"https://cdnjs.cloudflare.com/ajax/libs/mathjax/2.7.5/MathJax.js?config=TeX-AMS-MML_SVG\"></script><script type=\"text/javascript\">if (window.MathJax && window.MathJax.Hub && window.MathJax.Hub.Config) {window.MathJax.Hub.Config({SVG: {font: \"STIX-Web\"}});}</script>                <script type=\"text/javascript\">window.PlotlyConfig = {MathJaxConfig: 'local'};</script>\n",
              "        <script charset=\"utf-8\" src=\"https://cdn.plot.ly/plotly-2.35.2.min.js\"></script>                <div id=\"8198a24e-6db1-4997-8f9e-88c85d1fb519\" class=\"plotly-graph-div\" style=\"height:500px; width:800px;\"></div>            <script type=\"text/javascript\">                                    window.PLOTLYENV=window.PLOTLYENV || {};                                    if (document.getElementById(\"8198a24e-6db1-4997-8f9e-88c85d1fb519\")) {                    Plotly.newPlot(                        \"8198a24e-6db1-4997-8f9e-88c85d1fb519\",                        [{\"hovertext\":\"\\u003cb\\u003eTopic -1\\u003c\\u002fb\\u003e:the_of_to_that_and_is_in_you_it_th\",\"line\":{\"color\":\"black\",\"width\":1.5},\"mode\":\"lines+lines\",\"name\":\"\",\"opacity\":0.1,\"x\":[1,2,3,4,5,6,7,8,9,10],\"y\":[0.05054437294104073,0.03862693400366021,0.03521646992283015,0.02986272098927187,0.028527742759243375,0.026843169895810468,0.025568253219492104,0.025561763062111484,0.02452537946239163,0.019058586267109],\"type\":\"scatter\"},{\"hovertext\":\"\\u003cb\\u003eTopic 0\\u003c\\u002fb\\u003e:the_to_and_for_is_it_have_with_of_i\",\"line\":{\"color\":\"black\",\"width\":1.5},\"mode\":\"lines+lines\",\"name\":\"\",\"opacity\":0.1,\"x\":[1,2,3,4,5,6,7,8,9,10],\"y\":[0.04259534984794389,0.038625466453700324,0.031798954190892674,0.03177426509768852,0.028654372779239875,0.02783351068293473,0.027816183554925555,0.02543665373489173,0.02347519805059868,0.022866871959501697],\"type\":\"scatter\"},{\"hovertext\":\"\\u003cb\\u003eTopic 1\\u003c\\u002fb\\u003e:the_he_and_in_to_that_was_of_is_but\",\"line\":{\"color\":\"black\",\"width\":1.5},\"mode\":\"lines+lines\",\"name\":\"\",\"opacity\":0.1,\"x\":[1,2,3,4,5,6,7,8,9,10],\"y\":[0.049796158850156584,0.042869162153538386,0.040606275537995666,0.035813115509832516,0.03502113998781976,0.028260334295993967,0.02457119098222632,0.024377482103290056,0.02433732948771407,0.020891419102042123],\"type\":\"scatter\"},{\"hovertext\":\"\\u003cb\\u003eTopic 2\\u003c\\u002fb\\u003e:of_the_is_that_to_god_not_and_you_i\",\"line\":{\"color\":\"black\",\"width\":1.5},\"mode\":\"lines+lines\",\"name\":\"\",\"opacity\":0.1,\"x\":[1,2,3,4,5,6,7,8,9,10],\"y\":[0.05024429273434736,0.04991907424770126,0.038225592990497534,0.0359069792689094,0.034430118639435334,0.03070579541513555,0.029892419460148985,0.029663030669051307,0.029382365912541817,0.02774467751704265],\"type\":\"scatter\"},{\"hovertext\":\"\\u003cb\\u003eTopic 3\\u003c\\u002fb\\u003e:the_it_to_and_on_for_bike_is_car_on\",\"line\":{\"color\":\"black\",\"width\":1.5},\"mode\":\"lines+lines\",\"name\":\"\",\"opacity\":0.1,\"x\":[1,2,3,4,5,6,7,8,9,10],\"y\":[0.04915398576454982,0.04404106709777972,0.035652093363073296,0.03179075369744745,0.03141129940385774,0.03130345828715905,0.028600151343415432,0.02843827766173126,0.026923798802642483,0.026773340570652625],\"type\":\"scatter\"},{\"hovertext\":\"\\u003cb\\u003eTopic 4\\u003c\\u002fb\\u003e:the_to_that_of_in_and_you_are_is_no\",\"line\":{\"color\":\"black\",\"width\":1.5},\"mode\":\"lines+lines\",\"name\":\"\",\"opacity\":0.1,\"x\":[1,2,3,4,5,6,7,8,9,10],\"y\":[0.05555905323792037,0.03989219048204745,0.03750678796864571,0.03585847531714352,0.034207737903312545,0.03219972900598999,0.031132022819733072,0.026071439453022142,0.025651168572315444,0.024676021744803017],\"type\":\"scatter\"},{\"hovertext\":\"\\u003cb\\u003eTopic 5\\u003c\\u002fb\\u003e:the_of_in_to_and_is_it_oil_on_was\",\"line\":{\"color\":\"black\",\"width\":1.5},\"mode\":\"lines+lines\",\"name\":\"\",\"opacity\":0.1,\"x\":[1,2,3,4,5,6,7,8,9,10],\"y\":[0.05568358633740636,0.05055889788222357,0.036005659141605806,0.03347181766577796,0.02904637985227533,0.02807320431452668,0.023327055465649612,0.02310704245810915,0.022790924252944204,0.022324458425667517],\"type\":\"scatter\"},{\"hovertext\":\"\\u003cb\\u003eTopic 6\\u003c\\u002fb\\u003e:clementine_darling_oh_my_donnybrook\",\"line\":{\"color\":\"black\",\"width\":1.5},\"mode\":\"lines+lines\",\"name\":\"\",\"opacity\":0.1,\"x\":[1,2,3,4,5,6,7,8,9,10],\"y\":[0.22165250033082814,0.21463127235464435,0.16808389201752394,0.09259432806870353,0.06632363990564284,0.06632363990564284,0.06632363990564284,0.06632363990564284,0.06632363990564284,0.06632363990564284],\"type\":\"scatter\"},{\"hovertext\":\"\\u003cb\\u003eTopic 7\\u003c\\u002fb\\u003e:the_of_and_is_for_you_to_edu_at_in\",\"line\":{\"color\":\"black\",\"width\":1.5},\"mode\":\"lines+lines\",\"name\":\"\",\"opacity\":0.1,\"x\":[1,2,3,4,5,6,7,8,9,10],\"y\":[0.04944867182538801,0.04158002328812189,0.033143786867824515,0.031118092982729217,0.024865334764452386,0.023919136970519738,0.022583980204613625,0.021653272321474598,0.020561206143826834,0.01959263411086189],\"type\":\"scatter\"},{\"hovertext\":\"\\u003cb\\u003eTopic 8\\u003c\\u002fb\\u003e:the_of_that_in_to_studies_about_wou\",\"line\":{\"color\":\"black\",\"width\":1.5},\"mode\":\"lines+lines\",\"name\":\"\",\"opacity\":0.1,\"x\":[1,2,3,4,5,6,7,8,9,10],\"y\":[0.044369091386272104,0.042132414901852974,0.036724269003691405,0.03382349798150849,0.031329297935963674,0.03100945091780881,0.0309612640526587,0.028209425888042212,0.026476447984467622,0.02627327776086996],\"type\":\"scatter\"},{\"hovertext\":\"\\u003cb\\u003eTopic 9\\u003c\\u002fb\\u003e:the_to_of_be_this_in_legal_is_and_t\",\"line\":{\"color\":\"black\",\"width\":1.5},\"mode\":\"lines+lines\",\"name\":\"\",\"opacity\":0.1,\"x\":[1,2,3,4,5,6,7,8,9,10],\"y\":[0.060705067892046646,0.04577538909245651,0.04274991365464225,0.03956200704535983,0.03517321731239109,0.03500560444985884,0.034512360820261476,0.03335868923056496,0.03224593134339737,0.03130050435940327],\"type\":\"scatter\"},{\"hovertext\":\"\\u003cb\\u003eTopic 10\\u003c\\u002fb\\u003e:key_encryption_encrypted_the_of_al\",\"line\":{\"color\":\"black\",\"width\":1.5},\"mode\":\"lines+lines\",\"name\":\"\",\"opacity\":0.1,\"x\":[1,2,3,4,5,6,7,8,9,10],\"y\":[0.10819578823723151,0.053098855931740574,0.051358513584892386,0.04898398466093652,0.04809679979735877,0.03858744562434857,0.03831896010287743,0.036684652560637424,0.035962155205405924,0.035962155205405924],\"type\":\"scatter\"},{\"hovertext\":\"\\u003cb\\u003eTopic 11\\u003c\\u002fb\\u003e:address_xmosaic_imake_germany_to_y\",\"line\":{\"color\":\"black\",\"width\":1.5},\"mode\":\"lines+lines\",\"name\":\"\",\"opacity\":0.1,\"x\":[1,2,3,4,5,6,7,8,9,10],\"y\":[0.060686490956157885,0.05592296911419911,0.053728088117359456,0.04998442222929065,0.04963663829463194,0.04131907022162617,0.03780036574692529,0.03780036574692529,0.03780036574692529,0.03780036574692529],\"type\":\"scatter\"}],                        {\"template\":{\"data\":{\"barpolar\":[{\"marker\":{\"line\":{\"color\":\"white\",\"width\":0.5},\"pattern\":{\"fillmode\":\"overlay\",\"size\":10,\"solidity\":0.2}},\"type\":\"barpolar\"}],\"bar\":[{\"error_x\":{\"color\":\"#2a3f5f\"},\"error_y\":{\"color\":\"#2a3f5f\"},\"marker\":{\"line\":{\"color\":\"white\",\"width\":0.5},\"pattern\":{\"fillmode\":\"overlay\",\"size\":10,\"solidity\":0.2}},\"type\":\"bar\"}],\"carpet\":[{\"aaxis\":{\"endlinecolor\":\"#2a3f5f\",\"gridcolor\":\"#C8D4E3\",\"linecolor\":\"#C8D4E3\",\"minorgridcolor\":\"#C8D4E3\",\"startlinecolor\":\"#2a3f5f\"},\"baxis\":{\"endlinecolor\":\"#2a3f5f\",\"gridcolor\":\"#C8D4E3\",\"linecolor\":\"#C8D4E3\",\"minorgridcolor\":\"#C8D4E3\",\"startlinecolor\":\"#2a3f5f\"},\"type\":\"carpet\"}],\"choropleth\":[{\"colorbar\":{\"outlinewidth\":0,\"ticks\":\"\"},\"type\":\"choropleth\"}],\"contourcarpet\":[{\"colorbar\":{\"outlinewidth\":0,\"ticks\":\"\"},\"type\":\"contourcarpet\"}],\"contour\":[{\"colorbar\":{\"outlinewidth\":0,\"ticks\":\"\"},\"colorscale\":[[0.0,\"#0d0887\"],[0.1111111111111111,\"#46039f\"],[0.2222222222222222,\"#7201a8\"],[0.3333333333333333,\"#9c179e\"],[0.4444444444444444,\"#bd3786\"],[0.5555555555555556,\"#d8576b\"],[0.6666666666666666,\"#ed7953\"],[0.7777777777777778,\"#fb9f3a\"],[0.8888888888888888,\"#fdca26\"],[1.0,\"#f0f921\"]],\"type\":\"contour\"}],\"heatmapgl\":[{\"colorbar\":{\"outlinewidth\":0,\"ticks\":\"\"},\"colorscale\":[[0.0,\"#0d0887\"],[0.1111111111111111,\"#46039f\"],[0.2222222222222222,\"#7201a8\"],[0.3333333333333333,\"#9c179e\"],[0.4444444444444444,\"#bd3786\"],[0.5555555555555556,\"#d8576b\"],[0.6666666666666666,\"#ed7953\"],[0.7777777777777778,\"#fb9f3a\"],[0.8888888888888888,\"#fdca26\"],[1.0,\"#f0f921\"]],\"type\":\"heatmapgl\"}],\"heatmap\":[{\"colorbar\":{\"outlinewidth\":0,\"ticks\":\"\"},\"colorscale\":[[0.0,\"#0d0887\"],[0.1111111111111111,\"#46039f\"],[0.2222222222222222,\"#7201a8\"],[0.3333333333333333,\"#9c179e\"],[0.4444444444444444,\"#bd3786\"],[0.5555555555555556,\"#d8576b\"],[0.6666666666666666,\"#ed7953\"],[0.7777777777777778,\"#fb9f3a\"],[0.8888888888888888,\"#fdca26\"],[1.0,\"#f0f921\"]],\"type\":\"heatmap\"}],\"histogram2dcontour\":[{\"colorbar\":{\"outlinewidth\":0,\"ticks\":\"\"},\"colorscale\":[[0.0,\"#0d0887\"],[0.1111111111111111,\"#46039f\"],[0.2222222222222222,\"#7201a8\"],[0.3333333333333333,\"#9c179e\"],[0.4444444444444444,\"#bd3786\"],[0.5555555555555556,\"#d8576b\"],[0.6666666666666666,\"#ed7953\"],[0.7777777777777778,\"#fb9f3a\"],[0.8888888888888888,\"#fdca26\"],[1.0,\"#f0f921\"]],\"type\":\"histogram2dcontour\"}],\"histogram2d\":[{\"colorbar\":{\"outlinewidth\":0,\"ticks\":\"\"},\"colorscale\":[[0.0,\"#0d0887\"],[0.1111111111111111,\"#46039f\"],[0.2222222222222222,\"#7201a8\"],[0.3333333333333333,\"#9c179e\"],[0.4444444444444444,\"#bd3786\"],[0.5555555555555556,\"#d8576b\"],[0.6666666666666666,\"#ed7953\"],[0.7777777777777778,\"#fb9f3a\"],[0.8888888888888888,\"#fdca26\"],[1.0,\"#f0f921\"]],\"type\":\"histogram2d\"}],\"histogram\":[{\"marker\":{\"pattern\":{\"fillmode\":\"overlay\",\"size\":10,\"solidity\":0.2}},\"type\":\"histogram\"}],\"mesh3d\":[{\"colorbar\":{\"outlinewidth\":0,\"ticks\":\"\"},\"type\":\"mesh3d\"}],\"parcoords\":[{\"line\":{\"colorbar\":{\"outlinewidth\":0,\"ticks\":\"\"}},\"type\":\"parcoords\"}],\"pie\":[{\"automargin\":true,\"type\":\"pie\"}],\"scatter3d\":[{\"line\":{\"colorbar\":{\"outlinewidth\":0,\"ticks\":\"\"}},\"marker\":{\"colorbar\":{\"outlinewidth\":0,\"ticks\":\"\"}},\"type\":\"scatter3d\"}],\"scattercarpet\":[{\"marker\":{\"colorbar\":{\"outlinewidth\":0,\"ticks\":\"\"}},\"type\":\"scattercarpet\"}],\"scattergeo\":[{\"marker\":{\"colorbar\":{\"outlinewidth\":0,\"ticks\":\"\"}},\"type\":\"scattergeo\"}],\"scattergl\":[{\"marker\":{\"colorbar\":{\"outlinewidth\":0,\"ticks\":\"\"}},\"type\":\"scattergl\"}],\"scattermapbox\":[{\"marker\":{\"colorbar\":{\"outlinewidth\":0,\"ticks\":\"\"}},\"type\":\"scattermapbox\"}],\"scatterpolargl\":[{\"marker\":{\"colorbar\":{\"outlinewidth\":0,\"ticks\":\"\"}},\"type\":\"scatterpolargl\"}],\"scatterpolar\":[{\"marker\":{\"colorbar\":{\"outlinewidth\":0,\"ticks\":\"\"}},\"type\":\"scatterpolar\"}],\"scatter\":[{\"fillpattern\":{\"fillmode\":\"overlay\",\"size\":10,\"solidity\":0.2},\"type\":\"scatter\"}],\"scatterternary\":[{\"marker\":{\"colorbar\":{\"outlinewidth\":0,\"ticks\":\"\"}},\"type\":\"scatterternary\"}],\"surface\":[{\"colorbar\":{\"outlinewidth\":0,\"ticks\":\"\"},\"colorscale\":[[0.0,\"#0d0887\"],[0.1111111111111111,\"#46039f\"],[0.2222222222222222,\"#7201a8\"],[0.3333333333333333,\"#9c179e\"],[0.4444444444444444,\"#bd3786\"],[0.5555555555555556,\"#d8576b\"],[0.6666666666666666,\"#ed7953\"],[0.7777777777777778,\"#fb9f3a\"],[0.8888888888888888,\"#fdca26\"],[1.0,\"#f0f921\"]],\"type\":\"surface\"}],\"table\":[{\"cells\":{\"fill\":{\"color\":\"#EBF0F8\"},\"line\":{\"color\":\"white\"}},\"header\":{\"fill\":{\"color\":\"#C8D4E3\"},\"line\":{\"color\":\"white\"}},\"type\":\"table\"}]},\"layout\":{\"annotationdefaults\":{\"arrowcolor\":\"#2a3f5f\",\"arrowhead\":0,\"arrowwidth\":1},\"autotypenumbers\":\"strict\",\"coloraxis\":{\"colorbar\":{\"outlinewidth\":0,\"ticks\":\"\"}},\"colorscale\":{\"diverging\":[[0,\"#8e0152\"],[0.1,\"#c51b7d\"],[0.2,\"#de77ae\"],[0.3,\"#f1b6da\"],[0.4,\"#fde0ef\"],[0.5,\"#f7f7f7\"],[0.6,\"#e6f5d0\"],[0.7,\"#b8e186\"],[0.8,\"#7fbc41\"],[0.9,\"#4d9221\"],[1,\"#276419\"]],\"sequential\":[[0.0,\"#0d0887\"],[0.1111111111111111,\"#46039f\"],[0.2222222222222222,\"#7201a8\"],[0.3333333333333333,\"#9c179e\"],[0.4444444444444444,\"#bd3786\"],[0.5555555555555556,\"#d8576b\"],[0.6666666666666666,\"#ed7953\"],[0.7777777777777778,\"#fb9f3a\"],[0.8888888888888888,\"#fdca26\"],[1.0,\"#f0f921\"]],\"sequentialminus\":[[0.0,\"#0d0887\"],[0.1111111111111111,\"#46039f\"],[0.2222222222222222,\"#7201a8\"],[0.3333333333333333,\"#9c179e\"],[0.4444444444444444,\"#bd3786\"],[0.5555555555555556,\"#d8576b\"],[0.6666666666666666,\"#ed7953\"],[0.7777777777777778,\"#fb9f3a\"],[0.8888888888888888,\"#fdca26\"],[1.0,\"#f0f921\"]]},\"colorway\":[\"#636efa\",\"#EF553B\",\"#00cc96\",\"#ab63fa\",\"#FFA15A\",\"#19d3f3\",\"#FF6692\",\"#B6E880\",\"#FF97FF\",\"#FECB52\"],\"font\":{\"color\":\"#2a3f5f\"},\"geo\":{\"bgcolor\":\"white\",\"lakecolor\":\"white\",\"landcolor\":\"white\",\"showlakes\":true,\"showland\":true,\"subunitcolor\":\"#C8D4E3\"},\"hoverlabel\":{\"align\":\"left\"},\"hovermode\":\"closest\",\"mapbox\":{\"style\":\"light\"},\"paper_bgcolor\":\"white\",\"plot_bgcolor\":\"white\",\"polar\":{\"angularaxis\":{\"gridcolor\":\"#EBF0F8\",\"linecolor\":\"#EBF0F8\",\"ticks\":\"\"},\"bgcolor\":\"white\",\"radialaxis\":{\"gridcolor\":\"#EBF0F8\",\"linecolor\":\"#EBF0F8\",\"ticks\":\"\"}},\"scene\":{\"xaxis\":{\"backgroundcolor\":\"white\",\"gridcolor\":\"#DFE8F3\",\"gridwidth\":2,\"linecolor\":\"#EBF0F8\",\"showbackground\":true,\"ticks\":\"\",\"zerolinecolor\":\"#EBF0F8\"},\"yaxis\":{\"backgroundcolor\":\"white\",\"gridcolor\":\"#DFE8F3\",\"gridwidth\":2,\"linecolor\":\"#EBF0F8\",\"showbackground\":true,\"ticks\":\"\",\"zerolinecolor\":\"#EBF0F8\"},\"zaxis\":{\"backgroundcolor\":\"white\",\"gridcolor\":\"#DFE8F3\",\"gridwidth\":2,\"linecolor\":\"#EBF0F8\",\"showbackground\":true,\"ticks\":\"\",\"zerolinecolor\":\"#EBF0F8\"}},\"shapedefaults\":{\"line\":{\"color\":\"#2a3f5f\"}},\"ternary\":{\"aaxis\":{\"gridcolor\":\"#DFE8F3\",\"linecolor\":\"#A2B1C6\",\"ticks\":\"\"},\"baxis\":{\"gridcolor\":\"#DFE8F3\",\"linecolor\":\"#A2B1C6\",\"ticks\":\"\"},\"bgcolor\":\"white\",\"caxis\":{\"gridcolor\":\"#DFE8F3\",\"linecolor\":\"#A2B1C6\",\"ticks\":\"\"}},\"title\":{\"x\":0.05},\"xaxis\":{\"automargin\":true,\"gridcolor\":\"#EBF0F8\",\"linecolor\":\"#EBF0F8\",\"ticks\":\"\",\"title\":{\"standoff\":15},\"zerolinecolor\":\"#EBF0F8\",\"zerolinewidth\":2},\"yaxis\":{\"automargin\":true,\"gridcolor\":\"#EBF0F8\",\"linecolor\":\"#EBF0F8\",\"ticks\":\"\",\"title\":{\"standoff\":15},\"zerolinecolor\":\"#EBF0F8\",\"zerolinewidth\":2}}},\"xaxis\":{\"range\":[0,10],\"tick0\":1,\"dtick\":2,\"title\":{\"text\":\"Term Rank\"}},\"title\":{\"font\":{\"size\":22,\"color\":\"Black\"},\"text\":\"\\u003cb\\u003eTerm score decline per Topic\\u003c\\u002fb\\u003e\",\"y\":0.9,\"x\":0.5,\"xanchor\":\"center\",\"yanchor\":\"top\"},\"hoverlabel\":{\"font\":{\"size\":16,\"family\":\"Rockwell\"},\"bgcolor\":\"white\"},\"showlegend\":false,\"width\":800,\"height\":500,\"yaxis\":{\"title\":{\"text\":\"c-TF-IDF score\"}}},                        {\"responsive\": true}                    ).then(function(){\n",
              "                            \n",
              "var gd = document.getElementById('8198a24e-6db1-4997-8f9e-88c85d1fb519');\n",
              "var x = new MutationObserver(function (mutations, observer) {{\n",
              "        var display = window.getComputedStyle(gd).display;\n",
              "        if (!display || display === 'none') {{\n",
              "            console.log([gd, 'removed!']);\n",
              "            Plotly.purge(gd);\n",
              "            observer.disconnect();\n",
              "        }}\n",
              "}});\n",
              "\n",
              "// Listen for the removal of the full notebook cells\n",
              "var notebookContainer = gd.closest('#notebook-container');\n",
              "if (notebookContainer) {{\n",
              "    x.observe(notebookContainer, {childList: true});\n",
              "}}\n",
              "\n",
              "// Listen for the clearing of the current output cell\n",
              "var outputEl = gd.closest('.output');\n",
              "if (outputEl) {{\n",
              "    x.observe(outputEl, {childList: true});\n",
              "}}\n",
              "\n",
              "                        })                };                            </script>        </div>\n",
              "</body>\n",
              "</html>"
            ]
          },
          "metadata": {}
        }
      ]
    },
    {
      "cell_type": "code",
      "source": [
        "topics = model.topics_\n",
        "if len(data) != len(topics):\n",
        "\n",
        "    min_len = min(len(data), len(topics))\n",
        "    data = data[:min_len]\n",
        "    topics = topics[:min_len]\n",
        "\n",
        "# Update topics\n",
        "model.update_topics(data, topics=topics, n_gram_range=(1, 2))"
      ],
      "metadata": {
        "colab": {
          "base_uri": "https://localhost:8080/"
        },
        "id": "VM2IdJ6MWXvs",
        "outputId": "2be6888c-84f3-4e91-ca65-c611b85576e3"
      },
      "execution_count": null,
      "outputs": [
        {
          "output_type": "stream",
          "name": "stderr",
          "text": [
            "2024-11-01 06:11:18,358 - BERTopic - WARNING: Using a custom list of topic assignments may lead to errors if topic reduction techniques are used afterwards. Make sure that manually assigning topics is the last step in the pipeline.Note that topic embeddings will also be created through weightedc-TF-IDF embeddings instead of centroid embeddings.\n"
          ]
        }
      ]
    },
    {
      "cell_type": "code",
      "source": [
        "if len(data) != len(model.topics_):\n",
        "\n",
        "    min_len = min(len(data), len(model.topics_))\n",
        "    data = data[:min_len]\n",
        "\n",
        "# Refine and reduce the number of topics to target K topics\n",
        "model.reduce_topics(data, nr_topics=50)"
      ],
      "metadata": {
        "colab": {
          "base_uri": "https://localhost:8080/"
        },
        "id": "sZTBa3VoWB0_",
        "outputId": "5c3aaf7a-680c-4a65-9519-e218f65b5270"
      },
      "execution_count": null,
      "outputs": [
        {
          "output_type": "stream",
          "name": "stderr",
          "text": [
            "2024-11-01 06:12:01,565 - BERTopic - Topic reduction - Reducing number of topics\n",
            "2024-11-01 06:12:01,579 - BERTopic - Topic reduction - Reduced number of topics from 13 to 13\n"
          ]
        },
        {
          "output_type": "execute_result",
          "data": {
            "text/plain": [
              "<bertopic._bertopic.BERTopic at 0x7ef33f73cf40>"
            ]
          },
          "metadata": {},
          "execution_count": 35
        }
      ]
    },
    {
      "cell_type": "code",
      "source": [
        "# Check topics after reduction and find similar topics\n",
        "current_topics = model.topics_\n",
        "similar_topics, topic_similarity = model.find_topics(\"technology\", top_n=5)\n",
        "print(f\"Topics similar to 'technology': {similar_topics}\")\n"
      ],
      "metadata": {
        "colab": {
          "base_uri": "https://localhost:8080/"
        },
        "id": "PFG0-mk7WGEA",
        "outputId": "b530ebd6-4808-4d4a-fe6e-27a3e518fb1c"
      },
      "execution_count": null,
      "outputs": [
        {
          "output_type": "stream",
          "name": "stdout",
          "text": [
            "Topics similar to 'technology': [0, 6, -1, 5, 10]\n"
          ]
        }
      ]
    },
    {
      "cell_type": "code",
      "source": [
        "# Save and load the trained model if needed\n",
        "model.save(\"optimized_topic_model\")\n",
        "loaded_model = BERTopic.load(\"optimized_topic_model\")"
      ],
      "metadata": {
        "colab": {
          "base_uri": "https://localhost:8080/"
        },
        "id": "spZOtLF6WKsC",
        "outputId": "975953b1-42dc-43a1-a59f-d526c67c3833"
      },
      "execution_count": null,
      "outputs": [
        {
          "output_type": "stream",
          "name": "stderr",
          "text": [
            "2024-11-01 06:10:25,090 - BERTopic - WARNING: When you use `pickle` to save/load a BERTopic model,please make sure that the environments in which you saveand load the model are **exactly** the same. The version of BERTopic,its dependencies, and python need to remain the same.\n"
          ]
        }
      ]
    },
    {
      "cell_type": "markdown",
      "source": [
        "## **Question 3 (Alternative) - (10 points)**\n",
        "\n",
        "If you are unable to do the topic modeling using lda2vec, do the alternate question.\n",
        "\n",
        "Provide atleast 3 visualization for the topics generated by the BERTopic or LDA model. Explain each of the visualization in detail."
      ],
      "metadata": {
        "id": "Wslk2SYHML8t"
      }
    },
    {
      "cell_type": "code",
      "source": [
        "# Write your code here\n",
        "# Then Explain the visualization\n",
        "\n",
        "# Repeat for the other 2 visualizations as well."
      ],
      "metadata": {
        "id": "eKZHcPjpNEDx"
      },
      "execution_count": null,
      "outputs": []
    },
    {
      "cell_type": "markdown",
      "source": [
        "## Extra Question (5 Points)\n",
        "\n",
        "**Compare the results generated by the four topic modeling algorithms, which one is better? You should explain the reasons in details.**\n",
        "\n",
        "**This question will compensate for any points deducted in this exercise. Maximum marks for the exercise is 40 points.**"
      ],
      "metadata": {
        "id": "d89ODUx3jjJV"
      }
    },
    {
      "cell_type": "code",
      "source": [
        "# Write your code here\n",
        "\"\"\"\n",
        "There are clear benefits and drawbacks when comparing the outcomes of four topic modeling algorithms: BERTopic, HDP (Hierarchical Dirichlet Process),\n",
        "NMF (Non-negative Matrix Factorization), and LDA (Latent Dirichlet Allocation).\n",
        "Data complexity, subject coherence, interpretability, and adaptation to a variety of datasets are the factors that determine each algorithm's capabilities.\n",
        "since of its statistical soundness, LDA is frequently employed. It works well with structured datasets that have distinct topic boundaries since it assumes a fixed number of topics (K).\n",
        "For datasets with overlapping subjects, LDA necessitates hyperparameter adjustment, which can be time-consuming and less versatile.\n",
        "It works well with themes that are well-organized and distinct, but it might have trouble with noisy or unstructured data.\n",
        "NMF is a matrix factorization technique that is appropriate for high-dimensional data and computationally efficient because it approximates themes as non-negative values.\n",
        "Since NMF does not rely on distributional assumptions like LDA does, topic interpretation is made simple. However, with smaller datasets, its dependence on vector space models might restrict coherence and topic quality.\n",
        "\n",
        "An extension of LDA, HDP is very adaptive for exploratory research since it automatically decides how many subjects to include.\n",
        "When topic limits aren't established in advance or when dealing with unknown datasets, this can be helpful.\n",
        "Performance on big datasets may be hampered by HDP's computational demands and longer processing times.\n",
        "Particularly with complex or short-text datasets, BERTopic generates excellent, contextually rich topics by utilizing transformer-based embeddings.\n",
        "It is adaptable due to its use of document embeddings, which enables dynamic subject change. Nevertheless, it is slower than LDA and NMF and demands a large amount of computing resources.\n",
        "\n",
        "Because of its contextual depth, BERTopic provides better results overall on complex datasets, although LDA or NMF might be better for larger, more structured datasets that need effective\n",
        "\n",
        "\n",
        "\n",
        "\"\"\""
      ],
      "metadata": {
        "id": "OK34nZtojhmm"
      },
      "execution_count": null,
      "outputs": []
    },
    {
      "cell_type": "markdown",
      "source": [
        "# Mandatory Question"
      ],
      "metadata": {
        "id": "VEs-OoDEhTW4"
      }
    },
    {
      "cell_type": "markdown",
      "source": [
        "**Important: Reflective Feedback on this exercise**\n",
        "\n",
        "Please provide your thoughts and feedback on the exercises you completed in this assignment.\n",
        "\n",
        "Consider the following points in your response:\n",
        "\n",
        "**Learning Experience:** Describe your overall learning experience in working with text data and extracting features using various topic modeling algorithms. Did you understand these algorithms and did the implementations helped in grasping the nuances of feature extraction from text data.\n",
        "\n",
        "**Challenges Encountered:** Were there specific difficulties in completing this exercise?\n",
        "\n",
        "Relevance to Your Field of Study: How does this exercise relate to the field of NLP?\n",
        "\n",
        "**(Your submission will not be graded if this question is left unanswered)**\n",
        "\n"
      ],
      "metadata": {
        "id": "IUKC7suYhVl0"
      }
    },
    {
      "cell_type": "code",
      "source": [
        "# Your answer here (no code for this question, write down your answer as detail as possible for the above questions):\n",
        "\n",
        "'''\n",
        "After giving this task some thought, I realized how helpful it was to grasp feature extraction in NLP to deal with text data and construct several subject modeling techniques.\n",
        "Putting algorithms like LDA, NMF, HDP, and BERTopic into practice provided a practical understanding of each model's advantages and disadvantages.\n",
        "This exercise strengthened my comprehension of the intricacies of text data by demonstrating how these models manage topic identification, coherence, and document structure.\n",
        "One difficulty was striking a balance between model quality and computational performance, particularly when utilizing resource-intensive sophisticated models like BERTopic.\n",
        "It was also challenging to choose the best LDA and HDP settings, which needed to be carefully adjusted for dependable topic coherence.\n",
        "Relevance-wise, topic modeling is fundamental to NLP for document clustering, information retrieval, and text classification.\n",
        "In line with my research interest on data science and natural language processing, this experiment illustrated how nuanced subject representation might improve machine learning applications.\n",
        "\n",
        "\n",
        "\n",
        "'''"
      ],
      "metadata": {
        "id": "CAq0DZWAhU9m"
      },
      "execution_count": null,
      "outputs": []
    }
  ],
  "metadata": {
    "kernelspec": {
      "display_name": "Python 3 (ipykernel)",
      "language": "python",
      "name": "python3"
    },
    "language_info": {
      "codemirror_mode": {
        "name": "ipython",
        "version": 3
      },
      "file_extension": ".py",
      "mimetype": "text/x-python",
      "name": "python",
      "nbconvert_exporter": "python",
      "pygments_lexer": "ipython3",
      "version": "3.9.12"
    },
    "colab": {
      "provenance": [],
      "toc_visible": true,
      "include_colab_link": true
    },
    "widgets": {
      "application/vnd.jupyter.widget-state+json": {
        "0feff35f6d224825a314d1caf6a1c5bc": {
          "model_module": "@jupyter-widgets/controls",
          "model_name": "HBoxModel",
          "model_module_version": "1.5.0",
          "state": {
            "_dom_classes": [],
            "_model_module": "@jupyter-widgets/controls",
            "_model_module_version": "1.5.0",
            "_model_name": "HBoxModel",
            "_view_count": null,
            "_view_module": "@jupyter-widgets/controls",
            "_view_module_version": "1.5.0",
            "_view_name": "HBoxView",
            "box_style": "",
            "children": [
              "IPY_MODEL_dcdfb226ac2349969a3416add1d3b7fc",
              "IPY_MODEL_cdd2150c3d244a6e912ef2057a7172de",
              "IPY_MODEL_263aecbc02c149e7a59f1801b8fcb5ef"
            ],
            "layout": "IPY_MODEL_fa9f328a01de46ad8260c248f8ace7d4"
          }
        },
        "dcdfb226ac2349969a3416add1d3b7fc": {
          "model_module": "@jupyter-widgets/controls",
          "model_name": "HTMLModel",
          "model_module_version": "1.5.0",
          "state": {
            "_dom_classes": [],
            "_model_module": "@jupyter-widgets/controls",
            "_model_module_version": "1.5.0",
            "_model_name": "HTMLModel",
            "_view_count": null,
            "_view_module": "@jupyter-widgets/controls",
            "_view_module_version": "1.5.0",
            "_view_name": "HTMLView",
            "description": "",
            "description_tooltip": null,
            "layout": "IPY_MODEL_8ade01376e8c430f9272832f74e7564c",
            "placeholder": "​",
            "style": "IPY_MODEL_bff11c0336624d6894853418bf2b7401",
            "value": "Batches: 100%"
          }
        },
        "cdd2150c3d244a6e912ef2057a7172de": {
          "model_module": "@jupyter-widgets/controls",
          "model_name": "FloatProgressModel",
          "model_module_version": "1.5.0",
          "state": {
            "_dom_classes": [],
            "_model_module": "@jupyter-widgets/controls",
            "_model_module_version": "1.5.0",
            "_model_name": "FloatProgressModel",
            "_view_count": null,
            "_view_module": "@jupyter-widgets/controls",
            "_view_module_version": "1.5.0",
            "_view_name": "ProgressView",
            "bar_style": "success",
            "description": "",
            "description_tooltip": null,
            "layout": "IPY_MODEL_6f0a51e2f0f946408e7bc86b4079a595",
            "max": 32,
            "min": 0,
            "orientation": "horizontal",
            "style": "IPY_MODEL_f813b767145648a0a93e7ba768b6a8cb",
            "value": 32
          }
        },
        "263aecbc02c149e7a59f1801b8fcb5ef": {
          "model_module": "@jupyter-widgets/controls",
          "model_name": "HTMLModel",
          "model_module_version": "1.5.0",
          "state": {
            "_dom_classes": [],
            "_model_module": "@jupyter-widgets/controls",
            "_model_module_version": "1.5.0",
            "_model_name": "HTMLModel",
            "_view_count": null,
            "_view_module": "@jupyter-widgets/controls",
            "_view_module_version": "1.5.0",
            "_view_name": "HTMLView",
            "description": "",
            "description_tooltip": null,
            "layout": "IPY_MODEL_c5a685a06efa4476a5dd4a3f07776615",
            "placeholder": "​",
            "style": "IPY_MODEL_294c151278e645fd9dae23e034d675c1",
            "value": " 32/32 [00:35&lt;00:00,  2.34it/s]"
          }
        },
        "fa9f328a01de46ad8260c248f8ace7d4": {
          "model_module": "@jupyter-widgets/base",
          "model_name": "LayoutModel",
          "model_module_version": "1.2.0",
          "state": {
            "_model_module": "@jupyter-widgets/base",
            "_model_module_version": "1.2.0",
            "_model_name": "LayoutModel",
            "_view_count": null,
            "_view_module": "@jupyter-widgets/base",
            "_view_module_version": "1.2.0",
            "_view_name": "LayoutView",
            "align_content": null,
            "align_items": null,
            "align_self": null,
            "border": null,
            "bottom": null,
            "display": null,
            "flex": null,
            "flex_flow": null,
            "grid_area": null,
            "grid_auto_columns": null,
            "grid_auto_flow": null,
            "grid_auto_rows": null,
            "grid_column": null,
            "grid_gap": null,
            "grid_row": null,
            "grid_template_areas": null,
            "grid_template_columns": null,
            "grid_template_rows": null,
            "height": null,
            "justify_content": null,
            "justify_items": null,
            "left": null,
            "margin": null,
            "max_height": null,
            "max_width": null,
            "min_height": null,
            "min_width": null,
            "object_fit": null,
            "object_position": null,
            "order": null,
            "overflow": null,
            "overflow_x": null,
            "overflow_y": null,
            "padding": null,
            "right": null,
            "top": null,
            "visibility": null,
            "width": null
          }
        },
        "8ade01376e8c430f9272832f74e7564c": {
          "model_module": "@jupyter-widgets/base",
          "model_name": "LayoutModel",
          "model_module_version": "1.2.0",
          "state": {
            "_model_module": "@jupyter-widgets/base",
            "_model_module_version": "1.2.0",
            "_model_name": "LayoutModel",
            "_view_count": null,
            "_view_module": "@jupyter-widgets/base",
            "_view_module_version": "1.2.0",
            "_view_name": "LayoutView",
            "align_content": null,
            "align_items": null,
            "align_self": null,
            "border": null,
            "bottom": null,
            "display": null,
            "flex": null,
            "flex_flow": null,
            "grid_area": null,
            "grid_auto_columns": null,
            "grid_auto_flow": null,
            "grid_auto_rows": null,
            "grid_column": null,
            "grid_gap": null,
            "grid_row": null,
            "grid_template_areas": null,
            "grid_template_columns": null,
            "grid_template_rows": null,
            "height": null,
            "justify_content": null,
            "justify_items": null,
            "left": null,
            "margin": null,
            "max_height": null,
            "max_width": null,
            "min_height": null,
            "min_width": null,
            "object_fit": null,
            "object_position": null,
            "order": null,
            "overflow": null,
            "overflow_x": null,
            "overflow_y": null,
            "padding": null,
            "right": null,
            "top": null,
            "visibility": null,
            "width": null
          }
        },
        "bff11c0336624d6894853418bf2b7401": {
          "model_module": "@jupyter-widgets/controls",
          "model_name": "DescriptionStyleModel",
          "model_module_version": "1.5.0",
          "state": {
            "_model_module": "@jupyter-widgets/controls",
            "_model_module_version": "1.5.0",
            "_model_name": "DescriptionStyleModel",
            "_view_count": null,
            "_view_module": "@jupyter-widgets/base",
            "_view_module_version": "1.2.0",
            "_view_name": "StyleView",
            "description_width": ""
          }
        },
        "6f0a51e2f0f946408e7bc86b4079a595": {
          "model_module": "@jupyter-widgets/base",
          "model_name": "LayoutModel",
          "model_module_version": "1.2.0",
          "state": {
            "_model_module": "@jupyter-widgets/base",
            "_model_module_version": "1.2.0",
            "_model_name": "LayoutModel",
            "_view_count": null,
            "_view_module": "@jupyter-widgets/base",
            "_view_module_version": "1.2.0",
            "_view_name": "LayoutView",
            "align_content": null,
            "align_items": null,
            "align_self": null,
            "border": null,
            "bottom": null,
            "display": null,
            "flex": null,
            "flex_flow": null,
            "grid_area": null,
            "grid_auto_columns": null,
            "grid_auto_flow": null,
            "grid_auto_rows": null,
            "grid_column": null,
            "grid_gap": null,
            "grid_row": null,
            "grid_template_areas": null,
            "grid_template_columns": null,
            "grid_template_rows": null,
            "height": null,
            "justify_content": null,
            "justify_items": null,
            "left": null,
            "margin": null,
            "max_height": null,
            "max_width": null,
            "min_height": null,
            "min_width": null,
            "object_fit": null,
            "object_position": null,
            "order": null,
            "overflow": null,
            "overflow_x": null,
            "overflow_y": null,
            "padding": null,
            "right": null,
            "top": null,
            "visibility": null,
            "width": null
          }
        },
        "f813b767145648a0a93e7ba768b6a8cb": {
          "model_module": "@jupyter-widgets/controls",
          "model_name": "ProgressStyleModel",
          "model_module_version": "1.5.0",
          "state": {
            "_model_module": "@jupyter-widgets/controls",
            "_model_module_version": "1.5.0",
            "_model_name": "ProgressStyleModel",
            "_view_count": null,
            "_view_module": "@jupyter-widgets/base",
            "_view_module_version": "1.2.0",
            "_view_name": "StyleView",
            "bar_color": null,
            "description_width": ""
          }
        },
        "c5a685a06efa4476a5dd4a3f07776615": {
          "model_module": "@jupyter-widgets/base",
          "model_name": "LayoutModel",
          "model_module_version": "1.2.0",
          "state": {
            "_model_module": "@jupyter-widgets/base",
            "_model_module_version": "1.2.0",
            "_model_name": "LayoutModel",
            "_view_count": null,
            "_view_module": "@jupyter-widgets/base",
            "_view_module_version": "1.2.0",
            "_view_name": "LayoutView",
            "align_content": null,
            "align_items": null,
            "align_self": null,
            "border": null,
            "bottom": null,
            "display": null,
            "flex": null,
            "flex_flow": null,
            "grid_area": null,
            "grid_auto_columns": null,
            "grid_auto_flow": null,
            "grid_auto_rows": null,
            "grid_column": null,
            "grid_gap": null,
            "grid_row": null,
            "grid_template_areas": null,
            "grid_template_columns": null,
            "grid_template_rows": null,
            "height": null,
            "justify_content": null,
            "justify_items": null,
            "left": null,
            "margin": null,
            "max_height": null,
            "max_width": null,
            "min_height": null,
            "min_width": null,
            "object_fit": null,
            "object_position": null,
            "order": null,
            "overflow": null,
            "overflow_x": null,
            "overflow_y": null,
            "padding": null,
            "right": null,
            "top": null,
            "visibility": null,
            "width": null
          }
        },
        "294c151278e645fd9dae23e034d675c1": {
          "model_module": "@jupyter-widgets/controls",
          "model_name": "DescriptionStyleModel",
          "model_module_version": "1.5.0",
          "state": {
            "_model_module": "@jupyter-widgets/controls",
            "_model_module_version": "1.5.0",
            "_model_name": "DescriptionStyleModel",
            "_view_count": null,
            "_view_module": "@jupyter-widgets/base",
            "_view_module_version": "1.2.0",
            "_view_name": "StyleView",
            "description_width": ""
          }
        },
        "e018f2a290aa4861b43e17d1b2b75a1f": {
          "model_module": "@jupyter-widgets/controls",
          "model_name": "HBoxModel",
          "model_module_version": "1.5.0",
          "state": {
            "_dom_classes": [],
            "_model_module": "@jupyter-widgets/controls",
            "_model_module_version": "1.5.0",
            "_model_name": "HBoxModel",
            "_view_count": null,
            "_view_module": "@jupyter-widgets/controls",
            "_view_module_version": "1.5.0",
            "_view_name": "HBoxView",
            "box_style": "",
            "children": [
              "IPY_MODEL_44db98b000424ca1955cadfdc031b31a",
              "IPY_MODEL_4063e3e12e86487692f76f6e84452170",
              "IPY_MODEL_90bdbfed304a4d999faf1f536f847203"
            ],
            "layout": "IPY_MODEL_0964d886a61c442c9fea88ce596393e6"
          }
        },
        "44db98b000424ca1955cadfdc031b31a": {
          "model_module": "@jupyter-widgets/controls",
          "model_name": "HTMLModel",
          "model_module_version": "1.5.0",
          "state": {
            "_dom_classes": [],
            "_model_module": "@jupyter-widgets/controls",
            "_model_module_version": "1.5.0",
            "_model_name": "HTMLModel",
            "_view_count": null,
            "_view_module": "@jupyter-widgets/controls",
            "_view_module_version": "1.5.0",
            "_view_name": "HTMLView",
            "description": "",
            "description_tooltip": null,
            "layout": "IPY_MODEL_c33a2bd9870049618e3be0ab611ea7dd",
            "placeholder": "​",
            "style": "IPY_MODEL_2591d41ec98d401e944bfb673787b471",
            "value": "Batches: 100%"
          }
        },
        "4063e3e12e86487692f76f6e84452170": {
          "model_module": "@jupyter-widgets/controls",
          "model_name": "FloatProgressModel",
          "model_module_version": "1.5.0",
          "state": {
            "_dom_classes": [],
            "_model_module": "@jupyter-widgets/controls",
            "_model_module_version": "1.5.0",
            "_model_name": "FloatProgressModel",
            "_view_count": null,
            "_view_module": "@jupyter-widgets/controls",
            "_view_module_version": "1.5.0",
            "_view_name": "ProgressView",
            "bar_style": "success",
            "description": "",
            "description_tooltip": null,
            "layout": "IPY_MODEL_15b5f202ec2247808007ab42001ac07f",
            "max": 32,
            "min": 0,
            "orientation": "horizontal",
            "style": "IPY_MODEL_d4cfeeb290de402a97780b5c9c4f0f8c",
            "value": 32
          }
        },
        "90bdbfed304a4d999faf1f536f847203": {
          "model_module": "@jupyter-widgets/controls",
          "model_name": "HTMLModel",
          "model_module_version": "1.5.0",
          "state": {
            "_dom_classes": [],
            "_model_module": "@jupyter-widgets/controls",
            "_model_module_version": "1.5.0",
            "_model_name": "HTMLModel",
            "_view_count": null,
            "_view_module": "@jupyter-widgets/controls",
            "_view_module_version": "1.5.0",
            "_view_name": "HTMLView",
            "description": "",
            "description_tooltip": null,
            "layout": "IPY_MODEL_23d32c5dc13c402f826791c1f54824e2",
            "placeholder": "​",
            "style": "IPY_MODEL_e24f82d459a84a1dafb586a7a02e86ef",
            "value": " 32/32 [00:32&lt;00:00,  2.52it/s]"
          }
        },
        "0964d886a61c442c9fea88ce596393e6": {
          "model_module": "@jupyter-widgets/base",
          "model_name": "LayoutModel",
          "model_module_version": "1.2.0",
          "state": {
            "_model_module": "@jupyter-widgets/base",
            "_model_module_version": "1.2.0",
            "_model_name": "LayoutModel",
            "_view_count": null,
            "_view_module": "@jupyter-widgets/base",
            "_view_module_version": "1.2.0",
            "_view_name": "LayoutView",
            "align_content": null,
            "align_items": null,
            "align_self": null,
            "border": null,
            "bottom": null,
            "display": null,
            "flex": null,
            "flex_flow": null,
            "grid_area": null,
            "grid_auto_columns": null,
            "grid_auto_flow": null,
            "grid_auto_rows": null,
            "grid_column": null,
            "grid_gap": null,
            "grid_row": null,
            "grid_template_areas": null,
            "grid_template_columns": null,
            "grid_template_rows": null,
            "height": null,
            "justify_content": null,
            "justify_items": null,
            "left": null,
            "margin": null,
            "max_height": null,
            "max_width": null,
            "min_height": null,
            "min_width": null,
            "object_fit": null,
            "object_position": null,
            "order": null,
            "overflow": null,
            "overflow_x": null,
            "overflow_y": null,
            "padding": null,
            "right": null,
            "top": null,
            "visibility": null,
            "width": null
          }
        },
        "c33a2bd9870049618e3be0ab611ea7dd": {
          "model_module": "@jupyter-widgets/base",
          "model_name": "LayoutModel",
          "model_module_version": "1.2.0",
          "state": {
            "_model_module": "@jupyter-widgets/base",
            "_model_module_version": "1.2.0",
            "_model_name": "LayoutModel",
            "_view_count": null,
            "_view_module": "@jupyter-widgets/base",
            "_view_module_version": "1.2.0",
            "_view_name": "LayoutView",
            "align_content": null,
            "align_items": null,
            "align_self": null,
            "border": null,
            "bottom": null,
            "display": null,
            "flex": null,
            "flex_flow": null,
            "grid_area": null,
            "grid_auto_columns": null,
            "grid_auto_flow": null,
            "grid_auto_rows": null,
            "grid_column": null,
            "grid_gap": null,
            "grid_row": null,
            "grid_template_areas": null,
            "grid_template_columns": null,
            "grid_template_rows": null,
            "height": null,
            "justify_content": null,
            "justify_items": null,
            "left": null,
            "margin": null,
            "max_height": null,
            "max_width": null,
            "min_height": null,
            "min_width": null,
            "object_fit": null,
            "object_position": null,
            "order": null,
            "overflow": null,
            "overflow_x": null,
            "overflow_y": null,
            "padding": null,
            "right": null,
            "top": null,
            "visibility": null,
            "width": null
          }
        },
        "2591d41ec98d401e944bfb673787b471": {
          "model_module": "@jupyter-widgets/controls",
          "model_name": "DescriptionStyleModel",
          "model_module_version": "1.5.0",
          "state": {
            "_model_module": "@jupyter-widgets/controls",
            "_model_module_version": "1.5.0",
            "_model_name": "DescriptionStyleModel",
            "_view_count": null,
            "_view_module": "@jupyter-widgets/base",
            "_view_module_version": "1.2.0",
            "_view_name": "StyleView",
            "description_width": ""
          }
        },
        "15b5f202ec2247808007ab42001ac07f": {
          "model_module": "@jupyter-widgets/base",
          "model_name": "LayoutModel",
          "model_module_version": "1.2.0",
          "state": {
            "_model_module": "@jupyter-widgets/base",
            "_model_module_version": "1.2.0",
            "_model_name": "LayoutModel",
            "_view_count": null,
            "_view_module": "@jupyter-widgets/base",
            "_view_module_version": "1.2.0",
            "_view_name": "LayoutView",
            "align_content": null,
            "align_items": null,
            "align_self": null,
            "border": null,
            "bottom": null,
            "display": null,
            "flex": null,
            "flex_flow": null,
            "grid_area": null,
            "grid_auto_columns": null,
            "grid_auto_flow": null,
            "grid_auto_rows": null,
            "grid_column": null,
            "grid_gap": null,
            "grid_row": null,
            "grid_template_areas": null,
            "grid_template_columns": null,
            "grid_template_rows": null,
            "height": null,
            "justify_content": null,
            "justify_items": null,
            "left": null,
            "margin": null,
            "max_height": null,
            "max_width": null,
            "min_height": null,
            "min_width": null,
            "object_fit": null,
            "object_position": null,
            "order": null,
            "overflow": null,
            "overflow_x": null,
            "overflow_y": null,
            "padding": null,
            "right": null,
            "top": null,
            "visibility": null,
            "width": null
          }
        },
        "d4cfeeb290de402a97780b5c9c4f0f8c": {
          "model_module": "@jupyter-widgets/controls",
          "model_name": "ProgressStyleModel",
          "model_module_version": "1.5.0",
          "state": {
            "_model_module": "@jupyter-widgets/controls",
            "_model_module_version": "1.5.0",
            "_model_name": "ProgressStyleModel",
            "_view_count": null,
            "_view_module": "@jupyter-widgets/base",
            "_view_module_version": "1.2.0",
            "_view_name": "StyleView",
            "bar_color": null,
            "description_width": ""
          }
        },
        "23d32c5dc13c402f826791c1f54824e2": {
          "model_module": "@jupyter-widgets/base",
          "model_name": "LayoutModel",
          "model_module_version": "1.2.0",
          "state": {
            "_model_module": "@jupyter-widgets/base",
            "_model_module_version": "1.2.0",
            "_model_name": "LayoutModel",
            "_view_count": null,
            "_view_module": "@jupyter-widgets/base",
            "_view_module_version": "1.2.0",
            "_view_name": "LayoutView",
            "align_content": null,
            "align_items": null,
            "align_self": null,
            "border": null,
            "bottom": null,
            "display": null,
            "flex": null,
            "flex_flow": null,
            "grid_area": null,
            "grid_auto_columns": null,
            "grid_auto_flow": null,
            "grid_auto_rows": null,
            "grid_column": null,
            "grid_gap": null,
            "grid_row": null,
            "grid_template_areas": null,
            "grid_template_columns": null,
            "grid_template_rows": null,
            "height": null,
            "justify_content": null,
            "justify_items": null,
            "left": null,
            "margin": null,
            "max_height": null,
            "max_width": null,
            "min_height": null,
            "min_width": null,
            "object_fit": null,
            "object_position": null,
            "order": null,
            "overflow": null,
            "overflow_x": null,
            "overflow_y": null,
            "padding": null,
            "right": null,
            "top": null,
            "visibility": null,
            "width": null
          }
        },
        "e24f82d459a84a1dafb586a7a02e86ef": {
          "model_module": "@jupyter-widgets/controls",
          "model_name": "DescriptionStyleModel",
          "model_module_version": "1.5.0",
          "state": {
            "_model_module": "@jupyter-widgets/controls",
            "_model_module_version": "1.5.0",
            "_model_name": "DescriptionStyleModel",
            "_view_count": null,
            "_view_module": "@jupyter-widgets/base",
            "_view_module_version": "1.2.0",
            "_view_name": "StyleView",
            "description_width": ""
          }
        }
      }
    }
  },
  "nbformat": 4,
  "nbformat_minor": 0
}