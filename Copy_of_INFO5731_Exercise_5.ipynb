{
  "cells": [
    {
      "cell_type": "markdown",
      "metadata": {
        "id": "view-in-github",
        "colab_type": "text"
      },
      "source": [
        "<a href=\"https://colab.research.google.com/github/ganesh1616/Ganesh_INFO5731_Fall2024/blob/main/Copy_of_INFO5731_Exercise_5.ipynb\" target=\"_parent\"><img src=\"https://colab.research.google.com/assets/colab-badge.svg\" alt=\"Open In Colab\"/></a>"
      ]
    },
    {
      "cell_type": "markdown",
      "metadata": {
        "id": "VdRwkJBn70nX"
      },
      "source": [
        "# **INFO5731 In-class Exercise 5**\n",
        "\n",
        "**This exercise aims to provide a comprehensive learning experience in text analysis and machine learning techniques, focusing on both text classification and clustering tasks.**"
      ]
    },
    {
      "cell_type": "markdown",
      "source": [
        "***Please use the text corpus you collected in your last in-class-exercise for this exercise. Perform the following tasks***.\n",
        "\n",
        "**Expectations**:\n",
        "*   Students are expected to complete the exercise during lecture period to meet the active participation criteria of the course.\n",
        "*   Use the provided .*ipynb* document to write your code & respond to the questions. Avoid generating a new file.\n",
        "*   Write complete answers and run all the cells before submission.\n",
        "*   Make sure the submission is \"clean\"; *i.e.*, no unnecessary code cells.\n",
        "*   Once finished, allow shared rights from top right corner (*see Canvas for details*).\n",
        "\n",
        "**Total points**: 40\n",
        "\n",
        "**Deadline**: This in-class exercise is due at the end of the day tomorrow, at 11:59 PM.\n",
        "\n",
        "**Late submissions will have a penalty of 10% of the marks for each day of late submission, and no requests will be answered. Manage your time accordingly.**\n"
      ],
      "metadata": {
        "id": "TU-pLW33lpcS"
      }
    },
    {
      "cell_type": "markdown",
      "metadata": {
        "id": "ARqm7u6B70ne"
      },
      "source": [
        "## **Question 1 (20 Points)**\n",
        "\n",
        "The purpose of the question is to practice different machine learning algorithms for **text classification** as well as the performance evaluation. In addition, you are requried to conduct **10 fold cross validation** (https://scikit-learn.org/stable/modules/cross_validation.html) in the training.\n",
        "\n",
        "\n",
        "\n",
        "The dataset can be download from canvas. The dataset contains two files train data and test data for sentiment analysis in IMDB review, it has two categories: 1 represents positive and 0 represents negative. You need to split the training data into training and validate data (80% for training and 20% for validation, https://towardsdatascience.com/train-test-split-and-cross-validation-in-python-80b61beca4b6) and perform 10 fold cross validation while training the classifier. The final trained model was final evaluated on the test data.\n"
      ]
    },
    {
      "cell_type": "markdown",
      "source": [
        "**Algorithms:**\n",
        "\n",
        "*   MultinominalNB\n",
        "*   SVM\n",
        "*   KNN\n",
        "*   Decision tree\n",
        "*   Random Forest\n",
        "*   XGBoost\n",
        "*   Word2Vec\n",
        "*   BERT\n",
        "\n",
        "**Evaluation measurement:**\n",
        "\n",
        "\n",
        "*   Accuracy\n",
        "*   Recall\n",
        "*   Precison\n",
        "*   F-1 score\n"
      ],
      "metadata": {
        "id": "loi8Sh7UE6ha"
      }
    },
    {
      "cell_type": "code",
      "execution_count": null,
      "metadata": {
        "id": "VAZj4PHB70nf"
      },
      "outputs": [],
      "source": [
        "# Write your code here\n",
        "import numpy as np\n",
        "import pandas as pd\n",
        "from sklearn.metrics import accuracy_score, recall_score, precision_score, f1_score, classification_report\n",
        "from sklearn.naive_bayes import MultinomialNB\n",
        "from sklearn.neighbors import KNeighborsClassifier\n",
        "from sklearn.svm import LinearSVC, SVC\n",
        "from sklearn.tree import DecisionTreeClassifier\n",
        "from sklearn.ensemble import RandomForestClassifier\n",
        "from sklearn.model_selection import train_test_split, cross_val_score, StratifiedKFold\n",
        "from xgboost import XGBClassifier\n",
        "import nltk\n",
        "import re\n",
        "import string\n",
        "from nltk.corpus import stopwords\n",
        "from nltk.stem import WordNetLemmatizer\n",
        "from sklearn.feature_extraction.text import TfidfVectorizer\n",
        "from gensim.models import Word2Vec\n",
        "import torch\n",
        "from transformers import DistilBertTokenizer, DistilBertModel\n",
        "\n"
      ]
    },
    {
      "cell_type": "code",
      "source": [
        "# Read the training data\n",
        "train_df = pd.read_csv('//content/stsa-train.txt', sep='delimiter=', header=None, names=['Text'], engine='python')\n",
        "train_df[['Sentiment', 'Text']] = train_df[\"Text\"].str.extract(r'^(\\d+)\\s+(.*)$')\n",
        "train_df.head()\n",
        "\n",
        "# Read the test data\n",
        "test_df = pd.read_csv('/content/stsa-test.txt', sep='delimiter=', header=None, names=['Text'], engine='python')\n",
        "test_df[['Sentiment', 'Text']] = test_df[\"Text\"].str.extract(r'^(\\d+)\\s+(.*)$')\n",
        "test_df.head()"
      ],
      "metadata": {
        "colab": {
          "base_uri": "https://localhost:8080/",
          "height": 206
        },
        "id": "grYfjm7XRszJ",
        "outputId": "e96a1111-609b-408b-c93f-2f4daa304a47"
      },
      "execution_count": null,
      "outputs": [
        {
          "output_type": "execute_result",
          "data": {
            "text/plain": [
              "                                                Text Sentiment\n",
              "0     no movement , no yuks , not much of anything .         0\n",
              "1  a gob of drivel so sickly sweet , even the eag...         0\n",
              "2  gangs of new york is an unapologetic mess , wh...         0\n",
              "3  we never really feel involved with the story ,...         0\n",
              "4            this is one of polanski 's best films .         1"
            ],
            "text/html": [
              "\n",
              "  <div id=\"df-dcb8c214-2a50-4baa-b1c1-c28fe281b05b\" class=\"colab-df-container\">\n",
              "    <div>\n",
              "<style scoped>\n",
              "    .dataframe tbody tr th:only-of-type {\n",
              "        vertical-align: middle;\n",
              "    }\n",
              "\n",
              "    .dataframe tbody tr th {\n",
              "        vertical-align: top;\n",
              "    }\n",
              "\n",
              "    .dataframe thead th {\n",
              "        text-align: right;\n",
              "    }\n",
              "</style>\n",
              "<table border=\"1\" class=\"dataframe\">\n",
              "  <thead>\n",
              "    <tr style=\"text-align: right;\">\n",
              "      <th></th>\n",
              "      <th>Text</th>\n",
              "      <th>Sentiment</th>\n",
              "    </tr>\n",
              "  </thead>\n",
              "  <tbody>\n",
              "    <tr>\n",
              "      <th>0</th>\n",
              "      <td>no movement , no yuks , not much of anything .</td>\n",
              "      <td>0</td>\n",
              "    </tr>\n",
              "    <tr>\n",
              "      <th>1</th>\n",
              "      <td>a gob of drivel so sickly sweet , even the eag...</td>\n",
              "      <td>0</td>\n",
              "    </tr>\n",
              "    <tr>\n",
              "      <th>2</th>\n",
              "      <td>gangs of new york is an unapologetic mess , wh...</td>\n",
              "      <td>0</td>\n",
              "    </tr>\n",
              "    <tr>\n",
              "      <th>3</th>\n",
              "      <td>we never really feel involved with the story ,...</td>\n",
              "      <td>0</td>\n",
              "    </tr>\n",
              "    <tr>\n",
              "      <th>4</th>\n",
              "      <td>this is one of polanski 's best films .</td>\n",
              "      <td>1</td>\n",
              "    </tr>\n",
              "  </tbody>\n",
              "</table>\n",
              "</div>\n",
              "    <div class=\"colab-df-buttons\">\n",
              "\n",
              "  <div class=\"colab-df-container\">\n",
              "    <button class=\"colab-df-convert\" onclick=\"convertToInteractive('df-dcb8c214-2a50-4baa-b1c1-c28fe281b05b')\"\n",
              "            title=\"Convert this dataframe to an interactive table.\"\n",
              "            style=\"display:none;\">\n",
              "\n",
              "  <svg xmlns=\"http://www.w3.org/2000/svg\" height=\"24px\" viewBox=\"0 -960 960 960\">\n",
              "    <path d=\"M120-120v-720h720v720H120Zm60-500h600v-160H180v160Zm220 220h160v-160H400v160Zm0 220h160v-160H400v160ZM180-400h160v-160H180v160Zm440 0h160v-160H620v160ZM180-180h160v-160H180v160Zm440 0h160v-160H620v160Z\"/>\n",
              "  </svg>\n",
              "    </button>\n",
              "\n",
              "  <style>\n",
              "    .colab-df-container {\n",
              "      display:flex;\n",
              "      gap: 12px;\n",
              "    }\n",
              "\n",
              "    .colab-df-convert {\n",
              "      background-color: #E8F0FE;\n",
              "      border: none;\n",
              "      border-radius: 50%;\n",
              "      cursor: pointer;\n",
              "      display: none;\n",
              "      fill: #1967D2;\n",
              "      height: 32px;\n",
              "      padding: 0 0 0 0;\n",
              "      width: 32px;\n",
              "    }\n",
              "\n",
              "    .colab-df-convert:hover {\n",
              "      background-color: #E2EBFA;\n",
              "      box-shadow: 0px 1px 2px rgba(60, 64, 67, 0.3), 0px 1px 3px 1px rgba(60, 64, 67, 0.15);\n",
              "      fill: #174EA6;\n",
              "    }\n",
              "\n",
              "    .colab-df-buttons div {\n",
              "      margin-bottom: 4px;\n",
              "    }\n",
              "\n",
              "    [theme=dark] .colab-df-convert {\n",
              "      background-color: #3B4455;\n",
              "      fill: #D2E3FC;\n",
              "    }\n",
              "\n",
              "    [theme=dark] .colab-df-convert:hover {\n",
              "      background-color: #434B5C;\n",
              "      box-shadow: 0px 1px 3px 1px rgba(0, 0, 0, 0.15);\n",
              "      filter: drop-shadow(0px 1px 2px rgba(0, 0, 0, 0.3));\n",
              "      fill: #FFFFFF;\n",
              "    }\n",
              "  </style>\n",
              "\n",
              "    <script>\n",
              "      const buttonEl =\n",
              "        document.querySelector('#df-dcb8c214-2a50-4baa-b1c1-c28fe281b05b button.colab-df-convert');\n",
              "      buttonEl.style.display =\n",
              "        google.colab.kernel.accessAllowed ? 'block' : 'none';\n",
              "\n",
              "      async function convertToInteractive(key) {\n",
              "        const element = document.querySelector('#df-dcb8c214-2a50-4baa-b1c1-c28fe281b05b');\n",
              "        const dataTable =\n",
              "          await google.colab.kernel.invokeFunction('convertToInteractive',\n",
              "                                                    [key], {});\n",
              "        if (!dataTable) return;\n",
              "\n",
              "        const docLinkHtml = 'Like what you see? Visit the ' +\n",
              "          '<a target=\"_blank\" href=https://colab.research.google.com/notebooks/data_table.ipynb>data table notebook</a>'\n",
              "          + ' to learn more about interactive tables.';\n",
              "        element.innerHTML = '';\n",
              "        dataTable['output_type'] = 'display_data';\n",
              "        await google.colab.output.renderOutput(dataTable, element);\n",
              "        const docLink = document.createElement('div');\n",
              "        docLink.innerHTML = docLinkHtml;\n",
              "        element.appendChild(docLink);\n",
              "      }\n",
              "    </script>\n",
              "  </div>\n",
              "\n",
              "\n",
              "<div id=\"df-62a7d96e-2819-4889-8c28-223041155684\">\n",
              "  <button class=\"colab-df-quickchart\" onclick=\"quickchart('df-62a7d96e-2819-4889-8c28-223041155684')\"\n",
              "            title=\"Suggest charts\"\n",
              "            style=\"display:none;\">\n",
              "\n",
              "<svg xmlns=\"http://www.w3.org/2000/svg\" height=\"24px\"viewBox=\"0 0 24 24\"\n",
              "     width=\"24px\">\n",
              "    <g>\n",
              "        <path d=\"M19 3H5c-1.1 0-2 .9-2 2v14c0 1.1.9 2 2 2h14c1.1 0 2-.9 2-2V5c0-1.1-.9-2-2-2zM9 17H7v-7h2v7zm4 0h-2V7h2v10zm4 0h-2v-4h2v4z\"/>\n",
              "    </g>\n",
              "</svg>\n",
              "  </button>\n",
              "\n",
              "<style>\n",
              "  .colab-df-quickchart {\n",
              "      --bg-color: #E8F0FE;\n",
              "      --fill-color: #1967D2;\n",
              "      --hover-bg-color: #E2EBFA;\n",
              "      --hover-fill-color: #174EA6;\n",
              "      --disabled-fill-color: #AAA;\n",
              "      --disabled-bg-color: #DDD;\n",
              "  }\n",
              "\n",
              "  [theme=dark] .colab-df-quickchart {\n",
              "      --bg-color: #3B4455;\n",
              "      --fill-color: #D2E3FC;\n",
              "      --hover-bg-color: #434B5C;\n",
              "      --hover-fill-color: #FFFFFF;\n",
              "      --disabled-bg-color: #3B4455;\n",
              "      --disabled-fill-color: #666;\n",
              "  }\n",
              "\n",
              "  .colab-df-quickchart {\n",
              "    background-color: var(--bg-color);\n",
              "    border: none;\n",
              "    border-radius: 50%;\n",
              "    cursor: pointer;\n",
              "    display: none;\n",
              "    fill: var(--fill-color);\n",
              "    height: 32px;\n",
              "    padding: 0;\n",
              "    width: 32px;\n",
              "  }\n",
              "\n",
              "  .colab-df-quickchart:hover {\n",
              "    background-color: var(--hover-bg-color);\n",
              "    box-shadow: 0 1px 2px rgba(60, 64, 67, 0.3), 0 1px 3px 1px rgba(60, 64, 67, 0.15);\n",
              "    fill: var(--button-hover-fill-color);\n",
              "  }\n",
              "\n",
              "  .colab-df-quickchart-complete:disabled,\n",
              "  .colab-df-quickchart-complete:disabled:hover {\n",
              "    background-color: var(--disabled-bg-color);\n",
              "    fill: var(--disabled-fill-color);\n",
              "    box-shadow: none;\n",
              "  }\n",
              "\n",
              "  .colab-df-spinner {\n",
              "    border: 2px solid var(--fill-color);\n",
              "    border-color: transparent;\n",
              "    border-bottom-color: var(--fill-color);\n",
              "    animation:\n",
              "      spin 1s steps(1) infinite;\n",
              "  }\n",
              "\n",
              "  @keyframes spin {\n",
              "    0% {\n",
              "      border-color: transparent;\n",
              "      border-bottom-color: var(--fill-color);\n",
              "      border-left-color: var(--fill-color);\n",
              "    }\n",
              "    20% {\n",
              "      border-color: transparent;\n",
              "      border-left-color: var(--fill-color);\n",
              "      border-top-color: var(--fill-color);\n",
              "    }\n",
              "    30% {\n",
              "      border-color: transparent;\n",
              "      border-left-color: var(--fill-color);\n",
              "      border-top-color: var(--fill-color);\n",
              "      border-right-color: var(--fill-color);\n",
              "    }\n",
              "    40% {\n",
              "      border-color: transparent;\n",
              "      border-right-color: var(--fill-color);\n",
              "      border-top-color: var(--fill-color);\n",
              "    }\n",
              "    60% {\n",
              "      border-color: transparent;\n",
              "      border-right-color: var(--fill-color);\n",
              "    }\n",
              "    80% {\n",
              "      border-color: transparent;\n",
              "      border-right-color: var(--fill-color);\n",
              "      border-bottom-color: var(--fill-color);\n",
              "    }\n",
              "    90% {\n",
              "      border-color: transparent;\n",
              "      border-bottom-color: var(--fill-color);\n",
              "    }\n",
              "  }\n",
              "</style>\n",
              "\n",
              "  <script>\n",
              "    async function quickchart(key) {\n",
              "      const quickchartButtonEl =\n",
              "        document.querySelector('#' + key + ' button');\n",
              "      quickchartButtonEl.disabled = true;  // To prevent multiple clicks.\n",
              "      quickchartButtonEl.classList.add('colab-df-spinner');\n",
              "      try {\n",
              "        const charts = await google.colab.kernel.invokeFunction(\n",
              "            'suggestCharts', [key], {});\n",
              "      } catch (error) {\n",
              "        console.error('Error during call to suggestCharts:', error);\n",
              "      }\n",
              "      quickchartButtonEl.classList.remove('colab-df-spinner');\n",
              "      quickchartButtonEl.classList.add('colab-df-quickchart-complete');\n",
              "    }\n",
              "    (() => {\n",
              "      let quickchartButtonEl =\n",
              "        document.querySelector('#df-62a7d96e-2819-4889-8c28-223041155684 button');\n",
              "      quickchartButtonEl.style.display =\n",
              "        google.colab.kernel.accessAllowed ? 'block' : 'none';\n",
              "    })();\n",
              "  </script>\n",
              "</div>\n",
              "\n",
              "    </div>\n",
              "  </div>\n"
            ],
            "application/vnd.google.colaboratory.intrinsic+json": {
              "type": "dataframe",
              "variable_name": "test_df",
              "summary": "{\n  \"name\": \"test_df\",\n  \"rows\": 1821,\n  \"fields\": [\n    {\n      \"column\": \"Text\",\n      \"properties\": {\n        \"dtype\": \"string\",\n        \"num_unique_values\": 1821,\n        \"samples\": [\n          \"there is no entry portal in the rules of attraction , and i spent most of the movie feeling depressed by the shallow , selfish , greedy characters .\",\n          \"a charming yet poignant tale of the irrevocable ties that bind .\",\n          \"it 's all pretty cynical and condescending , too .\"\n        ],\n        \"semantic_type\": \"\",\n        \"description\": \"\"\n      }\n    },\n    {\n      \"column\": \"Sentiment\",\n      \"properties\": {\n        \"dtype\": \"category\",\n        \"num_unique_values\": 2,\n        \"samples\": [\n          \"1\",\n          \"0\"\n        ],\n        \"semantic_type\": \"\",\n        \"description\": \"\"\n      }\n    }\n  ]\n}"
            }
          },
          "metadata": {},
          "execution_count": 3
        }
      ]
    },
    {
      "cell_type": "code",
      "source": [
        "# Text cleaning function\n",
        "nltk.download('stopwords')\n",
        "nltk.download('wordnet')\n",
        "nltk.download('omw-1.4')\n",
        "stopword = stopwords.words('english')\n",
        "w_l = WordNetLemmatizer()\n",
        "\n",
        "def clean_text(txt):\n",
        "    txt = \"\".join([w.lower() for w in txt if w not in string.punctuation])\n",
        "    txt = re.sub(r\"^\\d+\\s|\\s\\d+\\s|\\s\\d+$\", \" \", txt)\n",
        "    tokens = re.split(r'\\W+', txt)\n",
        "    return [w_l.lemmatize(word) for word in tokens if word not in stopword]\n",
        "\n",
        "train_df['Cleaned_Text'] = train_df['Text'].apply(clean_text)\n",
        "test_df['Cleaned_Text'] = test_df['Text'].apply(clean_text)"
      ],
      "metadata": {
        "colab": {
          "base_uri": "https://localhost:8080/"
        },
        "id": "yioZ1o0mLj7o",
        "outputId": "b91f8c35-7e5b-4382-a8e9-e7df0f9fc447"
      },
      "execution_count": null,
      "outputs": [
        {
          "output_type": "stream",
          "name": "stderr",
          "text": [
            "[nltk_data] Downloading package stopwords to /root/nltk_data...\n",
            "[nltk_data]   Package stopwords is already up-to-date!\n",
            "[nltk_data] Downloading package wordnet to /root/nltk_data...\n",
            "[nltk_data]   Package wordnet is already up-to-date!\n",
            "[nltk_data] Downloading package omw-1.4 to /root/nltk_data...\n",
            "[nltk_data]   Package omw-1.4 is already up-to-date!\n"
          ]
        }
      ]
    },
    {
      "cell_type": "code",
      "source": [
        "# TF-IDF Vectorization\n",
        "tf_vect = TfidfVectorizer(analyzer=lambda x: x)  # Pass cleaned tokens directly\n",
        "X_train_tfidf = tf_vect.fit_transform(train_df['Cleaned_Text'])\n",
        "X_test_tfidf = tf_vect.transform(test_df['Cleaned_Text'])"
      ],
      "metadata": {
        "id": "VI05IoAaLplW"
      },
      "execution_count": null,
      "outputs": []
    },
    {
      "cell_type": "code",
      "source": [
        "# Train-validation split\n",
        "x_train, x_val, y_train, y_val = train_test_split(\n",
        "    X_train_tfidf, train_df['Sentiment'], test_size=0.2, random_state=42)"
      ],
      "metadata": {
        "id": "EjxZH8n4Ls7Z"
      },
      "execution_count": null,
      "outputs": []
    },
    {
      "cell_type": "code",
      "source": [
        "# Function to evaluate models\n",
        "def evaluate_model(model, x_train, y_train, x_val, y_val):\n",
        "    model.fit(x_train, y_train)\n",
        "    y_pred = model.predict(x_val)\n",
        "    print(f'Accuracy: {accuracy_score(y_val, y_pred)}')\n",
        "    print(classification_report(y_val, y_pred))\n",
        "    cross_val_scores = cross_val_score(model, x_train, y_train, cv=10)\n",
        "    print(f'Cross-validated Accuracy: {cross_val_scores.mean()}')"
      ],
      "metadata": {
        "id": "MnBjpAleLv32"
      },
      "execution_count": null,
      "outputs": []
    },
    {
      "cell_type": "code",
      "source": [
        "\n",
        "# Model training and evaluation\n",
        "print(\"MultinomialNB Results:\")\n",
        "evaluate_model(MultinomialNB(), x_train, y_train, x_val, y_val)\n",
        "\n",
        "print(\"\\nLinear SVC Results:\")\n",
        "evaluate_model(LinearSVC(), x_train, y_train, x_val, y_val)\n",
        "\n",
        "print(\"\\nKNeighborsClassifier Results:\")\n",
        "evaluate_model(KNeighborsClassifier(n_neighbors=5, n_jobs=-1), x_train, y_train, x_val, y_val)\n",
        "\n",
        "print(\"\\nDecisionTreeClassifier Results:\")\n",
        "evaluate_model(DecisionTreeClassifier(), x_train, y_train, x_val, y_val)\n",
        "\n",
        "print(\"\\nRandomForestClassifier Results:\")\n",
        "evaluate_model(RandomForestClassifier(), x_train, y_train, x_val, y_val)\n",
        "\n"
      ],
      "metadata": {
        "colab": {
          "base_uri": "https://localhost:8080/"
        },
        "id": "Bt_wvN97LzFM",
        "outputId": "640c1280-ec76-4503-c6d5-b1dad1d10d6d"
      },
      "execution_count": null,
      "outputs": [
        {
          "output_type": "stream",
          "name": "stdout",
          "text": [
            "MultinomialNB Results:\n",
            "Accuracy: 0.796242774566474\n",
            "              precision    recall  f1-score   support\n",
            "\n",
            "           0       0.85      0.70      0.77       671\n",
            "           1       0.76      0.88      0.82       713\n",
            "\n",
            "    accuracy                           0.80      1384\n",
            "   macro avg       0.81      0.79      0.79      1384\n",
            "weighted avg       0.80      0.80      0.79      1384\n",
            "\n",
            "Cross-validated Accuracy: 0.776012364457733\n",
            "\n",
            "Linear SVC Results:\n",
            "Accuracy: 0.7911849710982659\n",
            "              precision    recall  f1-score   support\n",
            "\n",
            "           0       0.81      0.75      0.78       671\n",
            "           1       0.78      0.83      0.80       713\n",
            "\n",
            "    accuracy                           0.79      1384\n",
            "   macro avg       0.79      0.79      0.79      1384\n",
            "weighted avg       0.79      0.79      0.79      1384\n",
            "\n",
            "Cross-validated Accuracy: 0.7631886461114629\n",
            "\n",
            "KNeighborsClassifier Results:\n",
            "Accuracy: 0.740606936416185\n",
            "              precision    recall  f1-score   support\n",
            "\n",
            "           0       0.75      0.71      0.73       671\n",
            "           1       0.74      0.77      0.75       713\n",
            "\n",
            "    accuracy                           0.74      1384\n",
            "   macro avg       0.74      0.74      0.74      1384\n",
            "weighted avg       0.74      0.74      0.74      1384\n",
            "\n",
            "Cross-validated Accuracy: 0.7019565089665167\n",
            "\n",
            "DecisionTreeClassifier Results:\n",
            "Accuracy: 0.666907514450867\n",
            "              precision    recall  f1-score   support\n",
            "\n",
            "           0       0.66      0.64      0.65       671\n",
            "           1       0.67      0.70      0.68       713\n",
            "\n",
            "    accuracy                           0.67      1384\n",
            "   macro avg       0.67      0.67      0.67      1384\n",
            "weighted avg       0.67      0.67      0.67      1384\n",
            "\n",
            "Cross-validated Accuracy: 0.6177698278507124\n",
            "\n",
            "RandomForestClassifier Results:\n",
            "Accuracy: 0.7297687861271677\n",
            "              precision    recall  f1-score   support\n",
            "\n",
            "           0       0.77      0.63      0.69       671\n",
            "           1       0.70      0.82      0.76       713\n",
            "\n",
            "    accuracy                           0.73      1384\n",
            "   macro avg       0.74      0.73      0.73      1384\n",
            "weighted avg       0.74      0.73      0.73      1384\n",
            "\n",
            "Cross-validated Accuracy: 0.7109847174257904\n"
          ]
        }
      ]
    },
    {
      "cell_type": "code",
      "source": [
        "# Word2Vec Embeddings\n",
        "print(\"\\nWord2Vec with SVM:\")\n",
        "word2vec_model = Word2Vec(sentences=train_df['Cleaned_Text'], vector_size=100, window=5, min_count=1, workers=4)"
      ],
      "metadata": {
        "colab": {
          "base_uri": "https://localhost:8080/"
        },
        "id": "LVpg5ojbM6iy",
        "outputId": "d50f3bda-899a-4cc5-c422-7b65323ff98e"
      },
      "execution_count": null,
      "outputs": [
        {
          "output_type": "stream",
          "name": "stdout",
          "text": [
            "\n",
            "Word2Vec with SVM:\n"
          ]
        }
      ]
    },
    {
      "cell_type": "code",
      "source": [
        "def word2vec_vectorizer(tokens, model, vector_size):\n",
        "    vector = np.zeros(vector_size)\n",
        "    num_words = 0\n",
        "    for word in tokens:\n",
        "        if word in model.wv:\n",
        "            vector += model.wv[word]\n",
        "            num_words += 1\n",
        "    return vector / num_words if num_words > 0 else vector\n"
      ],
      "metadata": {
        "id": "geGQlZYONKEa"
      },
      "execution_count": null,
      "outputs": []
    },
    {
      "cell_type": "code",
      "source": [
        "train_vectors = np.array([word2vec_vectorizer(tokens, word2vec_model, 100) for tokens in train_df['Cleaned_Text']])\n",
        "x_train, x_val, y_train, y_val = train_test_split(train_vectors, train_df['Sentiment'], test_size=0.2, random_state=42)\n",
        "evaluate_model(SVC(), x_train, y_train, x_val, y_val)"
      ],
      "metadata": {
        "colab": {
          "base_uri": "https://localhost:8080/"
        },
        "id": "tPnBbxGcNQZu",
        "outputId": "5fe127cb-4710-4e78-e5c8-a256e12ecfc0"
      },
      "execution_count": null,
      "outputs": [
        {
          "output_type": "stream",
          "name": "stdout",
          "text": [
            "Accuracy: 0.5260115606936416\n",
            "              precision    recall  f1-score   support\n",
            "\n",
            "           0       0.62      0.06      0.11       671\n",
            "           1       0.52      0.97      0.68       713\n",
            "\n",
            "    accuracy                           0.53      1384\n",
            "   macro avg       0.57      0.51      0.39      1384\n",
            "weighted avg       0.57      0.53      0.40      1384\n",
            "\n",
            "Cross-validated Accuracy: 0.5285394402700073\n"
          ]
        }
      ]
    },
    {
      "cell_type": "code",
      "source": [
        "\n",
        "# DistilBERT Embeddings\n",
        "print(\"\\nDistilBERT with SVM:\")\n",
        "tokenizer = DistilBertTokenizer.from_pretrained('distilbert-base-uncased')\n",
        "model = DistilBertModel.from_pretrained('distilbert-base-uncased')\n",
        "\n",
        "def bert_encode_text(texts, tokenizer, model):\n",
        "    inputs = tokenizer(texts, padding=True, truncation=True, return_tensors=\"pt\", max_length=512)\n",
        "    with torch.no_grad():\n",
        "        outputs = model(**inputs)\n",
        "    return outputs.last_hidden_state[:, 0, :].numpy()"
      ],
      "metadata": {
        "colab": {
          "base_uri": "https://localhost:8080/"
        },
        "id": "AuaFnU-9NVin",
        "outputId": "5aeae1f4-5649-4917-8f96-dd39a10262e3"
      },
      "execution_count": null,
      "outputs": [
        {
          "output_type": "stream",
          "name": "stdout",
          "text": [
            "\n",
            "DistilBERT with SVM:\n"
          ]
        },
        {
          "output_type": "stream",
          "name": "stderr",
          "text": [
            "/usr/local/lib/python3.10/dist-packages/huggingface_hub/utils/_auth.py:94: UserWarning: \n",
            "The secret `HF_TOKEN` does not exist in your Colab secrets.\n",
            "To authenticate with the Hugging Face Hub, create a token in your settings tab (https://huggingface.co/settings/tokens), set it as secret in your Google Colab and restart your session.\n",
            "You will be able to reuse this secret in all of your notebooks.\n",
            "Please note that authentication is recommended but still optional to access public models or datasets.\n",
            "  warnings.warn(\n"
          ]
        }
      ]
    },
    {
      "cell_type": "code",
      "source": [
        "train_bert_vectors = bert_encode_text(train_df['Text'].tolist(), tokenizer, model)\n",
        "x_train, x_val, y_train, y_val = train_test_split(train_bert_vectors, train_df['Sentiment'], test_size=0.2, random_state=42)\n",
        "evaluate_model(SVC(), x_train, y_train, x_val, y_val)"
      ],
      "metadata": {
        "id": "MMEaM46pN75M"
      },
      "execution_count": null,
      "outputs": []
    },
    {
      "cell_type": "markdown",
      "metadata": {
        "id": "dEUjBE6C70nf"
      },
      "source": [
        "## **Question 2 (20 Points)**\n",
        "\n",
        "The purpose of the question is to practice different machine learning algorithms for **text clustering**.\n",
        "\n",
        "Please downlad the dataset by using the following link.  https://www.kaggle.com/PromptCloudHQ/amazon-reviews-unlocked-mobile-phones\n",
        "(You can also use different text data which you want)\n",
        "\n",
        "**Apply the listed clustering methods to the dataset:**\n",
        "*   K-means\n",
        "*   DBSCAN\n",
        "*   Hierarchical clustering\n",
        "*   Word2Vec\n",
        "*   BERT\n",
        "\n",
        "You can refer to of the codes from  the follwing link below.\n",
        "https://www.kaggle.com/karthik3890/text-clustering"
      ]
    },
    {
      "cell_type": "code",
      "execution_count": null,
      "metadata": {
        "id": "EoQX5s4O70nf"
      },
      "outputs": [],
      "source": [
        "# Write your code here\n",
        "import pandas as pd\n",
        "import seaborn as sns\n",
        "import matplotlib.pyplot as plt\n",
        "import nltk\n",
        "from nltk.corpus import stopwords\n",
        "from sklearn.feature_extraction.text import CountVectorizer, TfidfVectorizer\n",
        "from sklearn.cluster import KMeans, DBSCAN, AgglomerativeClustering\n",
        "from sklearn import metrics\n",
        "import gensim\n",
        "import numpy as np\n",
        "import re"
      ]
    },
    {
      "cell_type": "code",
      "source": [
        "# Load dataset\n",
        "df = pd.read_csv('/content/Amazon_Unlocked_Mobile.csv', encoding='utf-8')\n",
        "print(df.head())"
      ],
      "metadata": {
        "colab": {
          "base_uri": "https://localhost:8080/"
        },
        "id": "YJ2G3H2ZZM5k",
        "outputId": "8cd36ebf-9c0d-4642-c09a-7811575abfd5"
      },
      "execution_count": null,
      "outputs": [
        {
          "output_type": "stream",
          "name": "stdout",
          "text": [
            "                                        Product Name Brand Name   Price  \\\n",
            "0  \"CLEAR CLEAN ESN\" Sprint EPIC 4G Galaxy SPH-D7...    Samsung  199.99   \n",
            "1  \"CLEAR CLEAN ESN\" Sprint EPIC 4G Galaxy SPH-D7...    Samsung  199.99   \n",
            "2  \"CLEAR CLEAN ESN\" Sprint EPIC 4G Galaxy SPH-D7...    Samsung  199.99   \n",
            "3  \"CLEAR CLEAN ESN\" Sprint EPIC 4G Galaxy SPH-D7...    Samsung  199.99   \n",
            "4  \"CLEAR CLEAN ESN\" Sprint EPIC 4G Galaxy SPH-D7...    Samsung  199.99   \n",
            "\n",
            "   Rating                                            Reviews  Review Votes  \n",
            "0       5  I feel so LUCKY to have found this used (phone...           1.0  \n",
            "1       4  nice phone, nice up grade from my pantach revu...           0.0  \n",
            "2       5                                       Very pleased           0.0  \n",
            "3       4  It works good but it goes slow sometimes but i...           0.0  \n",
            "4       4  Great phone to replace my lost phone. The only...           0.0  \n"
          ]
        }
      ]
    },
    {
      "cell_type": "code",
      "source": [
        "# Define a custom color palette\n",
        "custom_palette = sns.color_palette(\"Set2\")\n",
        "sns.countplot(x='Rating', data=df, palette=custom_palette)\n",
        "plt.show()"
      ],
      "metadata": {
        "colab": {
          "base_uri": "https://localhost:8080/",
          "height": 590
        },
        "id": "jpTmnFQUZYOK",
        "outputId": "6d8e7153-df91-4c2d-9cc9-ae13f4261c36"
      },
      "execution_count": null,
      "outputs": [
        {
          "output_type": "stream",
          "name": "stderr",
          "text": [
            "<ipython-input-3-08e0d8b3bc3e>:3: FutureWarning: \n",
            "\n",
            "Passing `palette` without assigning `hue` is deprecated and will be removed in v0.14.0. Assign the `x` variable to `hue` and set `legend=False` for the same effect.\n",
            "\n",
            "  sns.countplot(x='Rating', data=df, palette=custom_palette)\n",
            "<ipython-input-3-08e0d8b3bc3e>:3: UserWarning: The palette list has more values (8) than needed (5), which may not be intended.\n",
            "  sns.countplot(x='Rating', data=df, palette=custom_palette)\n"
          ]
        },
        {
          "output_type": "display_data",
          "data": {
            "text/plain": [
              "<Figure size 640x480 with 1 Axes>"
            ],
            "image/png": "[encoded data removed]"
          },
          "metadata": {}
        }
      ]
    },
    {
      "cell_type": "markdown",
      "source": [
        "**In one paragraph, please compare the results of K-means, DBSCAN, Hierarchical clustering, Word2Vec, and BERT.**"
      ],
      "metadata": {
        "id": "tRijW2aLGONl"
      }
    },
    {
      "cell_type": "code",
      "source": [
        "# Convert Ratings to Positive/Negative sentiment\n",
        "def classify_rating(rating):\n",
        "    return 'negative' if rating < 3 else 'positive'\n",
        "\n",
        "df['RatingPosNeg'] = df['Rating'].map(classify_rating)\n",
        "# Fill missing values in 'RatingPosNeg'\n",
        "df['RatingPosNeg'].fillna('Unknown', inplace=True)\n",
        "\n",
        "sns.countplot(x='RatingPosNeg', data=df)\n",
        "plt.show()"
      ],
      "metadata": {
        "colab": {
          "base_uri": "https://localhost:8080/",
          "height": 590
        },
        "id": "1NUOweh0ZfGQ",
        "outputId": "b6bde023-a094-4e25-d46a-7284f1336ec2"
      },
      "execution_count": null,
      "outputs": [
        {
          "output_type": "stream",
          "name": "stderr",
          "text": [
            "<ipython-input-4-237dee770dab>:7: FutureWarning: A value is trying to be set on a copy of a DataFrame or Series through chained assignment using an inplace method.\n",
            "The behavior will change in pandas 3.0. This inplace method will never work because the intermediate object on which we are setting values always behaves as a copy.\n",
            "\n",
            "For example, when doing 'df[col].method(value, inplace=True)', try using 'df.method({col: value}, inplace=True)' or df[col] = df[col].method(value) instead, to perform the operation inplace on the original object.\n",
            "\n",
            "\n",
            "  df['RatingPosNeg'].fillna('Unknown', inplace=True)\n"
          ]
        },
        {
          "output_type": "display_data",
          "data": {
            "text/plain": [
              "<Figure size 640x480 with 1 Axes>"
            ],
            "image/png": "[encoded data removed]"
          },
          "metadata": {}
        }
      ]
    },
    {
      "cell_type": "code",
      "source": [
        "# Text preprocessing\n",
        "nltk.download('stopwords')\n",
        "stop_words = set(stopwords.words('english'))\n",
        "stemmer = nltk.stem.SnowballStemmer('english')\n",
        "\n",
        "def clean_text(text):\n",
        "    \"\"\"Clean punctuation from text.\"\"\"\n",
        "    text = re.sub(r'[?|!|\\'|\"|#]', r'', text)\n",
        "    text = re.sub(r'[.|,|)|(|\\|/]', r' ', text)\n",
        "    return text"
      ],
      "metadata": {
        "colab": {
          "base_uri": "https://localhost:8080/"
        },
        "id": "b2MExgNxZiOu",
        "outputId": "3e654130-5f76-4f3d-96c8-7f25be54db82"
      },
      "execution_count": null,
      "outputs": [
        {
          "output_type": "stream",
          "name": "stderr",
          "text": [
            "[nltk_data] Downloading package stopwords to /root/nltk_data...\n",
            "[nltk_data]   Package stopwords is already up-to-date!\n"
          ]
        }
      ]
    },
    {
      "cell_type": "code",
      "source": [
        "# Sample data for efficient processing\n",
        "final = df.sample(n=10000, random_state=1)\n",
        "cleaned_texts = []\n",
        "positive_words, negative_words = [], []\n",
        "\n",
        "for i, review in enumerate(final['Reviews'].values):\n",
        "    words = []\n",
        "    if isinstance(review, str):  # Skip NaN values\n",
        "        for word in review.split():\n",
        "            clean_word = clean_text(word).lower()\n",
        "            if clean_word.isalpha() and clean_word not in stop_words:\n",
        "                stemmed_word = stemmer.stem(clean_word)\n",
        "                words.append(stemmed_word)\n",
        "                if final['RatingPosNeg'].values[i] == 'positive':\n",
        "                    positive_words.append(stemmed_word)\n",
        "                elif final['RatingPosNeg'].values[i] == 'negative':\n",
        "                    negative_words.append(stemmed_word)\n",
        "    cleaned_texts.append(' '.join(words))\n",
        "\n",
        "final['CleanedText'] = cleaned_texts"
      ],
      "metadata": {
        "id": "hF3mIEM2Zpui"
      },
      "execution_count": null,
      "outputs": []
    },
    {
      "cell_type": "code",
      "source": [
        "# Bag of Words\n",
        "vectorizer = CountVectorizer()\n",
        "bow_matrix = vectorizer.fit_transform(final['CleanedText'].values)"
      ],
      "metadata": {
        "id": "di_MfQGWZrgT"
      },
      "execution_count": null,
      "outputs": []
    },
    {
      "cell_type": "code",
      "source": [
        "# K-Means clustering with Bag of Words\n",
        "kmeans_bow = KMeans(n_clusters=10, random_state=99)\n",
        "kmeans_bow.fit(bow_matrix)\n",
        "final['Bow_Cluster'] = kmeans_bow.labels_\n",
        "\n",
        "print(\"Top terms per cluster:\")\n",
        "terms = vectorizer.get_feature_names_out()\n",
        "for i in range(10):\n",
        "    cluster_terms = kmeans_bow.cluster_centers_[i].argsort()[-10:]\n",
        "    print(f\"Cluster {i}: {' '.join(terms[j] for j in cluster_terms)}\")"
      ],
      "metadata": {
        "colab": {
          "base_uri": "https://localhost:8080/"
        },
        "id": "Hwteqy0IZyMd",
        "outputId": "7a71889a-ebee-4665-d761-294cad1df7fe"
      },
      "execution_count": null,
      "outputs": [
        {
          "output_type": "stream",
          "name": "stdout",
          "text": [
            "Top terms per cluster:\n",
            "Cluster 0: would get like one love use good great work phone\n",
            "Cluster 1: work would android get screen app one like use phone\n",
            "Cluster 2: one get product like use excel love great good work\n",
            "Cluster 3: dont would work one screen batteri like get use phone\n",
            "Cluster 4: get much dont one batteri use phone better like iphon\n",
            "Cluster 5: good android get card flash sim one app use phone\n",
            "Cluster 6: would one realli good screen work like get use phone\n",
            "Cluster 7: softwar turn littl would get connect phone work use watch\n",
            "Cluster 8: por es lo con un en de la que el\n",
            "Cluster 9: screen good great get one would like use work phone\n"
          ]
        }
      ]
    },
    {
      "cell_type": "code",
      "source": [
        "# TF-IDF\n",
        "tfidf_vectorizer = TfidfVectorizer()\n",
        "tfidf_matrix = tfidf_vectorizer.fit_transform(final['CleanedText'].values)\n",
        "\n",
        "kmeans_tfidf = KMeans(n_clusters=10, random_state=99)\n",
        "kmeans_tfidf.fit(tfidf_matrix)\n",
        "final['Tfidf_Cluster'] = kmeans_tfidf.labels_"
      ],
      "metadata": {
        "id": "a8X9HG-7Z2fi"
      },
      "execution_count": null,
      "outputs": []
    },
    {
      "cell_type": "code",
      "source": [
        "# Word2Vec embedding\n",
        "sentences = [text.split() for text in final['CleanedText'].values]\n",
        "w2v_model = gensim.models.Word2Vec(sentences, vector_size=100, workers=4)\n",
        "\n",
        "sentence_vectors = np.array([\n",
        "    np.mean([w2v_model.wv[word] for word in sentence if word in w2v_model.wv] or [np.zeros(100)], axis=0)\n",
        "    for sentence in sentences\n",
        "])\n"
      ],
      "metadata": {
        "id": "_fUmGXbGZ6FR"
      },
      "execution_count": null,
      "outputs": []
    },
    {
      "cell_type": "code",
      "source": [
        "# DBSCAN\n",
        "dbscan_model = DBSCAN(eps=0.5, min_samples=5)\n",
        "dbscan_labels = dbscan_model.fit_predict(sentence_vectors)\n",
        "final['DBSCAN_Cluster'] = dbscan_labels"
      ],
      "metadata": {
        "id": "jrR_7P4SZ-I7"
      },
      "execution_count": null,
      "outputs": []
    },
    {
      "cell_type": "code",
      "source": [
        "# Agglomerative Clustering\n",
        "agg_model = AgglomerativeClustering(n_clusters=5)\n",
        "agg_labels = agg_model.fit_predict(sentence_vectors)\n",
        "final['Agglomerative_Cluster'] = agg_labels"
      ],
      "metadata": {
        "id": "zaYH-DQ2aBZa"
      },
      "execution_count": null,
      "outputs": []
    },
    {
      "cell_type": "code",
      "source": [
        "# Display cluster counts\n",
        "print(final.groupby('Bow_Cluster')['Reviews'].count())\n",
        "print(final.groupby('Tfidf_Cluster')['Reviews'].count())\n",
        "print(final.groupby('DBSCAN_Cluster')['Reviews'].count())\n",
        "print(final.groupby('Agglomerative_Cluster')['Reviews'].count())"
      ],
      "metadata": {
        "colab": {
          "base_uri": "https://localhost:8080/"
        },
        "id": "tUXhfL6paEvi",
        "outputId": "fb941e92-48d6-49f8-cd52-36b7d8e7daf1"
      },
      "execution_count": null,
      "outputs": [
        {
          "output_type": "stream",
          "name": "stdout",
          "text": [
            "Bow_Cluster\n",
            "0    3128\n",
            "1      19\n",
            "2    5624\n",
            "3     215\n",
            "4       8\n",
            "5       4\n",
            "6     360\n",
            "7       3\n",
            "8       9\n",
            "9     628\n",
            "Name: Reviews, dtype: int64\n",
            "Tfidf_Cluster\n",
            "0     181\n",
            "1     418\n",
            "2     345\n",
            "3     428\n",
            "4     202\n",
            "5     366\n",
            "6      95\n",
            "7     162\n",
            "8    3600\n",
            "9    4201\n",
            "Name: Reviews, dtype: int64\n",
            "DBSCAN_Cluster\n",
            "-1      49\n",
            " 0    9944\n",
            " 1       5\n",
            "Name: Reviews, dtype: int64\n",
            "Agglomerative_Cluster\n",
            "0     567\n",
            "1    1570\n",
            "2    5971\n",
            "3    1662\n",
            "4     228\n",
            "Name: Reviews, dtype: int64\n"
          ]
        }
      ]
    },
    {
      "cell_type": "markdown",
      "source": [
        "**Write your response here:**\n",
        "\n",
        ".\n",
        "\n",
        ".\n",
        "\n",
        ".\n",
        "\n",
        ".\n",
        "\n",
        ".\n",
        "\n",
        "\n"
      ],
      "metadata": {
        "id": "pIYCj5qyGfSL"
      }
    },
    {
      "cell_type": "markdown",
      "source": [
        "# Mandatory Question"
      ],
      "metadata": {
        "id": "VEs-OoDEhTW4"
      }
    },
    {
      "cell_type": "markdown",
      "source": [
        "**Important: Reflective Feedback on this exercise**\n",
        "\n",
        "Please provide your thoughts and feedback on the exercises you completed in this assignment.\n",
        "\n",
        "\n",
        "**(Your submission will not be graded if this question is left unanswered)**\n",
        "\n"
      ],
      "metadata": {
        "id": "IUKC7suYhVl0"
      }
    },
    {
      "cell_type": "code",
      "source": [
        "# Your answer here (no code for this question, write down your answer as detail as possible for the above questions):\n",
        "\n",
        "'''\n",
        "Please write you answer here:\n",
        "\n",
        "\n",
        "\n",
        "\n",
        "\n",
        "'''"
      ],
      "metadata": {
        "id": "CAq0DZWAhU9m"
      },
      "execution_count": null,
      "outputs": []
    }
  ],
  "metadata": {
    "kernelspec": {
      "display_name": "Python 3",
      "name": "python3"
    },
    "language_info": {
      "codemirror_mode": {
        "name": "ipython",
        "version": 3
      },
      "file_extension": ".py",
      "mimetype": "text/x-python",
      "name": "python",
      "nbconvert_exporter": "python",
      "pygments_lexer": "ipython3",
      "version": "3.9.12"
    },
    "colab": {
      "provenance": [],
      "include_colab_link": true
    }
  },
  "nbformat": 4,
  "nbformat_minor": 0
}