{
  "cells": [
    {
      "cell_type": "markdown",
      "metadata": {
        "id": "view-in-github",
        "colab_type": "text"
      },
      "source": [
        "<a href=\"https://colab.research.google.com/github/ganesh1616/Ganesh_INFO5731_Fall2024/blob/main/Ganesh_Marada_Assignment_3.ipynb\" target=\"_parent\"><img src=\"https://colab.research.google.com/assets/colab-badge.svg\" alt=\"Open In Colab\"/></a>"
      ]
    },
    {
      "cell_type": "markdown",
      "metadata": {
        "id": "Ryk8D1Q4Wsrp"
      },
      "source": [
        "# **INFO5731 Assignment 3**\n",
        "\n",
        "In this assignment, we will delve into various aspects of natural language processing (NLP) and text analysis. The tasks are designed to deepen your understanding of key NLP concepts and techniques, as well as to provide hands-on experience with practical applications.\n",
        "\n",
        "Through these tasks, you'll gain practical experience in NLP techniques such as N-gram analysis, TF-IDF, word embedding model creation, and sentiment analysis dataset creation.\n",
        "\n",
        "**Expectations**:\n",
        "*   Use the provided .*ipynb* document to write your code & respond to the questions. Avoid generating a new file.\n",
        "*   Write complete answers and run all the cells before submission.\n",
        "*   Make sure the submission is \"clean\"; *i.e.*, no unnecessary code cells.\n",
        "*   Once finished, allow shared rights from top right corner (*see Canvas for details*).\n",
        "\n",
        "\n",
        "**Total points**: 100\n",
        "\n",
        "**Deadline**: See Canvas\n",
        "\n",
        "**Late Submission will have a penalty of 10% reduction for each day after the deadline.**\n"
      ]
    },
    {
      "cell_type": "markdown",
      "metadata": {
        "id": "JkzR8cFAyGik"
      },
      "source": [
        "## Question 1 (30 points)\n",
        "\n",
        "**Understand N-gram**\n",
        "\n",
        "Write a python program to conduct N-gram analysis based on the dataset in your assignment two. You need to write codes from scratch instead of using any pre-existing libraries to do so:\n",
        "\n",
        "(1) Count the frequency of all the N-grams (N=3).\n",
        "\n",
        "(2) Calculate the probabilities for all the bigrams in the dataset by using the fomular count(w2 w1) / count(w2). For example, count(really like) / count(really) = 1 / 3 = 0.33.\n",
        "\n",
        "(3) Extract all the noun phrases and calculate the relative probabilities of each review in terms of other reviews (abstracts, or tweets) by using the fomular frequency (noun phrase) / max frequency (noun phrase) on the whole dataset. Print out the result in a table with column name the all the noun phrases and row name as all the 100 reviews (abstracts, or tweets)."
      ]
    },
    {
      "cell_type": "code",
      "execution_count": null,
      "metadata": {
        "colab": {
          "base_uri": "https://localhost:8080/"
        },
        "id": "9v8IikDpqrxn",
        "outputId": "58b3000f-1b64-44ad-c788-de990e012b18"
      },
      "outputs": [
        {
          "name": "stderr",
          "output_type": "stream",
          "text": [
            "[nltk_data] Downloading package punkt to /root/nltk_data...\n",
            "[nltk_data]   Unzipping tokenizers/punkt.zip.\n",
            "[nltk_data] Downloading package stopwords to /root/nltk_data...\n",
            "[nltk_data]   Unzipping corpora/stopwords.zip.\n"
          ]
        },
        {
          "data": {
            "text/plain": [
              "True"
            ]
          },
          "execution_count": 1,
          "metadata": {},
          "output_type": "execute_result"
        }
      ],
      "source": [
        "# Write your code here\n",
        "from bs4 import BeautifulSoup\n",
        "import requests\n",
        "import pandas as pd\n",
        "import re\n",
        "import nltk\n",
        "from nltk.corpus import stopwords\n",
        "from nltk.tokenize import word_tokenize\n",
        "from nltk.util import ngrams\n",
        "from collections import Counter, defaultdict\n",
        "from textblob import TextBlob\n",
        "import time\n",
        "\n",
        "# Download required NLTK resources\n",
        "nltk.download('punkt')\n",
        "nltk.download('stopwords')"
      ]
    },
    {
      "cell_type": "code",
      "execution_count": null,
      "metadata": {
        "id": "_XlNSYo2yzBL"
      },
      "outputs": [],
      "source": [
        "# Step 1: Fetch data from the IMDB reviews link\n",
        "def fetch_reviews(url, review_count=100):\n",
        "    reviews = []\n",
        "    pagination_key = ''\n",
        "    while len(reviews) < review_count:\n",
        "        response = requests.get(url + pagination_key)\n",
        "        if response.status_code != 200:\n",
        "            break\n",
        "        soup = BeautifulSoup(response.text, 'html.parser')\n",
        "        review_containers = soup.findAll(\"div\", {\"class\": \"lister-item-content\"})\n",
        "        for container in review_containers:\n",
        "            review = container.find(\"div\", {\"class\": \"text show-more__control\"})\n",
        "            if review:\n",
        "                reviews.append(review.get_text())\n",
        "            if len(reviews) >= review_count:\n",
        "                break\n",
        "        pagination_element = soup.find(\"div\", {\"class\": \"load-more-data\"})\n",
        "        pagination_key = pagination_element['data-key'] if pagination_element else ''\n",
        "    return reviews\n",
        "\n",
        "reviews = fetch_reviews(\"https://www.imdb.com/title/tt15398776/reviews/_ajax?paginationKey=\")\n"
      ]
    },
    {
      "cell_type": "code",
      "execution_count": null,
      "metadata": {
        "id": "18cqJCkAy2aj"
      },
      "outputs": [],
      "source": [
        "# Step 2: Preprocess text data\n",
        "stop_words = set(stopwords.words('english'))\n",
        "def preprocess_text(text):\n",
        "    text = text.lower()\n",
        "    text = re.sub(r'[^a-z\\s]', '', text)\n",
        "    words = [word for word in word_tokenize(text) if word not in stop_words]\n",
        "    return ' '.join(words)\n",
        "\n",
        "processed_reviews = [preprocess_text(review) for review in reviews]"
      ]
    },
    {
      "cell_type": "code",
      "execution_count": null,
      "metadata": {
        "id": "WcxNAowjy8ey"
      },
      "outputs": [],
      "source": [
        "# Step 3: Calculate N-gram frequencies (N=3)\n",
        "all_words = ' '.join(processed_reviews).split()\n",
        "trigrams = list(ngrams(all_words, 3))\n",
        "trigram_freq = Counter(trigrams)"
      ]
    },
    {
      "cell_type": "code",
      "execution_count": null,
      "metadata": {
        "colab": {
          "base_uri": "https://localhost:8080/"
        },
        "id": "haEYlFsmy_Yv",
        "outputId": "8c84f3ad-a306-40ff-8126-14217967dc6f"
      },
      "outputs": [
        {
          "name": "stdout",
          "output_type": "stream",
          "text": [
            "Trigram Frequencies:\n",
            "[(('j', 'robert', 'oppenheimer'), 21), (('robert', 'downey', 'jr'), 18), (('downey', 'jr', 'emily'), 5), (('jr', 'emily', 'blunt'), 5), (('blunt', 'florence', 'pugh'), 5), (('dark', 'knight', 'trilogy'), 4), (('emily', 'blunt', 'florence'), 4), (('general', 'leslie', 'groves'), 4), (('world', 'war', 'ii'), 4), (('christopher', 'nolan', 'movie'), 4)]\n"
          ]
        }
      ],
      "source": [
        "# Output trigram frequencies\n",
        "print(\"Trigram Frequencies:\")\n",
        "print(trigram_freq.most_common(10))"
      ]
    },
    {
      "cell_type": "code",
      "execution_count": null,
      "metadata": {
        "id": "OPqvMESqzClq"
      },
      "outputs": [],
      "source": [
        "# Step 4: Calculate bigram probabilities\n",
        "bigrams = list(ngrams(all_words, 2))\n",
        "bigram_freq = Counter(bigrams)\n",
        "unigram_freq = Counter(all_words)\n",
        "bigram_prob = {bigram: bigram_freq[bigram] / unigram_freq[bigram[0]] for bigram in bigram_freq}"
      ]
    },
    {
      "cell_type": "code",
      "execution_count": null,
      "metadata": {
        "colab": {
          "base_uri": "https://localhost:8080/"
        },
        "id": "de1WK7pszGSa",
        "outputId": "fee73df8-fbe9-45c5-fd92-0f93210a1125"
      },
      "outputs": [
        {
          "name": "stdout",
          "output_type": "stream",
          "text": [
            "\n",
            "Bigram Probabilities:\n",
            "('youll', 'wits'): 0.3333\n",
            "('wits', 'brain'): 1.0000\n",
            "('brain', 'fully'): 1.0000\n",
            "('fully', 'switched'): 0.2857\n",
            "('switched', 'watching'): 0.5000\n",
            "('watching', 'oppenheimer'): 0.2353\n",
            "('oppenheimer', 'could'): 0.0097\n",
            "('could', 'easily'): 0.1176\n",
            "('easily', 'get'): 0.1111\n",
            "('get', 'away'): 0.0250\n"
          ]
        }
      ],
      "source": [
        "# Output bigram probabilities\n",
        "print(\"\\nBigram Probabilities:\")\n",
        "for bigram, prob in list(bigram_prob.items())[:10]:\n",
        "    print(f\"{bigram}: {prob:.4f}\")"
      ]
    },
    {
      "cell_type": "code",
      "execution_count": null,
      "metadata": {
        "colab": {
          "base_uri": "https://localhost:8080/"
        },
        "id": "ZMpLa5sVzHum",
        "outputId": "278b62ee-5f02-4505-986c-57e054832c81"
      },
      "outputs": [
        {
          "name": "stderr",
          "output_type": "stream",
          "text": [
            "[nltk_data] Downloading package brown to /root/nltk_data...\n",
            "[nltk_data]   Unzipping corpora/brown.zip.\n"
          ]
        },
        {
          "name": "stdout",
          "output_type": "stream",
          "text": [
            "[nltk_data] Downloading package brown to /root/nltk_data...\n",
            "[nltk_data]   Package brown is already up-to-date!\n",
            "[nltk_data] Downloading package punkt to /root/nltk_data...\n",
            "[nltk_data]   Package punkt is already up-to-date!\n",
            "[nltk_data] Downloading package wordnet to /root/nltk_data...\n",
            "[nltk_data] Downloading package averaged_perceptron_tagger to\n",
            "[nltk_data]     /root/nltk_data...\n",
            "[nltk_data]   Unzipping taggers/averaged_perceptron_tagger.zip.\n",
            "[nltk_data] Downloading package conll2000 to /root/nltk_data...\n",
            "[nltk_data]   Unzipping corpora/conll2000.zip.\n",
            "[nltk_data] Downloading package movie_reviews to /root/nltk_data...\n",
            "[nltk_data]   Unzipping corpora/movie_reviews.zip.\n",
            "Finished.\n"
          ]
        }
      ],
      "source": [
        "# Step 5: Extract noun phrases and calculate relative probabilities\n",
        "import nltk\n",
        "nltk.download('brown')\n",
        "!python -m textblob.download_corpora\n",
        "noun_phrases = set()\n",
        "for review in processed_reviews:\n",
        "    blob = TextBlob(review)\n",
        "    noun_phrases.update(blob.noun_phrases)\n",
        "\n",
        "noun_phrase_freqs = defaultdict(list)\n",
        "max_freq = {np: 0 for np in noun_phrases}"
      ]
    },
    {
      "cell_type": "code",
      "execution_count": null,
      "metadata": {
        "id": "KOweSoMrzn3h"
      },
      "outputs": [],
      "source": [
        "# Calculate relative frequency for each noun phrase in each review\n",
        "for review in processed_reviews:\n",
        "    review_nps = TextBlob(review).noun_phrases\n",
        "    for np in noun_phrases:\n",
        "        freq = review_nps.count(np)\n",
        "        noun_phrase_freqs[np].append(freq)\n",
        "        max_freq[np] = max(max_freq[np], freq)"
      ]
    },
    {
      "cell_type": "code",
      "execution_count": null,
      "metadata": {
        "colab": {
          "base_uri": "https://localhost:8080/"
        },
        "id": "ozyUWlRuztbb",
        "outputId": "74be8f80-b2e4-4aa3-a211-e9d141f7b335"
      },
      "outputs": [
        {
          "name": "stdout",
          "output_type": "stream",
          "text": [
            "\n",
            "Noun Phrase Relative Probabilities:\n",
            "          perspective oppenheimer  general matt damon reason  \\\n",
            "Review-1                      0.0                        0.0   \n",
            "Review-2                      0.0                        0.0   \n",
            "Review-3                      0.0                        0.0   \n",
            "Review-4                      0.0                        0.0   \n",
            "Review-5                      0.0                        0.0   \n",
            "\n",
            "          captivating musical score creates  problem story development lacks  \\\n",
            "Review-1                                0.0                              0.0   \n",
            "Review-2                                0.0                              0.0   \n",
            "Review-3                                0.0                              0.0   \n",
            "Review-4                                0.0                              0.0   \n",
            "Review-5                                0.0                              0.0   \n",
            "\n",
            "          hard overstate spot murphy oppenheimer  \\\n",
            "Review-1                                     0.0   \n",
            "Review-2                                     0.0   \n",
            "Review-3                                     0.0   \n",
            "Review-4                                     0.0   \n",
            "Review-5                                     0.0   \n",
            "\n",
            "          previous films score overpowers dialogue  reasons communism  \\\n",
            "Review-1                                       0.0                0.0   \n",
            "Review-2                                       0.0                0.0   \n",
            "Review-3                                       0.0                0.0   \n",
            "Review-4                                       0.0                0.0   \n",
            "Review-5                                       0.0                0.0   \n",
            "\n",
            "          minto summarise oppenheimer  maximum overdrive oppenheimer blizzard  \\\n",
            "Review-1                          0.0                                     0.0   \n",
            "Review-2                          0.0                                     0.0   \n",
            "Review-3                          0.0                                     0.0   \n",
            "Review-4                          0.0                                     0.0   \n",
            "Review-5                          0.0                                     0.0   \n",
            "\n",
            "          immersive cinematic experience reveals  ...  manhattan project  \\\n",
            "Review-1                                     0.0  ...                0.0   \n",
            "Review-2                                     0.0  ...                0.0   \n",
            "Review-3                                     0.0  ...                0.0   \n",
            "Review-4                                     0.0  ...                0.0   \n",
            "Review-5                                     0.0  ...                0.0   \n",
            "\n",
            "          short movie  clever way  immersedafter part hes  main character  \\\n",
            "Review-1          0.0         0.0                     0.0             0.0   \n",
            "Review-2          0.0         0.0                     0.0             0.0   \n",
            "Review-3          0.0         0.0                     0.0             0.0   \n",
            "Review-4          0.0         0.0                     0.0             0.0   \n",
            "Review-5          0.0         1.0                     0.0             0.0   \n",
            "\n",
            "          thats demonstration  hundreds thousands civilians  \\\n",
            "Review-1                  0.0                           0.0   \n",
            "Review-2                  0.0                           0.0   \n",
            "Review-3                  0.0                           0.0   \n",
            "Review-4                  0.0                           0.0   \n",
            "Review-5                  0.0                           0.0   \n",
            "\n",
            "          initial celebration success  rich lucious colour moments  gray areas  \n",
            "Review-1                          0.0                          1.0         0.0  \n",
            "Review-2                          0.0                          0.0         0.0  \n",
            "Review-3                          0.0                          0.0         0.0  \n",
            "Review-4                          0.0                          0.0         0.0  \n",
            "Review-5                          0.0                          0.0         0.0  \n",
            "\n",
            "[5 rows x 2156 columns]\n"
          ]
        }
      ],
      "source": [
        "# Calculate relative probabilities and format output in a table\n",
        "rel_prob_df = pd.DataFrame({\n",
        "    np: [freq / max_freq[np] if max_freq[np] > 0 else 0 for freq in freqs]\n",
        "    for np, freqs in noun_phrase_freqs.items()\n",
        "})\n",
        "\n",
        "rel_prob_df.index = [f\"Review-{i+1}\" for i in range(len(processed_reviews))]\n",
        "print(\"\\nNoun Phrase Relative Probabilities:\")\n",
        "print(rel_prob_df.head())"
      ]
    },
    {
      "cell_type": "markdown",
      "metadata": {
        "id": "90_NR8c5XGWc"
      },
      "source": [
        "## Question 2 (25 points)\n",
        "\n",
        "**Undersand TF-IDF and Document representation**\n",
        "\n",
        "Starting from the documents (all the reviews, or abstracts, or tweets) collected for assignment two, write a python program:\n",
        "\n",
        "(1) To build the documents-terms weights (tf * idf) matrix.\n",
        "\n",
        "(2) To rank the documents with respect to query (design a query by yourself, for example, \"An Outstanding movie with a haunting performance and best character development\") by using cosine similarity.\n",
        "\n",
        "Note: You need to write codes from scratch instead of using any pre-existing libraries to do so."
      ]
    },
    {
      "cell_type": "code",
      "execution_count": null,
      "metadata": {
        "id": "LjN0iysvo9-n"
      },
      "outputs": [],
      "source": [
        "# Write your code here\n",
        "import math\n",
        "import requests\n",
        "from bs4 import BeautifulSoup\n",
        "import re\n",
        "from time import sleep\n",
        "from random import randint\n",
        "\n",
        "# Scraping function to get IMDB reviews\n",
        "def scrape_imdb_reviews(base_url, num_pages=1050):\n",
        "    Reviewer = []\n",
        "    Review_Description = []\n",
        "    pagination_key = ''\n",
        "\n",
        "    for i in range(1, num_pages + 1):\n",
        "        url = base_url + pagination_key\n",
        "        response = requests.get(url)\n",
        "        if response.status_code != 200:\n",
        "            print(f\"Failed to retrieve page {i}. Skipping...\")\n",
        "            continue\n",
        "\n",
        "        soup = BeautifulSoup(response.text, 'html.parser')\n",
        "        review_containers = soup.findAll(\"div\", {\"class\": \"lister-item-content\"})\n",
        "        if not review_containers:\n",
        "            print(\"No more reviews found. Stopping.\")\n",
        "            break\n",
        "\n",
        "        for container in review_containers:\n",
        "            review_description = container.find(\"div\", {\"class\": \"text show-more__control\"})\n",
        "            Review_Description.append(review_description.get_text(strip=True) if review_description else \"No Description\")\n",
        "\n",
        "        pagination_element = soup.find(\"div\", {\"class\": \"load-more-data\"})\n",
        "        if pagination_element and 'data-key' in pagination_element.attrs:\n",
        "            pagination_key = pagination_element['data-key']\n",
        "        else:\n",
        "            break\n",
        "\n",
        "        sleep(randint(2, 5))  # Pause to avoid overloading the server\n",
        "\n",
        "    return Review_Description\n",
        "\n"
      ]
    },
    {
      "cell_type": "code",
      "execution_count": null,
      "metadata": {
        "id": "4vP1okL_6LuX"
      },
      "outputs": [],
      "source": [
        "# Text cleaning and processing functions\n",
        "def clean_text(text):\n",
        "    text = re.sub(r'[^A-Za-z\\s]', '', text)  # Remove special characters\n",
        "    text = text.lower()  # Convert to lowercase\n",
        "    return text"
      ]
    },
    {
      "cell_type": "code",
      "execution_count": null,
      "metadata": {
        "id": "1xNxLOfc6Pjz"
      },
      "outputs": [],
      "source": [
        "# Calculating term frequency\n",
        "def compute_tf(term, document):\n",
        "    words = document.split()\n",
        "    term_count = words.count(term)\n",
        "    return term_count / len(words) if len(words) > 0 else 0"
      ]
    },
    {
      "cell_type": "code",
      "execution_count": null,
      "metadata": {
        "id": "4vejuwqw6UG7"
      },
      "outputs": [],
      "source": [
        "# Calculating inverse document frequency\n",
        "def compute_idf(term, documents):\n",
        "    num_docs_containing_term = sum(1 for doc in documents if term in doc.split())\n",
        "    return math.log(len(documents) / (1 + num_docs_containing_term))"
      ]
    },
    {
      "cell_type": "code",
      "execution_count": null,
      "metadata": {
        "id": "j-BnZiRv6XPJ"
      },
      "outputs": [],
      "source": [
        "# Building the TF-IDF matrix\n",
        "def build_tf_idf_matrix(documents):\n",
        "    terms = set(word for doc in documents for word in doc.split())\n",
        "    tf_idf_matrix = []\n",
        "\n",
        "    for doc in documents:\n",
        "        tf_idf_vector = {}\n",
        "        for term in terms:\n",
        "            tf = compute_tf(term, doc)\n",
        "            idf = compute_idf(term, documents)\n",
        "            tf_idf_vector[term] = tf * idf\n",
        "        tf_idf_matrix.append(tf_idf_vector)\n",
        "\n",
        "    return tf_idf_matrix, terms"
      ]
    },
    {
      "cell_type": "code",
      "execution_count": null,
      "metadata": {
        "id": "nBckh0Ew6adR"
      },
      "outputs": [],
      "source": [
        "# Cosine similarity calculation\n",
        "def cosine_similarity(vector1, vector2):\n",
        "    dot_product = sum(vector1[term] * vector2.get(term, 0) for term in vector1)\n",
        "    magnitude1 = math.sqrt(sum(val**2 for val in vector1.values()))\n",
        "    magnitude2 = math.sqrt(sum(val**2 for val in vector2.values()))\n",
        "    return dot_product / (magnitude1 * magnitude2) if magnitude1 and magnitude2 else 0"
      ]
    },
    {
      "cell_type": "code",
      "execution_count": null,
      "metadata": {
        "id": "KNAnMlyl6eGu"
      },
      "outputs": [],
      "source": [
        "# Ranking documents by query similarity\n",
        "def rank_documents(tf_idf_matrix, terms, query):\n",
        "    query_tokens = set(clean_text(query).split())\n",
        "    query_vector = {term: compute_tf(term, query) * compute_idf(term, [query]) for term in terms}\n",
        "    similarities = [cosine_similarity(query_vector, doc_vector) for doc_vector in tf_idf_matrix]\n",
        "    ranked_documents = sorted(enumerate(similarities), key=lambda x: x[1], reverse=True)\n",
        "    return ranked_documents"
      ]
    },
    {
      "cell_type": "code",
      "execution_count": null,
      "metadata": {
        "colab": {
          "background_save": true
        },
        "id": "KxNlZxdV6igq"
      },
      "outputs": [],
      "source": [
        "# Main code\n",
        "base_url = \"https://www.imdb.com/title/tt15398776/reviews/_ajax?paginationKey=\"\n",
        "reviews = scrape_imdb_reviews(base_url)\n",
        "cleaned_reviews = [clean_text(review) for review in reviews]"
      ]
    },
    {
      "cell_type": "code",
      "source": [
        "from collections import defaultdict\n",
        "\n",
        "#TF-IDF matrix construction\n",
        "def build_tf_idf_matrix(documents):\n",
        "    # Precompute IDF values for each term\n",
        "    term_document_counts = defaultdict(int)\n",
        "    for doc in documents:\n",
        "        unique_terms = set(doc.split())\n",
        "        for term in unique_terms:\n",
        "            term_document_counts[term] += 1\n",
        "\n",
        "    idf_values = {term: math.log(len(documents) / (1 + count)) for term, count in term_document_counts.items()}\n",
        "\n",
        "    # Build TF-IDF matrix\n",
        "    tf_idf_matrix = []\n",
        "    for doc in documents:\n",
        "        tf_idf_vector = {}\n",
        "        word_count = len(doc.split())\n",
        "\n",
        "        # Calculate TF-IDF for each term in the document\n",
        "        for term in set(doc.split()):\n",
        "            tf = doc.split().count(term) / word_count\n",
        "            tf_idf_vector[term] = tf * idf_values.get(term, 0)\n",
        "\n",
        "        tf_idf_matrix.append(tf_idf_vector)\n",
        "\n",
        "    return tf_idf_matrix, set(idf_values.keys())\n"
      ],
      "metadata": {
        "id": "EJfq4qxMUcyF"
      },
      "execution_count": null,
      "outputs": []
    },
    {
      "cell_type": "code",
      "source": [
        "# Define a sample query\n",
        "query = \"An Outstanding movie with a haunting performance and best character development\""
      ],
      "metadata": {
        "id": "rjLXJS53UoEc"
      },
      "execution_count": null,
      "outputs": []
    },
    {
      "cell_type": "code",
      "source": [
        "from collections import defaultdict\n",
        "import math # Make sure to import math\n",
        "\n",
        "# Assuming cleaned_reviews is available from previous code\n",
        "tf_idf_matrix, terms = build_tf_idf_matrix(cleaned_reviews)  # Call the function to create tf_idf_matrix and terms\n",
        "\n",
        "# Rank documents\n",
        "ranked_docs = rank_documents(tf_idf_matrix, terms, query)"
      ],
      "metadata": {
        "id": "B_63r9EpUpZ9"
      },
      "execution_count": null,
      "outputs": []
    },
    {
      "cell_type": "code",
      "source": [
        "import pandas as pd\n",
        "\n",
        "# DataFrame with all reviews ranked by similarity\n",
        "ranked_df = pd.DataFrame([(idx, score, reviews[idx]) for idx, score in ranked_docs],\n",
        "                         columns=[\"Document Index\", \"Similarity Score\", \"Review\"])\n",
        "\n",
        "# Display the DataFrame\n",
        "print(ranked_df)"
      ],
      "metadata": {
        "colab": {
          "base_uri": "https://localhost:8080/"
        },
        "id": "nzbL0LgoV449",
        "outputId": "34bf307b-9dc9-478d-9aba-8bd2e6c31eda"
      },
      "execution_count": null,
      "outputs": [
        {
          "output_type": "stream",
          "name": "stdout",
          "text": [
            "      Document Index  Similarity Score  \\\n",
            "0               3067         -0.000400   \n",
            "1               3047         -0.000445   \n",
            "2               2581         -0.000521   \n",
            "3               2496         -0.000594   \n",
            "4               2021         -0.000625   \n",
            "...              ...               ...   \n",
            "4274              70         -0.145516   \n",
            "4275             288         -0.145578   \n",
            "4276            1963         -0.146416   \n",
            "4277             206         -0.147378   \n",
            "4278            2066         -0.161613   \n",
            "\n",
            "                                                 Review  \n",
            "0     Robert never like this nickname. He viewed it ...  \n",
            "1     Finally got to see this film, having waited to...  \n",
            "2     But just as Oppenheimer, for all his world-his...  \n",
            "3     Very slow to start. To much jumping around. Sh...  \n",
            "4     For Oppenheimer, an atomic bomb would be an ex...  \n",
            "...                                                 ...  \n",
            "4274  For me this movies is the best movie in this d...  \n",
            "4275  A movie which Martin Scorsese called \"Cinema\"....  \n",
            "4276  Fantastic movie. This is the best movie I have...  \n",
            "4277  I entered the movie theatre expecting a great ...  \n",
            "4278  This film was my most anticipated film of the ...  \n",
            "\n",
            "[4279 rows x 3 columns]\n"
          ]
        }
      ]
    },
    {
      "cell_type": "markdown",
      "metadata": {
        "id": "1F_PZdH9Sh49"
      },
      "source": [
        "## Question 3 (25 points)\n",
        "\n",
        "**Create your own word embedding model**\n",
        "\n",
        "Use the data you collected for assignment 2 to build a word embedding model:\n",
        "\n",
        "(1) Train a 300-dimension word embedding (it can be word2vec, glove, ulmfit, bert, or others).\n",
        "\n",
        "(2) Visualize the word embedding model you created.\n",
        "\n",
        "Reference: https://machinelearningmastery.com/develop-word-embeddings-python-gensim/\n",
        "\n",
        "Reference: https://jaketae.github.io/study/word2vec/"
      ]
    },
    {
      "cell_type": "code",
      "execution_count": null,
      "metadata": {
        "id": "eczZgyAoo05Q",
        "colab": {
          "base_uri": "https://localhost:8080/"
        },
        "outputId": "c377e795-2430-4067-bdc9-ff9eb446185c"
      },
      "outputs": [
        {
          "output_type": "stream",
          "name": "stdout",
          "text": [
            "Processed 1th page\n",
            "Processed 2th page\n",
            "Processed 3th page\n",
            "Processed 4th page\n",
            "Processed 5th page\n",
            "Processed 6th page\n",
            "Processed 7th page\n",
            "Processed 8th page\n",
            "Processed 9th page\n",
            "Processed 10th page\n",
            "Processed 11th page\n",
            "Processed 12th page\n",
            "Processed 13th page\n",
            "Processed 14th page\n",
            "Processed 15th page\n",
            "Processed 16th page\n",
            "Processed 17th page\n",
            "Processed 18th page\n",
            "Processed 19th page\n"
          ]
        }
      ],
      "source": [
        "# Write your code here\n",
        "\n",
        "\n",
        "from bs4 import BeautifulSoup\n",
        "import requests\n",
        "import pandas as pd\n",
        "import time\n",
        "from gensim.models import Word2Vec\n",
        "from sklearn.decomposition import PCA\n",
        "import matplotlib.pyplot as plt\n",
        "\n",
        "# URL for scraping reviews\n",
        "base_url = \"https://www.imdb.com/title/tt15398776/reviews/_ajax?paginationKey=\"\n",
        "\n",
        "# Collect reviews\n",
        "Reviewer = []\n",
        "Rating = []\n",
        "Review_Summary = []\n",
        "Review_Description = []\n",
        "pagination_key = ''  # Start with an empty pagination key\n",
        "\n",
        "for i in range(1, 20):  # Adjust as needed for review count\n",
        "    url = base_url + pagination_key\n",
        "    response = requests.get(url)\n",
        "\n",
        "    # Check if the response was successful\n",
        "    if response.status_code != 200:\n",
        "        print(f\"Failed to retrieve page {i}. Skipping...\")\n",
        "        continue\n",
        "\n",
        "    soup = BeautifulSoup(response.text, 'html.parser')\n",
        "    review_containers = soup.findAll(\"div\", {\"class\": \"lister-item-content\"})\n",
        "\n",
        "    # If no review containers are found, stop further scraping\n",
        "    if not review_containers:\n",
        "        print(\"No more reviews found. Stopping.\")\n",
        "        break\n",
        "\n",
        "    for container in review_containers:\n",
        "        # Collect review information\n",
        "        review_description = container.find(\"div\", {\"class\": \"text show-more__control\"})\n",
        "        Review_Description.append(review_description.get_text(strip=True) if review_description else \"No Description\")\n",
        "\n",
        "    # Get the next pagination key (if available)\n",
        "    pagination_element = soup.find(\"div\", {\"class\": \"load-more-data\"})\n",
        "    if pagination_element and 'data-key' in pagination_element.attrs:\n",
        "        pagination_key = pagination_element['data-key']\n",
        "    else:\n",
        "        print(\"No pagination key found. Ending scraping.\")\n",
        "        break\n",
        "\n",
        "    print(f\"Processed {i}th page\")\n",
        "    time.sleep(2)  # Pause to avoid overloading the server"
      ]
    },
    {
      "cell_type": "code",
      "source": [
        "# Create a DataFrame with the collected reviews\n",
        "df = pd.DataFrame({\"Description\": Review_Description})\n",
        "print(f\"Collected {len(df)} reviews.\")"
      ],
      "metadata": {
        "colab": {
          "base_uri": "https://localhost:8080/"
        },
        "id": "Z-6IgxnMfPRE",
        "outputId": "4853a3b0-59ca-47b6-aaad-7f0a99205d87"
      },
      "execution_count": null,
      "outputs": [
        {
          "output_type": "stream",
          "name": "stdout",
          "text": [
            "Collected 472 reviews.\n"
          ]
        }
      ]
    },
    {
      "cell_type": "code",
      "source": [
        "# Preprocess the reviews for Word2Vec model training\n",
        "def preprocess_text(text):\n",
        "    return text.lower().split()"
      ],
      "metadata": {
        "id": "W599Ya4mfQx4"
      },
      "execution_count": null,
      "outputs": []
    },
    {
      "cell_type": "code",
      "source": [
        "# Tokenize all reviews\n",
        "tokenized_reviews = [preprocess_text(review) for review in df[\"Description\"]]"
      ],
      "metadata": {
        "id": "FdgvEpaegGsM"
      },
      "execution_count": null,
      "outputs": []
    },
    {
      "cell_type": "code",
      "source": [
        "# Train a Word2Vec model\n",
        "model = Word2Vec(sentences=tokenized_reviews, vector_size=300, window=5, min_count=1, sg=1)\n",
        "print(\"Word2Vec model trained successfully.\")"
      ],
      "metadata": {
        "colab": {
          "base_uri": "https://localhost:8080/"
        },
        "id": "rQf9lCq5gH5B",
        "outputId": "3c897a39-bfbd-480e-905d-8b6bc3345717"
      },
      "execution_count": null,
      "outputs": [
        {
          "output_type": "stream",
          "name": "stdout",
          "text": [
            "Word2Vec model trained successfully.\n"
          ]
        }
      ]
    },
    {
      "cell_type": "code",
      "source": [
        "# Visualize the word embeddings\n",
        "words = list(model.wv.index_to_key)\n",
        "X = model.wv[words]"
      ],
      "metadata": {
        "id": "vHNL7iBNgOB_"
      },
      "execution_count": null,
      "outputs": []
    },
    {
      "cell_type": "code",
      "source": [
        "# Fit a 2D PCA model to the vectors for visualization\n",
        "pca = PCA(n_components=2)\n",
        "result = pca.fit_transform(X)"
      ],
      "metadata": {
        "id": "1ownD_iAgTAM"
      },
      "execution_count": null,
      "outputs": []
    },
    {
      "cell_type": "code",
      "source": [
        "# Plotting the result\n",
        "plt.figure(figsize=(10, 10))\n",
        "plt.scatter(result[:, 0], result[:, 1])\n",
        "\n",
        "for i, word in enumerate(words[:50]):\n",
        "    plt.annotate(word, xy=(result[i, 0], result[i, 1]))\n",
        "plt.show()"
      ],
      "metadata": {
        "colab": {
          "base_uri": "https://localhost:8080/",
          "height": 830
        },
        "id": "ObtyjVt1gUMX",
        "outputId": "dea3232d-56e1-4959-b5a7-f16151524098"
      },
      "execution_count": null,
      "outputs": [
        {
          "output_type": "display_data",
          "data": {
            "text/plain": [
              "<Figure size 1000x1000 with 1 Axes>"
            ],
            "image/png": "[encoded data removed]"
          },
          "metadata": {}
        }
      ]
    },
    {
      "cell_type": "markdown",
      "metadata": {
        "id": "DDoVp3aYoU8F"
      },
      "source": [
        "## Question 4 (20 Points)\n",
        "\n",
        "**Create your own training and evaluation data for sentiment analysis.**\n",
        "\n",
        " **You don't need to write program for this question!**\n",
        "\n",
        " For example, if you collected a movie review or a product review data, then you can do the following steps:\n",
        "\n",
        "*   Read each review (abstract or tweet) you collected in detail, and annotate each review with a sentiment (positive, negative, or neutral).\n",
        "\n",
        "*   Save the annotated dataset into a csv file with three columns (first column: document_id, clean_text, sentiment), upload the csv file to GitHub and submit the file link blew.\n",
        "\n",
        "*   This datset will be used for assignment four: sentiment analysis and text classification.\n"
      ]
    },
    {
      "cell_type": "code",
      "execution_count": 7,
      "metadata": {
        "id": "DyK54UY6ompS"
      },
      "outputs": [],
      "source": [
        "# The GitHub link of your final csv file\n",
        "\n",
        "#Link: https://github.com/ganesh1616/Ganesh_INFO5731_Fall2024/blob/main/movie_reviews.csv\n",
        "\n"
      ]
    },
    {
      "cell_type": "markdown",
      "metadata": {
        "id": "q8BFCvWp32cf"
      },
      "source": [
        "# Mandatory Question\n",
        "\n",
        "Provide your thoughts on the assignment. What did you find challenging, and what aspects did you enjoy? Your opinion on the provided time to complete the assignment."
      ]
    },
    {
      "cell_type": "code",
      "execution_count": 8,
      "metadata": {
        "id": "sNXlsbrirHRo"
      },
      "outputs": [],
      "source": [
        "# Type your answer\n",
        "\n",
        "\"\"\"\n",
        "I developed a thorough understanding of text data processing and analysis methods, particularly for sentiment analysis and document rating, as a result of these assignments.\n",
        "I began by learning how to efficiently acquire useful review data by automating web scraping from IMDb using BeautifulSoup and Selenium.\n",
        "After that, I started working on text representation by creating a TF-IDF matrix from scratch.\n",
        "This gave me a better understanding of the links between terms and documents and prepared me to use cosine similarity to rank documents according to a query.\n",
        "By building a word embedding model with Word2Vec for 300-dimensional representation, I was able to identify semantic clusters and gain a practical grasp of the contextual interactions between words.\n",
        "This comprehension was further enhanced by PCA visualization techniques.I was introduced to sentiment prediction methods through automatically annotating sentiment, which, when paired with what we had previously learned about manual annotation, provided me with a fair assessment of sentiment labeling efficiency and accuracy.\n",
        "I finished the data lifecycle from collection to preparation by exporting the annotated dataset as a CSV, resulting in a resource that is prepared for additional NLP activities or model training.\n",
        "All things considered, these exercises improved my Python proficiency, helped me better understand machine learning principles in natural language processing, and illustrated the value of effective code optimization—particularly when dealing with large datasets.\n",
        "\n",
        "\"\"\""
      ]
    }
  ],
  "metadata": {
    "colab": {
      "provenance": [],
      "toc_visible": true,
      "include_colab_link": true
    },
    "kernelspec": {
      "display_name": "Python 3 (ipykernel)",
      "language": "python",
      "name": "python3"
    },
    "language_info": {
      "codemirror_mode": {
        "name": "ipython",
        "version": 3
      },
      "file_extension": ".py",
      "mimetype": "text/x-python",
      "name": "python",
      "nbconvert_exporter": "python",
      "pygments_lexer": "ipython3",
      "version": "3.9.12"
    }
  },
  "nbformat": 4,
  "nbformat_minor": 0
}