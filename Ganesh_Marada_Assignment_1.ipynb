{
  "cells": [
    {
      "cell_type": "markdown",
      "metadata": {
        "id": "view-in-github",
        "colab_type": "text"
      },
      "source": [
        "<a href=\"https://colab.research.google.com/github/ganesh1616/Ganesh_INFO5731_Fall2024/blob/main/Ganesh_Marada_Assignment_1.ipynb\" target=\"_parent\"><img src=\"https://colab.research.google.com/assets/colab-badge.svg\" alt=\"Open In Colab\"/></a>"
      ]
    },
    {
      "cell_type": "markdown",
      "metadata": {
        "id": "Ryk8D1Q4Wsrp"
      },
      "source": [
        "# **INFO5731 Assignment One**"
      ]
    },
    {
      "cell_type": "markdown",
      "source": [
        "This assignment includes range of programming tasks and data analysis exercises, aiming to enhance your Python skills and proficiency in string manipulation, numerical computations, and data science. Follow the instructions carefully and design well-structured Python programs to address each question.\n",
        "\n",
        "Late Submission will have a penalty of 10% reduction for each day after the deadline."
      ],
      "metadata": {
        "id": "qcP6re2g5A5r"
      }
    },
    {
      "cell_type": "markdown",
      "metadata": {
        "id": "JkzR8cFAyGik"
      },
      "source": [
        "# Question 1 (10 points).\n",
        "\n",
        "The formula that describes the volume V of a hemisphere with radius r is the following:\n",
        "\n",
        "$ V=\\frac{2}{3}\\ast\\ \\pi\\ast\\ r^3 $\n",
        "\n",
        "Write a program to calculate the value of V when r is in the range of even numbers from 1-20. Output the result in the following format:\n",
        "\n",
        "\tr\tV\n",
        "\t2\t…\n",
        "\t4\t…\n",
        "\t6\t…\n",
        "\t.\n",
        "\t.\n",
        "\t.\n",
        "\t20\t…\n"
      ]
    },
    {
      "cell_type": "code",
      "execution_count": 1,
      "metadata": {
        "id": "jDyTKYs-yGit",
        "colab": {
          "base_uri": "https://localhost:8080/"
        },
        "outputId": "d9cba0ec-5f05-43af-ba3c-1345c41cb568"
      },
      "outputs": [
        {
          "output_type": "stream",
          "name": "stdout",
          "text": [
            "r    V\n",
            "2   16.76\n",
            "4   134.04\n",
            "6   452.39\n",
            "8   1072.33\n",
            "10   2094.4\n",
            "12   3619.11\n",
            "14   5747.02\n",
            "16   8578.64\n",
            "18   12214.51\n",
            "20   16755.16\n"
          ]
        }
      ],
      "source": [
        "# Your code here\n",
        "import math\n",
        "\n",
        "print(\"r    V\")\n",
        "\n",
        "for r in range(2, 21, 2):\n",
        "    V = (2/3) * math.pi * r**3\n",
        "    print(r, \" \", round(V, 2))\n"
      ]
    },
    {
      "cell_type": "markdown",
      "metadata": {
        "id": "90_NR8c5XGWc"
      },
      "source": [
        "# Question 2 (20 points)\n",
        "\n",
        "(a) Write a Python program to generate a sequence of 12 random numbers falling within the range of 50 to 150.\n",
        "\n",
        "(b) Arrange the generated numbers in ascending order. Display the sorted list.\n",
        "\n",
        "(c) Extend the program to arrange the numbers in descending order as well. Present the sorted list accordingly.\n",
        "\n",
        "(d) Compute and output the average of the entire group of generated numbers.\n",
        "\n",
        "(e) Enhance the program to calculate and display the average of the first 6 numbers from both the ascending and descending sorted lists."
      ]
    },
    {
      "cell_type": "code",
      "execution_count": 2,
      "metadata": {
        "id": "5QX6bJjGWXY9",
        "colab": {
          "base_uri": "https://localhost:8080/"
        },
        "outputId": "9e2b43b9-1e3f-4d1d-fd6a-4f8735ba9e45"
      },
      "outputs": [
        {
          "output_type": "stream",
          "name": "stdout",
          "text": [
            "Random numbers: [93, 114, 136, 148, 84, 149, 149, 150, 73, 58, 99, 75]\n",
            "The Ascending order: [58, 73, 75, 84, 93, 99, 114, 136, 148, 149, 149, 150]\n",
            "The Descending order: [150, 149, 149, 148, 136, 114, 99, 93, 84, 75, 73, 58]\n",
            "Average of all numbers: 110.67\n",
            "Average of first 6 numbers (Ascending): 80.33\n",
            "Average of first 6 numbers (Descending): 141.0\n"
          ]
        }
      ],
      "source": [
        "# Write code for each of the sub parts with proper comments.\n",
        "\n",
        "# code for Write a Python program to generate a sequence of 12 random numbers falling within the range of 50 to 150.\n",
        "import random\n",
        "numbers = [random.randint(50, 150) for _ in range(12)]\n",
        "print(\"Random numbers:\", numbers)\n",
        "\n",
        "# Arrange the generated numbers in ascending order. Display the sorted list.\n",
        "sorted_numbers_asc = sorted(numbers)\n",
        "print(\"The Ascending order:\", sorted_numbers_asc)\n",
        "\n",
        "# Extend the program to arrange the numbers in descending order as well. Present the sorted list accordingly.\n",
        "sorted_numbers_desc = sorted(numbers, reverse=True)\n",
        "print(\"The Descending order:\", sorted_numbers_desc)\n",
        "\n",
        "#Compute and output the average of the entire group of generated numbers.\n",
        "average_all = sum(numbers) / len(numbers)\n",
        "print(\"Average of all numbers:\", round(average_all, 2))\n",
        "\n",
        "#Enhance the program to calculate and display the average of the first 6 numbers from both the ascending and descending sorted lists.\n",
        "average_first_6_asc = sum(sorted_numbers_asc[:6]) / 6\n",
        "print(\"Average of first 6 numbers (Ascending):\", round(average_first_6_asc, 2))\n",
        "average_first_6_desc = sum(sorted_numbers_desc[:6]) / 6\n",
        "print(\"Average of first 6 numbers (Descending):\", round(average_first_6_desc, 2))\n"
      ]
    },
    {
      "cell_type": "markdown",
      "metadata": {
        "id": "1F_PZdH9Sh49"
      },
      "source": [
        "# Question 3 (20 points).\n",
        "\n",
        "Create a Python program that encompasses various string manipulation task:\n",
        "\n",
        "(a) Prompt the user to input two sentences.\n",
        "\n",
        "(b) Transform each sentence into a list, where each element corresponds to a word in the sentence. For example, if the sentences are \"Hello, how are you doing today?\" and \"This is an example sentence for the program!\"\n",
        "\n",
        "The program should output:\n",
        "['Hello', ',', 'how', 'are', 'you', 'doing', 'today', '?', 'This', 'is', 'an', 'example', 'sentence', 'for', 'the', 'program', '!']\n",
        "\n",
        "(c) Compare the two sentences. Print out a list of words that occur in both sentences.\n",
        "\n",
        "(d) Remove any punctuation from the sentence and print the sanitized sentences. It should remove at least the following characters, but it can remove more: period(“.”), comma (“,”), semicolon (“;”), and colon (“:”).\n",
        "\n",
        "(e) Count the number of vowels in each of the sentences. Print out each vowel and the occurrences  in the each of the two sentences separately, such as:\n",
        "\n",
        "Sentence1: a:2, e:2, i:0, etc.\n",
        "Sentence2: a:1, e:2, i:2, etc.\n",
        "\n",
        "Design a well-structured Python program to execute these tasks efficiently."
      ]
    },
    {
      "cell_type": "code",
      "execution_count": 3,
      "metadata": {
        "id": "Y0oOSlsOS0cq",
        "colab": {
          "base_uri": "https://localhost:8080/"
        },
        "outputId": "162290ce-18b4-4cef-cd47-3499ada49804"
      },
      "outputs": [
        {
          "output_type": "stream",
          "name": "stdout",
          "text": [
            "Enter the first sentence: hello world\n",
            "Enter the second sentence: how are you\n",
            "Combined words list: ['hello', 'world', 'how', 'are', 'you']\n",
            "Common words: []\n",
            "Sanitized sentence 1: hello world\n",
            "Sanitized sentence 2: how are you\n",
            "Sentence 1 vowel counts: a:0, e:1, i:0, o:2, u:0\n",
            "Sentence 2 vowel counts: a:1, e:1, i:0, o:2, u:1\n"
          ]
        }
      ],
      "source": [
        "# Your code here\n",
        "\n",
        "import string\n",
        "# Prompt for the user to input sentences\n",
        "sentence1 = input(\"Enter the first sentence: \")\n",
        "sentence2 = input(\"Enter the second sentence: \")\n",
        "\n",
        "#Transform each sentence into a list of words\n",
        "words1 = sentence1.split()\n",
        "words2 = sentence2.split()\n",
        "\n",
        "all_words = words1 + words2\n",
        "print(\"Combined words list:\", all_words)\n",
        "\n",
        "#Compare the two sentences and find common words\n",
        "common_words = set(words1) & set(words2)\n",
        "print(\"Common words:\", list(common_words))\n",
        "\n",
        "#Remove punctuation from the sentences\n",
        "translator = str.maketrans('', '', string.punctuation)\n",
        "sanitized_sentence1 = sentence1.translate(translator)\n",
        "sanitized_sentence2 = sentence2.translate(translator)\n",
        "print(\"Sanitized sentence 1:\", sanitized_sentence1)\n",
        "print(\"Sanitized sentence 2:\", sanitized_sentence2)\n",
        "\n",
        "#Count the number of vowels in each sentence\n",
        "def count_vowels(sentence):\n",
        "    vowels = 'aeiou'\n",
        "    count = {v: sentence.lower().count(v) for v in vowels}\n",
        "    return count\n",
        "\n",
        "vowel_counts1 = count_vowels(sanitized_sentence1)\n",
        "vowel_counts2 = count_vowels(sanitized_sentence2)\n",
        "print(\"Sentence 1 vowel counts:\", ', '.join(f\"{v}:{c}\" for v, c in vowel_counts1.items()))\n",
        "print(\"Sentence 2 vowel counts:\", ', '.join(f\"{v}:{c}\" for v, c in vowel_counts2.items()))"
      ]
    },
    {
      "cell_type": "markdown",
      "source": [
        "# Question 4 (20 Points)"
      ],
      "metadata": {
        "id": "OP4-5qxAtInv"
      }
    },
    {
      "cell_type": "markdown",
      "source": [
        "Design and implement a simple command-line calculator program. The program should handle both integers and floating-point numbers.\n",
        "\n",
        "(a) Write program that takes a mathematical expression as input and evaluates it. The program should support addition, subtraction, multiplication, and division.\n",
        "\n",
        "(b) Extend the calculator to handle parentheses in mathematical expressions. Implement the necessary logic to evaluate expressions with nested parentheses.\n",
        "\n",
        "(c) Enhance your calculator to include additional mathematical operations such as exponentiation, square root, and modulus.\n",
        "\n",
        "(d) Implement error handling in the calculator program. Handle cases such as division by zero and invalid input expressions. Provide meaningful error messages.\n",
        "\n",
        "(e) Implement a command to exit the calculator."
      ],
      "metadata": {
        "id": "uzN4_hDptK9U"
      }
    },
    {
      "cell_type": "code",
      "source": [
        "# Your code here\n",
        "#Write program that takes a mathematical expression as input and evaluates it. The program should support addition, subtraction, multiplication, and division.\n",
        "import math\n",
        "def evaluate_expression(expression):\n",
        "    try:\n",
        "\n",
        "        result = eval(expression)\n",
        "        return result\n",
        "    except ZeroDivisionError:\n",
        "        return \"Error: Division by zero is not allowed.\"\n",
        "    except Exception as e:\n",
        "        return f\"Error: {e}\"\n",
        "\n",
        "def main():\n",
        "    print(\"Basic Command-Line Calculator\")\n",
        "    print(\"Supports +, -, *, / for addition, subtraction, multiplication, and division.\")\n",
        "    print(\"Type 'exit' to quit the program.\")\n",
        "\n",
        "    while True:\n",
        "        expression = input(\"Enter a mathematical expression: \")\n",
        "\n",
        "        if expression.lower() == 'exit':\n",
        "            print(\"Exiting the calculator. Goodbye!\")\n",
        "            break\n",
        "\n",
        "        result = evaluate_expression(expression)\n",
        "        print(\"Result:\", result)\n",
        "\n",
        "if __name__ == \"__main__\":\n",
        "    main()\n",
        "\n",
        "# Extend the calculator to handle parentheses in mathematical expressions. Implement the necessary logic to evaluate expressions with nested parentheses.\n",
        "def evaluate_expression(expression):\n",
        "    try:\n",
        "        result = eval(expression)\n",
        "        return result\n",
        "    except ZeroDivisionError:\n",
        "        return \"Error: Division by zero is not allowed.\"\n",
        "    except Exception as e:\n",
        "        return f\"Error: {e}\"\n",
        "\n",
        "def main():\n",
        "    print(\"Calculator with Parentheses\")\n",
        "    print(\"Supports +, -, *, /, and parentheses for grouping.\")\n",
        "    print(\"Type 'exit' to quit the program.\")\n",
        "\n",
        "    while True:\n",
        "        expression = input(\"Enter a mathematical expression: \")\n",
        "\n",
        "        if expression.lower() == 'exit':\n",
        "            print(\"Exiting the calculator. Goodbye!\")\n",
        "            break\n",
        "\n",
        "        result = evaluate_expression(expression)\n",
        "        print(\"Result:\", result)\n",
        "\n",
        "if __name__ == \"__main__\":\n",
        "    main()\n",
        "\n",
        "# Enhance your calculator to include additional mathematical operations such as exponentiation, square root, and modulus.\n",
        "def evaluate_expression(expression):\n",
        "    try:\n",
        "        result = eval(expression, {\"__builtins__\": None}, {\"sqrt\": math.sqrt, \"**\": pow, \"%\": lambda x, y: x % y})\n",
        "        return result\n",
        "    except ZeroDivisionError:\n",
        "        return \"Error: Division by zero is not allowed.\"\n",
        "    except Exception as e:\n",
        "        return f\"Error: {e}\"\n",
        "\n",
        "def main():\n",
        "    print(\"Enhanced Calculator\")\n",
        "    print(\"Supports +, -, *, /, ** (exponentiation), sqrt (square root), % (modulus), and parentheses.\")\n",
        "    print(\"Type 'exit' to quit the program.\")\n",
        "\n",
        "    while True:\n",
        "        expression = input(\"Enter a mathematical expression: \")\n",
        "\n",
        "        if expression.lower() == 'exit':\n",
        "            print(\"Exiting the calculator. Goodbye!\")\n",
        "            break\n",
        "\n",
        "        result = evaluate_expression(expression)\n",
        "        print(\"Result:\", result)\n",
        "\n",
        "if __name__ == \"__main__\":\n",
        "    main()\n",
        "\n",
        "# Implement error handling in the calculator program. Handle cases such as division by zero and invalid input expressions. Provide meaningful error messages.\n",
        "def evaluate_expression(expression):\n",
        "    try:\n",
        "\n",
        "        result = eval(expression, {\"__builtins__\": None}, {\"sqrt\": math.sqrt, \"**\": pow, \"%\": lambda x, y: x % y})\n",
        "        return result\n",
        "    except ZeroDivisionError:\n",
        "        return \"Error: Division by zero is not allowed.\"\n",
        "    except SyntaxError:\n",
        "        return \"Error: Invalid expression syntax.\"\n",
        "    except Exception as e:\n",
        "        return f\"Error: {e}\"\n",
        "\n",
        "def main():\n",
        "    print(\"Calculator with Error Handling\")\n",
        "    print(\"Supports +, -, *, /, ** (exponentiation), sqrt (square root), % (modulus), and parentheses.\")\n",
        "    print(\"Type 'exit' to quit the program.\")\n",
        "\n",
        "    while True:\n",
        "        expression = input(\"Enter a mathematical expression: \")\n",
        "\n",
        "        if expression.lower() == 'exit':\n",
        "            print(\"Exiting the calculator. Goodbye!\")\n",
        "            break\n",
        "\n",
        "        result = evaluate_expression(expression)\n",
        "        print(\"Result:\", result)\n",
        "\n",
        "if __name__ == \"__main__\":\n",
        "    main()\n",
        "#Implement a command to exit the calculator.\n",
        "def evaluate_expression(expression):\n",
        "    try:\n",
        "        result = eval(expression, {\"__builtins__\": None}, {\"sqrt\": math.sqrt, \"**\": pow, \"%\": lambda x, y: x % y})\n",
        "        return result\n",
        "    except ZeroDivisionError:\n",
        "        return \"Error: Division by zero is not allowed.\"\n",
        "    except SyntaxError:\n",
        "        return \"Error: Invalid expression syntax.\"\n",
        "    except Exception as e:\n",
        "        return f\"Error: {e}\"\n",
        "\n",
        "def main():\n",
        "    print(\"Complete Calculator Program\")\n",
        "    print(\"Supports +, -, *, /, ** (exponentiation), sqrt (square root), % (modulus), and parentheses.\")\n",
        "    print(\"Type 'exit' to quit the program.\")\n",
        "\n",
        "    while True:\n",
        "        expression = input(\"Enter a mathematical expression: \")\n",
        "\n",
        "        if expression.lower() == 'exit':\n",
        "            print(\"Exiting the calculator. Goodbye!\")\n",
        "            break\n",
        "\n",
        "        result = evaluate_expression(expression)\n",
        "        print(\"Result:\", result)\n",
        "\n",
        "if __name__ == \"__main__\":\n",
        "    main()\n"
      ],
      "metadata": {
        "id": "8nQnVxjJuYtu",
        "colab": {
          "base_uri": "https://localhost:8080/"
        },
        "outputId": "5214d30d-e81d-4c5b-e6fd-6dc38823ffd1"
      },
      "execution_count": null,
      "outputs": [
        {
          "output_type": "stream",
          "name": "stdout",
          "text": [
            "Basic Command-Line Calculator\n",
            "Supports +, -, *, / for addition, subtraction, multiplication, and division.\n",
            "Type 'exit' to quit the program.\n"
          ]
        }
      ]
    },
    {
      "cell_type": "markdown",
      "metadata": {
        "id": "z3tBE7E-Xn5X"
      },
      "source": [
        "# Question 5 (30 points).\n",
        "\n",
        "In the field of Data Science, data is often formatted as a comma-delimited (CSV) file, where each line in a file corresponds to a field's value. Refer to Chapter 9 (p. 106) for more information on comma-delimited files.\n",
        "\n",
        "To answer this question, you will need to download the file [Assignment1_denton_housing.csv](https://raw.githubusercontent.com/unt-iialab/info5731-spring2022/main/assignments/Assignment1_denton_housing.csv) included with this assignment. The file contains statistics about housing in the city of Denton from 2008 to 2014. Write a program to implement the following questions.\n",
        "\n",
        "(a) (5 pts) Calculate the difference in the number of Occupied Housing Units from year to year and print it. The difference must be calculated for the consecutive years such as 2008-2009, 2009-2010 etc. Finally, print the values in the ascending order.\n",
        "\n",
        "(b) (5 pts) For all the years, calculate the percentage of housing units which are vacant an occupied. Print the results in the following format:\n",
        "\n",
        "Year Vacant Housing Units Occupied Housing Units\n",
        "\n",
        "    2008  30%   70%                          \n",
        "\t2009 ----- -----\n",
        "\t2010 ----- -----\n",
        "    2011 ----- -----\n",
        "\t2012 ----- -----\n",
        "    2013 ----- -----\n",
        "\t2014 ----- -----\n",
        "  \n",
        "  \n",
        "\n",
        "(c) (10 pts) Calculate and print the valued and years in which the highest number of housing units were vacant and occupied. Print the results in the following format:  \n",
        "\n",
        "                              Year\tValue\n",
        "\tVacant Housing Units\t  -----   -----\n",
        "\tOccupied Housing Units\t-----   -----\n",
        "\n",
        "(d) (10 pts) Calculate the harmonic mean of the total housing units and print it out. You can find the information about harmonic mean here: https://ncalculators.com/statistics/harmonic-mean-calculator.htm"
      ]
    },
    {
      "cell_type": "code",
      "source": [
        "from google.colab import drive\n",
        "drive.mount('/content/drive')"
      ],
      "metadata": {
        "colab": {
          "base_uri": "https://localhost:8080/"
        },
        "id": "I1hg4eWByBm2",
        "outputId": "44dce059-de58-4ba5-c5a8-90c7813a457b"
      },
      "execution_count": 5,
      "outputs": [
        {
          "output_type": "stream",
          "name": "stdout",
          "text": [
            "Mounted at /content/drive\n"
          ]
        }
      ]
    },
    {
      "cell_type": "code",
      "execution_count": 32,
      "metadata": {
        "id": "lqGYuHBhcsRH",
        "colab": {
          "base_uri": "https://localhost:8080/"
        },
        "outputId": "55f02532-02e5-4d90-e3c9-2158841bde40"
      },
      "outputs": [
        {
          "output_type": "execute_result",
          "data": {
            "text/plain": [
              "[795, -5091, 303, -1404, -1565, -2622]"
            ]
          },
          "metadata": {},
          "execution_count": 32
        }
      ],
      "source": [
        " # Your code here\n",
        "# Calculate the difference in the number of Occupied Housing Units from year to year and print it. The difference must be calculated for the consecutive years such as 2008-2009, 2009-2010 etc.\n",
        "import statistics\n",
        "import pandas as pd\n",
        "data = pd.read_csv(\"/content/Assignment1_denton_housing.csv\")\n",
        "\n",
        "occuped_houses = data[data['title_field'] == 'Occupied Housing Units'].sort_values(by=['year'])\n",
        "\n",
        "diff_house = [list(occuped_houses['value'].values)[loop] - list(occuped_houses['value'].values)[loop+1]\\\n",
        "for loop in range(len(occuped_houses)-1)]\n",
        "diff_house\n"
      ]
    },
    {
      "cell_type": "code",
      "source": [
        "#For all the years, calculate the percentage of housing units which are vacant an occupied.\n",
        "year_unique_value = sorted(list(data['year'].unique()))\n",
        "the_occupied_houses = data[data['title_field'] == 'Occupied Housing Units'].sort_values(by=['year'])\n",
        "the_vacant_houses = data[data['title_field'] == 'Vacant Housing Units'].sort_values(by=['year'])\n",
        "unoccupied_house_df = pd.DataFrame()\n",
        "unoccupied_house_df['year'] = year_unique_value\n",
        "unoccupied_house_df['Vacant House'] =the_vacant_houses['value'].values\n",
        "unoccupied_house_df['Occupied House'] =the_occupied_houses['value'].values\n",
        "unoccupied_house_df['Percentage of Vacant House'] = [(unoccupied_house_df['Vacant House'][loop1] * 100) /\\\n",
        "                                           (unoccupied_house_df['Vacant House'][loop1] + unoccupied_house_df['Occupied House'][loop1])\\\n",
        "                                           for loop1 in range(len(unoccupied_house_df))]\n",
        "unoccupied_house_df['Percentage of Occupied House'] = [(unoccupied_house_df['Occupied House'][loop1] * 100) /\\\n",
        "                                           (unoccupied_house_df['Vacant House'][loop1] + unoccupied_house_df['Occupied House'][loop1])\\\n",
        "                                           for loop1 in range(len(unoccupied_house_df))]\n",
        "unoccupied_house_df\n"
      ],
      "metadata": {
        "colab": {
          "base_uri": "https://localhost:8080/",
          "height": 269
        },
        "id": "TJr-e_e--pap",
        "outputId": "6338cf4c-b320-444e-a81e-222fb2331f93"
      },
      "execution_count": 33,
      "outputs": [
        {
          "output_type": "execute_result",
          "data": {
            "text/plain": [
              "   year  Vacant House  Occupied House  Percentage of Vacant House  \\\n",
              "0  2008          4483           36711                   10.882653   \n",
              "1  2009          3583           35916                    9.071116   \n",
              "2  2010          3635           41007                    8.142556   \n",
              "3  2011          4213           40704                    9.379522   \n",
              "4  2012          3013           42108                    6.677600   \n",
              "5  2013          4215           43673                    8.801788   \n",
              "6  2014          2814           46295                    5.730111   \n",
              "\n",
              "   Percentage of Occupied House  \n",
              "0                     89.117347  \n",
              "1                     90.928884  \n",
              "2                     91.857444  \n",
              "3                     90.620478  \n",
              "4                     93.322400  \n",
              "5                     91.198212  \n",
              "6                     94.269889  "
            ],
            "text/html": [
              "\n",
              "  <div id=\"df-2b0a726b-618a-440c-98cd-f853e70e5e1c\" class=\"colab-df-container\">\n",
              "    <div>\n",
              "<style scoped>\n",
              "    .dataframe tbody tr th:only-of-type {\n",
              "        vertical-align: middle;\n",
              "    }\n",
              "\n",
              "    .dataframe tbody tr th {\n",
              "        vertical-align: top;\n",
              "    }\n",
              "\n",
              "    .dataframe thead th {\n",
              "        text-align: right;\n",
              "    }\n",
              "</style>\n",
              "<table border=\"1\" class=\"dataframe\">\n",
              "  <thead>\n",
              "    <tr style=\"text-align: right;\">\n",
              "      <th></th>\n",
              "      <th>year</th>\n",
              "      <th>Vacant House</th>\n",
              "      <th>Occupied House</th>\n",
              "      <th>Percentage of Vacant House</th>\n",
              "      <th>Percentage of Occupied House</th>\n",
              "    </tr>\n",
              "  </thead>\n",
              "  <tbody>\n",
              "    <tr>\n",
              "      <th>0</th>\n",
              "      <td>2008</td>\n",
              "      <td>4483</td>\n",
              "      <td>36711</td>\n",
              "      <td>10.882653</td>\n",
              "      <td>89.117347</td>\n",
              "    </tr>\n",
              "    <tr>\n",
              "      <th>1</th>\n",
              "      <td>2009</td>\n",
              "      <td>3583</td>\n",
              "      <td>35916</td>\n",
              "      <td>9.071116</td>\n",
              "      <td>90.928884</td>\n",
              "    </tr>\n",
              "    <tr>\n",
              "      <th>2</th>\n",
              "      <td>2010</td>\n",
              "      <td>3635</td>\n",
              "      <td>41007</td>\n",
              "      <td>8.142556</td>\n",
              "      <td>91.857444</td>\n",
              "    </tr>\n",
              "    <tr>\n",
              "      <th>3</th>\n",
              "      <td>2011</td>\n",
              "      <td>4213</td>\n",
              "      <td>40704</td>\n",
              "      <td>9.379522</td>\n",
              "      <td>90.620478</td>\n",
              "    </tr>\n",
              "    <tr>\n",
              "      <th>4</th>\n",
              "      <td>2012</td>\n",
              "      <td>3013</td>\n",
              "      <td>42108</td>\n",
              "      <td>6.677600</td>\n",
              "      <td>93.322400</td>\n",
              "    </tr>\n",
              "    <tr>\n",
              "      <th>5</th>\n",
              "      <td>2013</td>\n",
              "      <td>4215</td>\n",
              "      <td>43673</td>\n",
              "      <td>8.801788</td>\n",
              "      <td>91.198212</td>\n",
              "    </tr>\n",
              "    <tr>\n",
              "      <th>6</th>\n",
              "      <td>2014</td>\n",
              "      <td>2814</td>\n",
              "      <td>46295</td>\n",
              "      <td>5.730111</td>\n",
              "      <td>94.269889</td>\n",
              "    </tr>\n",
              "  </tbody>\n",
              "</table>\n",
              "</div>\n",
              "    <div class=\"colab-df-buttons\">\n",
              "\n",
              "  <div class=\"colab-df-container\">\n",
              "    <button class=\"colab-df-convert\" onclick=\"convertToInteractive('df-2b0a726b-618a-440c-98cd-f853e70e5e1c')\"\n",
              "            title=\"Convert this dataframe to an interactive table.\"\n",
              "            style=\"display:none;\">\n",
              "\n",
              "  <svg xmlns=\"http://www.w3.org/2000/svg\" height=\"24px\" viewBox=\"0 -960 960 960\">\n",
              "    <path d=\"M120-120v-720h720v720H120Zm60-500h600v-160H180v160Zm220 220h160v-160H400v160Zm0 220h160v-160H400v160ZM180-400h160v-160H180v160Zm440 0h160v-160H620v160ZM180-180h160v-160H180v160Zm440 0h160v-160H620v160Z\"/>\n",
              "  </svg>\n",
              "    </button>\n",
              "\n",
              "  <style>\n",
              "    .colab-df-container {\n",
              "      display:flex;\n",
              "      gap: 12px;\n",
              "    }\n",
              "\n",
              "    .colab-df-convert {\n",
              "      background-color: #E8F0FE;\n",
              "      border: none;\n",
              "      border-radius: 50%;\n",
              "      cursor: pointer;\n",
              "      display: none;\n",
              "      fill: #1967D2;\n",
              "      height: 32px;\n",
              "      padding: 0 0 0 0;\n",
              "      width: 32px;\n",
              "    }\n",
              "\n",
              "    .colab-df-convert:hover {\n",
              "      background-color: #E2EBFA;\n",
              "      box-shadow: 0px 1px 2px rgba(60, 64, 67, 0.3), 0px 1px 3px 1px rgba(60, 64, 67, 0.15);\n",
              "      fill: #174EA6;\n",
              "    }\n",
              "\n",
              "    .colab-df-buttons div {\n",
              "      margin-bottom: 4px;\n",
              "    }\n",
              "\n",
              "    [theme=dark] .colab-df-convert {\n",
              "      background-color: #3B4455;\n",
              "      fill: #D2E3FC;\n",
              "    }\n",
              "\n",
              "    [theme=dark] .colab-df-convert:hover {\n",
              "      background-color: #434B5C;\n",
              "      box-shadow: 0px 1px 3px 1px rgba(0, 0, 0, 0.15);\n",
              "      filter: drop-shadow(0px 1px 2px rgba(0, 0, 0, 0.3));\n",
              "      fill: #FFFFFF;\n",
              "    }\n",
              "  </style>\n",
              "\n",
              "    <script>\n",
              "      const buttonEl =\n",
              "        document.querySelector('#df-2b0a726b-618a-440c-98cd-f853e70e5e1c button.colab-df-convert');\n",
              "      buttonEl.style.display =\n",
              "        google.colab.kernel.accessAllowed ? 'block' : 'none';\n",
              "\n",
              "      async function convertToInteractive(key) {\n",
              "        const element = document.querySelector('#df-2b0a726b-618a-440c-98cd-f853e70e5e1c');\n",
              "        const dataTable =\n",
              "          await google.colab.kernel.invokeFunction('convertToInteractive',\n",
              "                                                    [key], {});\n",
              "        if (!dataTable) return;\n",
              "\n",
              "        const docLinkHtml = 'Like what you see? Visit the ' +\n",
              "          '<a target=\"_blank\" href=https://colab.research.google.com/notebooks/data_table.ipynb>data table notebook</a>'\n",
              "          + ' to learn more about interactive tables.';\n",
              "        element.innerHTML = '';\n",
              "        dataTable['output_type'] = 'display_data';\n",
              "        await google.colab.output.renderOutput(dataTable, element);\n",
              "        const docLink = document.createElement('div');\n",
              "        docLink.innerHTML = docLinkHtml;\n",
              "        element.appendChild(docLink);\n",
              "      }\n",
              "    </script>\n",
              "  </div>\n",
              "\n",
              "\n",
              "<div id=\"df-5965db84-8d31-4d3d-a59c-a148b6f6777c\">\n",
              "  <button class=\"colab-df-quickchart\" onclick=\"quickchart('df-5965db84-8d31-4d3d-a59c-a148b6f6777c')\"\n",
              "            title=\"Suggest charts\"\n",
              "            style=\"display:none;\">\n",
              "\n",
              "<svg xmlns=\"http://www.w3.org/2000/svg\" height=\"24px\"viewBox=\"0 0 24 24\"\n",
              "     width=\"24px\">\n",
              "    <g>\n",
              "        <path d=\"M19 3H5c-1.1 0-2 .9-2 2v14c0 1.1.9 2 2 2h14c1.1 0 2-.9 2-2V5c0-1.1-.9-2-2-2zM9 17H7v-7h2v7zm4 0h-2V7h2v10zm4 0h-2v-4h2v4z\"/>\n",
              "    </g>\n",
              "</svg>\n",
              "  </button>\n",
              "\n",
              "<style>\n",
              "  .colab-df-quickchart {\n",
              "      --bg-color: #E8F0FE;\n",
              "      --fill-color: #1967D2;\n",
              "      --hover-bg-color: #E2EBFA;\n",
              "      --hover-fill-color: #174EA6;\n",
              "      --disabled-fill-color: #AAA;\n",
              "      --disabled-bg-color: #DDD;\n",
              "  }\n",
              "\n",
              "  [theme=dark] .colab-df-quickchart {\n",
              "      --bg-color: #3B4455;\n",
              "      --fill-color: #D2E3FC;\n",
              "      --hover-bg-color: #434B5C;\n",
              "      --hover-fill-color: #FFFFFF;\n",
              "      --disabled-bg-color: #3B4455;\n",
              "      --disabled-fill-color: #666;\n",
              "  }\n",
              "\n",
              "  .colab-df-quickchart {\n",
              "    background-color: var(--bg-color);\n",
              "    border: none;\n",
              "    border-radius: 50%;\n",
              "    cursor: pointer;\n",
              "    display: none;\n",
              "    fill: var(--fill-color);\n",
              "    height: 32px;\n",
              "    padding: 0;\n",
              "    width: 32px;\n",
              "  }\n",
              "\n",
              "  .colab-df-quickchart:hover {\n",
              "    background-color: var(--hover-bg-color);\n",
              "    box-shadow: 0 1px 2px rgba(60, 64, 67, 0.3), 0 1px 3px 1px rgba(60, 64, 67, 0.15);\n",
              "    fill: var(--button-hover-fill-color);\n",
              "  }\n",
              "\n",
              "  .colab-df-quickchart-complete:disabled,\n",
              "  .colab-df-quickchart-complete:disabled:hover {\n",
              "    background-color: var(--disabled-bg-color);\n",
              "    fill: var(--disabled-fill-color);\n",
              "    box-shadow: none;\n",
              "  }\n",
              "\n",
              "  .colab-df-spinner {\n",
              "    border: 2px solid var(--fill-color);\n",
              "    border-color: transparent;\n",
              "    border-bottom-color: var(--fill-color);\n",
              "    animation:\n",
              "      spin 1s steps(1) infinite;\n",
              "  }\n",
              "\n",
              "  @keyframes spin {\n",
              "    0% {\n",
              "      border-color: transparent;\n",
              "      border-bottom-color: var(--fill-color);\n",
              "      border-left-color: var(--fill-color);\n",
              "    }\n",
              "    20% {\n",
              "      border-color: transparent;\n",
              "      border-left-color: var(--fill-color);\n",
              "      border-top-color: var(--fill-color);\n",
              "    }\n",
              "    30% {\n",
              "      border-color: transparent;\n",
              "      border-left-color: var(--fill-color);\n",
              "      border-top-color: var(--fill-color);\n",
              "      border-right-color: var(--fill-color);\n",
              "    }\n",
              "    40% {\n",
              "      border-color: transparent;\n",
              "      border-right-color: var(--fill-color);\n",
              "      border-top-color: var(--fill-color);\n",
              "    }\n",
              "    60% {\n",
              "      border-color: transparent;\n",
              "      border-right-color: var(--fill-color);\n",
              "    }\n",
              "    80% {\n",
              "      border-color: transparent;\n",
              "      border-right-color: var(--fill-color);\n",
              "      border-bottom-color: var(--fill-color);\n",
              "    }\n",
              "    90% {\n",
              "      border-color: transparent;\n",
              "      border-bottom-color: var(--fill-color);\n",
              "    }\n",
              "  }\n",
              "</style>\n",
              "\n",
              "  <script>\n",
              "    async function quickchart(key) {\n",
              "      const quickchartButtonEl =\n",
              "        document.querySelector('#' + key + ' button');\n",
              "      quickchartButtonEl.disabled = true;  // To prevent multiple clicks.\n",
              "      quickchartButtonEl.classList.add('colab-df-spinner');\n",
              "      try {\n",
              "        const charts = await google.colab.kernel.invokeFunction(\n",
              "            'suggestCharts', [key], {});\n",
              "      } catch (error) {\n",
              "        console.error('Error during call to suggestCharts:', error);\n",
              "      }\n",
              "      quickchartButtonEl.classList.remove('colab-df-spinner');\n",
              "      quickchartButtonEl.classList.add('colab-df-quickchart-complete');\n",
              "    }\n",
              "    (() => {\n",
              "      let quickchartButtonEl =\n",
              "        document.querySelector('#df-5965db84-8d31-4d3d-a59c-a148b6f6777c button');\n",
              "      quickchartButtonEl.style.display =\n",
              "        google.colab.kernel.accessAllowed ? 'block' : 'none';\n",
              "    })();\n",
              "  </script>\n",
              "</div>\n",
              "\n",
              "  <div id=\"id_7fc51025-d869-4d10-8442-ed103c396e1d\">\n",
              "    <style>\n",
              "      .colab-df-generate {\n",
              "        background-color: #E8F0FE;\n",
              "        border: none;\n",
              "        border-radius: 50%;\n",
              "        cursor: pointer;\n",
              "        display: none;\n",
              "        fill: #1967D2;\n",
              "        height: 32px;\n",
              "        padding: 0 0 0 0;\n",
              "        width: 32px;\n",
              "      }\n",
              "\n",
              "      .colab-df-generate:hover {\n",
              "        background-color: #E2EBFA;\n",
              "        box-shadow: 0px 1px 2px rgba(60, 64, 67, 0.3), 0px 1px 3px 1px rgba(60, 64, 67, 0.15);\n",
              "        fill: #174EA6;\n",
              "      }\n",
              "\n",
              "      [theme=dark] .colab-df-generate {\n",
              "        background-color: #3B4455;\n",
              "        fill: #D2E3FC;\n",
              "      }\n",
              "\n",
              "      [theme=dark] .colab-df-generate:hover {\n",
              "        background-color: #434B5C;\n",
              "        box-shadow: 0px 1px 3px 1px rgba(0, 0, 0, 0.15);\n",
              "        filter: drop-shadow(0px 1px 2px rgba(0, 0, 0, 0.3));\n",
              "        fill: #FFFFFF;\n",
              "      }\n",
              "    </style>\n",
              "    <button class=\"colab-df-generate\" onclick=\"generateWithVariable('unoccupied_house_df')\"\n",
              "            title=\"Generate code using this dataframe.\"\n",
              "            style=\"display:none;\">\n",
              "\n",
              "  <svg xmlns=\"http://www.w3.org/2000/svg\" height=\"24px\"viewBox=\"0 0 24 24\"\n",
              "       width=\"24px\">\n",
              "    <path d=\"M7,19H8.4L18.45,9,17,7.55,7,17.6ZM5,21V16.75L18.45,3.32a2,2,0,0,1,2.83,0l1.4,1.43a1.91,1.91,0,0,1,.58,1.4,1.91,1.91,0,0,1-.58,1.4L9.25,21ZM18.45,9,17,7.55Zm-12,3A5.31,5.31,0,0,0,4.9,8.1,5.31,5.31,0,0,0,1,6.5,5.31,5.31,0,0,0,4.9,4.9,5.31,5.31,0,0,0,6.5,1,5.31,5.31,0,0,0,8.1,4.9,5.31,5.31,0,0,0,12,6.5,5.46,5.46,0,0,0,6.5,12Z\"/>\n",
              "  </svg>\n",
              "    </button>\n",
              "    <script>\n",
              "      (() => {\n",
              "      const buttonEl =\n",
              "        document.querySelector('#id_7fc51025-d869-4d10-8442-ed103c396e1d button.colab-df-generate');\n",
              "      buttonEl.style.display =\n",
              "        google.colab.kernel.accessAllowed ? 'block' : 'none';\n",
              "\n",
              "      buttonEl.onclick = () => {\n",
              "        google.colab.notebook.generateWithVariable('unoccupied_house_df');\n",
              "      }\n",
              "      })();\n",
              "    </script>\n",
              "  </div>\n",
              "\n",
              "    </div>\n",
              "  </div>\n"
            ],
            "application/vnd.google.colaboratory.intrinsic+json": {
              "type": "dataframe",
              "variable_name": "unoccupied_house_df",
              "summary": "{\n  \"name\": \"unoccupied_house_df\",\n  \"rows\": 7,\n  \"fields\": [\n    {\n      \"column\": \"year\",\n      \"properties\": {\n        \"dtype\": \"number\",\n        \"std\": 2,\n        \"min\": 2008,\n        \"max\": 2014,\n        \"num_unique_values\": 7,\n        \"samples\": [\n          2008,\n          2009,\n          2013\n        ],\n        \"semantic_type\": \"\",\n        \"description\": \"\"\n      }\n    },\n    {\n      \"column\": \"Vacant House\",\n      \"properties\": {\n        \"dtype\": \"number\",\n        \"std\": 634,\n        \"min\": 2814,\n        \"max\": 4483,\n        \"num_unique_values\": 7,\n        \"samples\": [\n          4483,\n          3583,\n          4215\n        ],\n        \"semantic_type\": \"\",\n        \"description\": \"\"\n      }\n    },\n    {\n      \"column\": \"Occupied House\",\n      \"properties\": {\n        \"dtype\": \"number\",\n        \"std\": 3667,\n        \"min\": 35916,\n        \"max\": 46295,\n        \"num_unique_values\": 7,\n        \"samples\": [\n          36711,\n          35916,\n          43673\n        ],\n        \"semantic_type\": \"\",\n        \"description\": \"\"\n      }\n    },\n    {\n      \"column\": \"Percentage of Vacant House\",\n      \"properties\": {\n        \"dtype\": \"number\",\n        \"std\": 1.7269543578178104,\n        \"min\": 5.730110570363885,\n        \"max\": 10.88265281351653,\n        \"num_unique_values\": 7,\n        \"samples\": [\n          10.88265281351653,\n          9.07111572444872,\n          8.801787504176412\n        ],\n        \"semantic_type\": \"\",\n        \"description\": \"\"\n      }\n    },\n    {\n      \"column\": \"Percentage of Occupied House\",\n      \"properties\": {\n        \"dtype\": \"number\",\n        \"std\": 1.726954357817807,\n        \"min\": 89.11734718648347,\n        \"max\": 94.26988942963611,\n        \"num_unique_values\": 7,\n        \"samples\": [\n          89.11734718648347,\n          90.92888427555128,\n          91.19821249582358\n        ],\n        \"semantic_type\": \"\",\n        \"description\": \"\"\n      }\n    }\n  ]\n}"
            }
          },
          "metadata": {},
          "execution_count": 33
        }
      ]
    },
    {
      "cell_type": "code",
      "source": [
        "#Calculate and print the valued and years in which the highest number of housing units were vacant and occupied.\n",
        "no_of_max_idle_houses = max(data[data['title_field'] == 'Vacant Housing Units'].value)\n",
        "the_vacant_houses = the_vacant_houses[the_vacant_houses['value'] == no_of_max_idle_houses]\n",
        "print(the_vacant_houses)\n",
        "no_of_max_filled_houses = max(data[data['title_field'] == 'Occupied Housing Units'].value)\n",
        "no_of_max_filled_houses = the_occupied_houses[the_occupied_houses['value'] == no_of_max_filled_houses]\n",
        "print(no_of_max_filled_houses)"
      ],
      "metadata": {
        "colab": {
          "base_uri": "https://localhost:8080/"
        },
        "id": "p_Q3jiAN-rys",
        "outputId": "60ac8f4d-5d20-477e-a773-d6db276be3b4"
      },
      "execution_count": 34,
      "outputs": [
        {
          "output_type": "stream",
          "name": "stdout",
          "text": [
            "    year           title_field  value\n",
            "19  2008  Vacant Housing Units   4483\n",
            "   year             title_field  value\n",
            "2  2014  Occupied Housing Units  46295\n"
          ]
        }
      ]
    },
    {
      "cell_type": "code",
      "source": [
        "# Calculate the harmonic mean of the total housing units and print it out\n",
        "import statistics\n",
        "print(statistics.harmonic_mean(list(data[data['title_field'] == 'Total Housing Units'].value)))"
      ],
      "metadata": {
        "colab": {
          "base_uri": "https://localhost:8080/"
        },
        "id": "kqAd-NrJ-usi",
        "outputId": "f319f32e-0742-4433-9a97-15a4bf5f1d5f"
      },
      "execution_count": 35,
      "outputs": [
        {
          "output_type": "stream",
          "name": "stdout",
          "text": [
            "44398.28543969185\n"
          ]
        }
      ]
    },
    {
      "cell_type": "markdown",
      "source": [
        "# Mandatory Question\n",
        "\n",
        "Provide your thoughts on the assignment. What did you find challenging, and what aspects did you enjoy? Your opinion on the provided time to complete the assignment. Share any suggestions for improvement. Your feedback will be valuable for enhancing the learning experience."
      ],
      "metadata": {
        "id": "q8BFCvWp32cf"
      }
    },
    {
      "cell_type": "code",
      "source": [
        "# Write your response below\n",
        "\n",
        "The given assignment is very unique and challenging as it has many subdivisions in it and I enjoyed doing it and when it comes to the time management, it is very reasonable and I had a suffecient time to complete this assignment and I hope to meet the expectations of the course so far.Thanks"
      ],
      "metadata": {
        "id": "_e557s2w4BpK"
      },
      "execution_count": 15,
      "outputs": []
    }
  ],
  "metadata": {
    "colab": {
      "provenance": [],
      "include_colab_link": true
    },
    "kernelspec": {
      "display_name": "Python 3 (ipykernel)",
      "language": "python",
      "name": "python3"
    },
    "language_info": {
      "codemirror_mode": {
        "name": "ipython",
        "version": 3
      },
      "file_extension": ".py",
      "mimetype": "text/x-python",
      "name": "python",
      "nbconvert_exporter": "python",
      "pygments_lexer": "ipython3",
      "version": "3.9.12"
    }
  },
  "nbformat": 4,
  "nbformat_minor": 0
}